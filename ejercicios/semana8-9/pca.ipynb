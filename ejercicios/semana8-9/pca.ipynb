{
 "cells": [
  {
   "cell_type": "code",
   "execution_count": null,
   "metadata": {},
   "outputs": [],
   "source": [
    "import pylab\n",
    "import numpy as np\n",
    "np.seterr(all='raise')\n",
    "np.random.seed(13)\n",
    "import scipy as sp\n",
    "import pandas as pd\n",
    "import seaborn as sns; sns.set()\n",
    "import matplotlib as mpl\n",
    "import matplotlib.pyplot as plt\n",
    "# mpl.rc('text', usetex=True)\n",
    "%matplotlib inline\n",
    "from tqdm import tqdm\n",
    "\n",
    "from sklearn import datasets"
   ]
  },
  {
   "cell_type": "code",
   "execution_count": null,
   "metadata": {},
   "outputs": [],
   "source": [
    "def calc_error(res,e,names=[]):\n",
    "    tmp_i = np.zeros(len(res.x))\n",
    "    etol = e * max(1, abs(res.fun))\n",
    "    for i in range(len(res.x)):\n",
    "        tmp_i[i] = 1.0\n",
    "        hess_inv_i = res.hess_inv(tmp_i)[i]\n",
    "        uncertainty_i = np.sqrt(etol * hess_inv_i)\n",
    "        tmp_i[i] = 0.0\n",
    "        if len(names) > 0:\n",
    "            print('{0} = {1:12.4e} ± {2:.1e}'.format(names[i], res.x[i], uncertainty_i))\n",
    "        else:\n",
    "            print('x^{0} = {1:12.4e} ± {2:.1e}'.format(i, res.x[i], uncertainty_i))"
   ]
  },
  {
   "cell_type": "markdown",
   "metadata": {},
   "source": [
    "# Revisar bases de datos conocidas\n",
    "[SciKit Learn](https://scikit-learn.org/stable/datasets/index.html)\n",
    "<!-- X,Y = datasets.load_boston(return_X_y=True) -->"
   ]
  },
  {
   "cell_type": "code",
   "execution_count": null,
   "metadata": {},
   "outputs": [],
   "source": [
    "datasets.load_boston()"
   ]
  },
  {
   "cell_type": "code",
   "execution_count": null,
   "metadata": {},
   "outputs": [],
   "source": [
    "A = pd.DataFrame(datasets.load_boston().data, columns=datasets.load_boston().feature_names)\n",
    "b = pd.DataFrame(datasets.load_boston().target, columns=[\"MEDV\"])"
   ]
  },
  {
   "cell_type": "code",
   "execution_count": null,
   "metadata": {},
   "outputs": [],
   "source": [
    "A"
   ]
  },
  {
   "cell_type": "markdown",
   "metadata": {},
   "source": [
    "$$X = x_1+x_2+x_3+\\dots$$\n",
    "Mi intención,\n",
    "$$CRIM\\times x_1+ZN\\times x_2+INDUS\\times x_3+\\dots = b$$"
   ]
  },
  {
   "cell_type": "code",
   "execution_count": null,
   "metadata": {},
   "outputs": [],
   "source": [
    "Anumpy = np.matrix(A.to_numpy(dtype=np.float64))\n",
    "bnumpy = np.matrix(b.to_numpy(dtype=np.float64))"
   ]
  },
  {
   "cell_type": "code",
   "execution_count": null,
   "metadata": {},
   "outputs": [],
   "source": [
    "# %%timeit\n",
    "X_opt = np.linalg.inv(Anumpy.T*Anumpy)*Anumpy.T*bnumpy"
   ]
  },
  {
   "cell_type": "code",
   "execution_count": null,
   "metadata": {},
   "outputs": [],
   "source": [
    "print(X_opt.T)"
   ]
  },
  {
   "cell_type": "code",
   "execution_count": null,
   "metadata": {},
   "outputs": [],
   "source": [
    "sns.scatterplot(np.array(Anumpy*X_opt).flatten(),np.array(bnumpy).flatten())\n",
    "plt.plot([0,45],[0,45])"
   ]
  },
  {
   "cell_type": "code",
   "execution_count": null,
   "metadata": {},
   "outputs": [],
   "source": [
    "predicciones = np.array(Anumpy*X_opt).flatten()"
   ]
  },
  {
   "cell_type": "code",
   "execution_count": null,
   "metadata": {},
   "outputs": [],
   "source": [
    "observaciones = np.array(bnumpy).flatten()\n",
    "bbarrita = observaciones.mean()"
   ]
  },
  {
   "cell_type": "code",
   "execution_count": null,
   "metadata": {},
   "outputs": [],
   "source": [
    "r2 = (np.linalg.norm(predicciones - bbarrita)**2)/(np.linalg.norm(observaciones - bbarrita)**2)"
   ]
  },
  {
   "cell_type": "code",
   "execution_count": null,
   "metadata": {},
   "outputs": [],
   "source": [
    "r2"
   ]
  },
  {
   "cell_type": "code",
   "execution_count": null,
   "metadata": {},
   "outputs": [],
   "source": [
    "m,n = Anumpy.shape\n",
    "m"
   ]
  },
  {
   "cell_type": "code",
   "execution_count": null,
   "metadata": {},
   "outputs": [],
   "source": [
    "Atilde = (Anumpy - Anumpy.mean(axis=0))/Anumpy.std(axis=0)"
   ]
  },
  {
   "cell_type": "code",
   "execution_count": null,
   "metadata": {},
   "outputs": [],
   "source": [
    "Atilde.mean(axis=0)"
   ]
  },
  {
   "cell_type": "code",
   "execution_count": null,
   "metadata": {},
   "outputs": [],
   "source": [
    "Atilde.std(axis=0)"
   ]
  },
  {
   "cell_type": "code",
   "execution_count": null,
   "metadata": {},
   "outputs": [],
   "source": [
    "Stilde = (Atilde.T*Atilde)/m\n",
    "Stilde"
   ]
  },
  {
   "cell_type": "code",
   "execution_count": null,
   "metadata": {},
   "outputs": [],
   "source": [
    "ev,eig = np.linalg.eig(Stilde)\n",
    "idx = ev.argsort()[::-1]"
   ]
  },
  {
   "cell_type": "code",
   "execution_count": null,
   "metadata": {},
   "outputs": [],
   "source": [
    "ev[idx]"
   ]
  },
  {
   "cell_type": "code",
   "execution_count": null,
   "metadata": {},
   "outputs": [],
   "source": [
    "num_evs = 2\n",
    "eig[:,idx[:num_evs]]"
   ]
  },
  {
   "cell_type": "code",
   "execution_count": null,
   "metadata": {},
   "outputs": [],
   "source": []
  },
  {
   "cell_type": "markdown",
   "metadata": {},
   "source": [
    "# Usando librerias interesantes: Sklearn\n",
    "* [Standard Scaler](https://scikit-learn.org/stable/modules/generated/sklearn.preprocessing.StandardScaler.html): $\\tilde{x}_j=(x_j-\\mu_j)/\\sigma_j$\n",
    "* [PCA](https://scikit-learn.org/stable/modules/generated/sklearn.decomposition.PCA.html): Lo hace todo por nosotros!"
   ]
  },
  {
   "cell_type": "code",
   "execution_count": null,
   "metadata": {},
   "outputs": [],
   "source": []
  }
 ],
 "metadata": {
  "kernelspec": {
   "display_name": "fisi2028",
   "language": "python",
   "name": "fisi2028"
  },
  "language_info": {
   "codemirror_mode": {
    "name": "ipython",
    "version": 3
   },
   "file_extension": ".py",
   "mimetype": "text/x-python",
   "name": "python",
   "nbconvert_exporter": "python",
   "pygments_lexer": "ipython3",
   "version": "3.7.6"
  }
 },
 "nbformat": 4,
 "nbformat_minor": 4
}
