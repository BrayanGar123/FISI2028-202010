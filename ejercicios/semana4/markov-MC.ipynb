{
 "cells": [
  {
   "cell_type": "code",
   "execution_count": 1,
   "metadata": {},
   "outputs": [],
   "source": [
    "import numpy as np"
   ]
  },
  {
   "cell_type": "code",
   "execution_count": 2,
   "metadata": {},
   "outputs": [],
   "source": [
    "def f(x,y,mu=(0,0),sigma=(1,1.5)):\n",
    "    return np.exp(-(x-mu[0])**2/(2*sigma[0]**2)-(y-mu[1])**2/(2*sigma[1]**2))"
   ]
  },
  {
   "cell_type": "code",
   "execution_count": 37,
   "metadata": {},
   "outputs": [],
   "source": [
    "X = [0,0]\n",
    "Xlist = [X.copy()]\n",
    "iteraciones = 100000\n",
    "np.random.seed(13)\n",
    "for it in range(iteraciones):\n",
    "    # elegimos un punto aleatorio en un círculo de radio 1 centrado en X\n",
    "    r = 32323232*np.random.rand()\n",
    "    t = np.random.uniform(0,2*np.pi)\n",
    "    X_new = [X[0]+r*np.cos(t),X[1]+r*np.sin(t)]\n",
    "    #print(\"it: %d \\tX = %lf,%lf -> X_new = %lf,%lf\"%(it+1,*X,*X_new))\n",
    "    POA = np.minimum(1,f(X_new[0],X_new[1])/f(X[0],X[1]))\n",
    "    #print(\"\\tPOA =\",POA)\n",
    "    if np.random.rand() <= POA: # Realizamos el salto\n",
    "        X = X_new.copy()\n",
    "    Xlist.append(X.copy())"
   ]
  },
  {
   "cell_type": "code",
   "execution_count": 38,
   "metadata": {},
   "outputs": [],
   "source": [
    "Xlist = np.array(Xlist)"
   ]
  },
  {
   "cell_type": "code",
   "execution_count": 39,
   "metadata": {},
   "outputs": [
    {
     "data": {
      "text/plain": [
       "array([-0.06434835, -0.11455901])"
      ]
     },
     "execution_count": 39,
     "metadata": {},
     "output_type": "execute_result"
    }
   ],
   "source": [
    "Xlist.mean(axis=0)"
   ]
  },
  {
   "cell_type": "code",
   "execution_count": null,
   "metadata": {},
   "outputs": [],
   "source": []
  }
 ],
 "metadata": {
  "kernelspec": {
   "display_name": "Python [conda env:fisi2028]",
   "language": "python",
   "name": "conda-env-fisi2028-py"
  },
  "language_info": {
   "codemirror_mode": {
    "name": "ipython",
    "version": 3
   },
   "file_extension": ".py",
   "mimetype": "text/x-python",
   "name": "python",
   "nbconvert_exporter": "python",
   "pygments_lexer": "ipython3",
   "version": "3.8.1"
  }
 },
 "nbformat": 4,
 "nbformat_minor": 4
}
