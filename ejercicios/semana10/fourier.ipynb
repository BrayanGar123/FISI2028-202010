{
 "cells": [
  {
   "cell_type": "code",
   "execution_count": 1,
   "metadata": {},
   "outputs": [],
   "source": [
    "import numpy as np\n",
    "import scipy as sp\n",
    "import seaborn as sns\n",
    "import matplotlib as mpl\n",
    "import matplotlib.pyplot as plt\n",
    "%matplotlib inline"
   ]
  },
  {
   "cell_type": "code",
   "execution_count": 2,
   "metadata": {},
   "outputs": [],
   "source": [
    "def int_cuadrada_trapecio(f,a,b):\n",
    "    N = len(f)-1\n",
    "    assert a<b\n",
    "    Delta = (b-a)/N\n",
    "    x_i = np.linspace(a,b,N+1)\n",
    "    # f tiene que ser una función vectorizada\n",
    "    f_xi = f\n",
    "    # estimación media excluye el último punto\n",
    "    area = (0.5*f_xi[0]+np.sum(f_xi[1:-1])+0.5*f_xi[-1])*Delta\n",
    "    return area\n",
    "def int_cuadrada_trapecio_ASIM(x,f):\n",
    "    assert len(x)==len(f)\n",
    "    N = len(f)-1\n",
    "    # f tiene que ser una función vectorizada\n",
    "    f_xi = f\n",
    "    # estimación media excluye el último punto\n",
    "    area = 0\n",
    "    for it in range(N):\n",
    "        area += 0.5*(f_xi[it]+f_xi[it+1])*(x[it+1]-x[it])\n",
    "    return area\n",
    "def int_simpson(f,a,b): # optimizar al finalizar si es posible\n",
    "    N = len(f)-1\n",
    "    assert N%2==0\n",
    "    assert a<b\n",
    "    u2_3 = 2/3\n",
    "    u4_3 = 4/3\n",
    "    x_i = np.linspace(a,b,N+1)\n",
    "    delta = (b-a)/N\n",
    "    f_xi = f\n",
    "    f_xi[0] /=2; f_xi[-1] /=2\n",
    "    area = delta*np.sum([\n",
    "        (u2_3*f_ if index[0]%2==0 else u4_3*f_)\n",
    "        for index,f_ in np.ndenumerate(f_xi)\n",
    "    ])\n",
    "    return area"
   ]
  },
  {
   "cell_type": "markdown",
   "metadata": {},
   "source": [
    "# Señal Triangular"
   ]
  },
  {
   "cell_type": "code",
   "execution_count": 3,
   "metadata": {},
   "outputs": [],
   "source": [
    "def triangul(x,A,a,T=1,x0=0,center=1/2): # Senhal triangular de periodo 1 y definida solo entre 0 y 1\n",
    "    # T va a ser el periodo\n",
    "    assert T > 0\n",
    "    # center no puede tomar valores inferiores a 0 o mayores a 1\n",
    "    assert center >= 0 and center <= 1\n",
    "    # x0 es la fase\n",
    "    assert a>0 and a<=1\n",
    "    assert A!=0\n",
    "    # x'=x-x0 debe ser un valor entre 0 y T*a\n",
    "    xprima = x-x0\n",
    "    # toda funcion periodica f(t+T) = f(t).\n",
    "    xprima = (xprima + T) % T\n",
    "    return (A*xprima/(T*a) if xprima <= T*a else A*(1-(xprima-T*a)/(T*(1-a)))) - A*center\n",
    "triangul=np.vectorize(triangul,excluded=[1,2,3,4,5])"
   ]
  },
  {
   "cell_type": "code",
   "execution_count": 4,
   "metadata": {},
   "outputs": [],
   "source": [
    "t = np.linspace(0,6,1001)-3"
   ]
  },
  {
   "cell_type": "code",
   "execution_count": 5,
   "metadata": {},
   "outputs": [
    {
     "data": {
      "text/plain": [
       "<matplotlib.collections.PathCollection at 0x1184cdcd0>"
      ]
     },
     "execution_count": 5,
     "metadata": {},
     "output_type": "execute_result"
    },
    {
     "data": {
      "image/png": "[encoded data removed]",
      "text/plain": [
       "<Figure size 432x288 with 1 Axes>"
      ]
     },
     "metadata": {
      "needs_background": "light"
     },
     "output_type": "display_data"
    }
   ],
   "source": [
    "plt.scatter(t,triangul(t,A=1,a=1,T=3,x0=1.5,center=0))"
   ]
  },
  {
   "cell_type": "code",
   "execution_count": 6,
   "metadata": {},
   "outputs": [],
   "source": [
    "def SFourier(y,T,kMax=10):\n",
    "    # y tiene un numero determinado de datos\n",
    "    N = len(y)\n",
    "    t = np.linspace(0,T,N)\n",
    "    a = []\n",
    "    b = []\n",
    "    for k in range(kMax+1):\n",
    "        wk = 2*np.pi*k/T\n",
    "        # Usando la función de integración de trapecio con intervalos uniformes\n",
    "        ak = (2/T)*int_cuadrada_trapecio(y*np.cos(wk*t),0,T)\n",
    "        bk = (2/T)*int_cuadrada_trapecio(y*np.sin(wk*t),0,T)\n",
    "        a.append(ak)\n",
    "        b.append(bk)\n",
    "    return a,b\n",
    "def SFourier_ASIM(t,y,kMax=10):\n",
    "    T = t.max()-t.min()\n",
    "    # y tiene un numero determinado de datos\n",
    "    assert len(t)==len(y)\n",
    "    a = []\n",
    "    b = []\n",
    "    for k in range(kMax+1):\n",
    "        wk = 2*np.pi*k/T\n",
    "        # Usando la función de integración de trapecio con intervalos no uniformes\n",
    "        ak = (2/T)*int_cuadrada_trapecio_ASIM(t,y*np.cos(wk*t))\n",
    "        bk = (2/T)*int_cuadrada_trapecio_ASIM(t,y*np.sin(wk*t))\n",
    "        a.append(ak)\n",
    "        b.append(bk)\n",
    "    return a,b"
   ]
  },
  {
   "cell_type": "code",
   "execution_count": 7,
   "metadata": {},
   "outputs": [],
   "source": [
    "T = 3\n",
    "N = 1000\n",
    "t = np.linspace(0,T,N+1)\n",
    "# res_a,res_b = SFourier(triangul(t,A=1,a=1,T=T,x0=1.5,center=0),T,kMax=500)\n",
    "res_a,res_b = SFourier_ASIM(t,triangul(t,A=1,a=1,T=T,x0=1.5,center=0),kMax=500)"
   ]
  },
  {
   "cell_type": "code",
   "execution_count": 8,
   "metadata": {},
   "outputs": [
    {
     "data": {
      "text/plain": [
       "[0.9989999999999997,\n",
       " 0.001000000000000083,\n",
       " -0.0010000000000002858,\n",
       " 0.0009999999999999102,\n",
       " -0.0010000000000002346]"
      ]
     },
     "execution_count": 8,
     "metadata": {},
     "output_type": "execute_result"
    }
   ],
   "source": [
    "res_a[:5]"
   ]
  },
  {
   "cell_type": "code",
   "execution_count": 9,
   "metadata": {},
   "outputs": [
    {
     "data": {
      "text/plain": [
       "<BarContainer object of 51 artists>"
      ]
     },
     "execution_count": 9,
     "metadata": {},
     "output_type": "execute_result"
    },
    {
     "data": {
      "image/png": "[encoded data removed]",
      "text/plain": [
       "<Figure size 432x288 with 1 Axes>"
      ]
     },
     "metadata": {
      "needs_background": "light"
     },
     "output_type": "display_data"
    }
   ],
   "source": [
    "plt.bar(np.arange(50+1),res_a[:51])"
   ]
  },
  {
   "cell_type": "code",
   "execution_count": 10,
   "metadata": {},
   "outputs": [
    {
     "data": {
      "text/plain": [
       "<BarContainer object of 51 artists>"
      ]
     },
     "execution_count": 10,
     "metadata": {},
     "output_type": "execute_result"
    },
    {
     "data": {
      "image/png": "[encoded data removed]",
      "text/plain": [
       "<Figure size 432x288 with 1 Axes>"
      ]
     },
     "metadata": {
      "needs_background": "light"
     },
     "output_type": "display_data"
    }
   ],
   "source": [
    "plt.bar(np.arange(50+1),res_b[:51])"
   ]
  },
  {
   "cell_type": "code",
   "execution_count": 11,
   "metadata": {},
   "outputs": [],
   "source": [
    "def invSFourier(t,a,b,T):\n",
    "    assert len(a) == len(b)\n",
    "    Sa = 0\n",
    "    Sb = 0\n",
    "    for it in range(len(a)):\n",
    "        if it > 0:\n",
    "            wk = 2*np.pi*it/T\n",
    "            Sa += a[it]*np.cos(wk*t)\n",
    "            Sb += b[it]*np.sin(wk*t)\n",
    "    return a[0]/2 + Sa + Sb\n",
    "invTFourierV = np.vectorize(invSFourier,excluded=[1,2,3])\n",
    "def invSFourier_ASIM(t,a,b,T):\n",
    "    assert len(a) == len(b)\n",
    "    assert T > 0\n",
    "    Sa = 0\n",
    "    Sb = 0\n",
    "    for it in range(len(a)):\n",
    "        if it > 0:\n",
    "            wk = 2*np.pi*it/T\n",
    "            Sa += a[it]*np.cos(wk*t)\n",
    "            Sb += b[it]*np.sin(wk*t)\n",
    "    return a[0]/2 + Sa + Sb\n",
    "invTFourier_ASIMV = np.vectorize(invSFourier_ASIM,excluded=[1,2,3])"
   ]
  },
  {
   "cell_type": "code",
   "execution_count": 12,
   "metadata": {},
   "outputs": [
    {
     "data": {
      "text/plain": [
       "[<matplotlib.lines.Line2D at 0x122c9ac10>]"
      ]
     },
     "execution_count": 12,
     "metadata": {},
     "output_type": "execute_result"
    },
    {
     "data": {
      "image/png": "[encoded data removed]",
      "text/plain": [
       "<Figure size 432x288 with 1 Axes>"
      ]
     },
     "metadata": {
      "needs_background": "light"
     },
     "output_type": "display_data"
    }
   ],
   "source": [
    "T = 3\n",
    "N = 1000\n",
    "t = np.linspace(0,T,N+1)\n",
    "# plt.plot(t,invSFourier(t,res_a[:21],res_b[:21],T))\n",
    "plt.plot(t,invSFourier_ASIM(t,res_a[:21],res_b[:21],T))\n",
    "plt.plot(t,triangul(t,A=1,a=1,T=T,x0=1.5,center=0))"
   ]
  },
  {
   "cell_type": "code",
   "execution_count": 13,
   "metadata": {},
   "outputs": [
    {
     "data": {
      "text/plain": [
       "[<matplotlib.lines.Line2D at 0x122d5bf50>]"
      ]
     },
     "execution_count": 13,
     "metadata": {},
     "output_type": "execute_result"
    },
    {
     "data": {
      "image/png": "[encoded data removed]",
      "text/plain": [
       "<Figure size 432x288 with 1 Axes>"
      ]
     },
     "metadata": {
      "needs_background": "light"
     },
     "output_type": "display_data"
    }
   ],
   "source": [
    "# plt.plot(t,np.abs(triangul(t,A=1,a=1,T=T,x0=1.5,center=0)-invSFourier(t,res_a[:51],res_b[:51],T)))\n",
    "plt.plot(t,np.abs(triangul(t,A=1,a=1,T=T,x0=1.5,center=0)-invSFourier_ASIM(t,res_a[:51],res_b[:51],T)))"
   ]
  },
  {
   "cell_type": "code",
   "execution_count": null,
   "metadata": {},
   "outputs": [],
   "source": []
  },
  {
   "cell_type": "markdown",
   "metadata": {},
   "source": [
    "# Transformación de funciones no lineales y no \"periódicas\""
   ]
  },
  {
   "cell_type": "code",
   "execution_count": 14,
   "metadata": {},
   "outputs": [
    {
     "name": "stdout",
     "output_type": "stream",
     "text": [
      "Nuestra caja experimental!\n"
     ]
    }
   ],
   "source": [
    "print(\"Nuestra caja experimental!\")\n",
    "a = 3/2\n",
    "b = 4\n",
    "c = -3\n",
    "N=100\n",
    "x = np.linspace(0.2,10,N)\n",
    "y = a/(1+np.exp(c*(x-b)))\n",
    "x1 = x + np.random.exponential(0.01,size=N)\n",
    "y1 = y + np.random.normal(0,0.05,size=N)"
   ]
  },
  {
   "cell_type": "code",
   "execution_count": 15,
   "metadata": {},
   "outputs": [
    {
     "data": {
      "text/plain": [
       "<matplotlib.axes._subplots.AxesSubplot at 0x1228f40d0>"
      ]
     },
     "execution_count": 15,
     "metadata": {},
     "output_type": "execute_result"
    },
    {
     "data": {
      "image/png": "[encoded data removed]",
      "text/plain": [
       "<Figure size 432x288 with 1 Axes>"
      ]
     },
     "metadata": {
      "needs_background": "light"
     },
     "output_type": "display_data"
    }
   ],
   "source": [
    "sns.scatterplot(x1,y1)"
   ]
  },
  {
   "cell_type": "markdown",
   "metadata": {},
   "source": [
    "# Describir y1 vs x1 como una funcion de x1 que sea suave\n",
    "$$y_1=f(x_1)\\simeq\\frac{a_0}{2}+\\sum_{j=0}^{N_{cutoff}}\\left[a_k\\cos\\omega_k x_1+b_k\\sin\\omega_k x_1\\right]$$"
   ]
  },
  {
   "cell_type": "code",
   "execution_count": 16,
   "metadata": {},
   "outputs": [],
   "source": [
    "res_a,res_b = SFourier_ASIM(x1,y1,kMax=50)"
   ]
  },
  {
   "cell_type": "code",
   "execution_count": 17,
   "metadata": {},
   "outputs": [
    {
     "data": {
      "text/plain": [
       "<BarContainer object of 51 artists>"
      ]
     },
     "execution_count": 17,
     "metadata": {},
     "output_type": "execute_result"
    },
    {
     "data": {
      "image/png": "[encoded data removed]",
      "text/plain": [
       "<Figure size 432x288 with 1 Axes>"
      ]
     },
     "metadata": {
      "needs_background": "light"
     },
     "output_type": "display_data"
    }
   ],
   "source": [
    "plt.bar(np.arange(50+1),res_a[:51])\n",
    "plt.bar(np.arange(50+1),res_b[:51])"
   ]
  },
  {
   "cell_type": "code",
   "execution_count": 18,
   "metadata": {},
   "outputs": [
    {
     "data": {
      "text/plain": [
       "[<matplotlib.lines.Line2D at 0x122bc4d50>]"
      ]
     },
     "execution_count": 18,
     "metadata": {},
     "output_type": "execute_result"
    },
    {
     "data": {
      "image/png": "[encoded data removed]",
      "text/plain": [
       "<Figure size 432x288 with 1 Axes>"
      ]
     },
     "metadata": {
      "needs_background": "light"
     },
     "output_type": "display_data"
    }
   ],
   "source": [
    "n = 4\n",
    "plt.scatter(x1,y1)\n",
    "plt.plot(x1,invSFourier_ASIM(x1,res_a[:n+1],res_b[:n+1],10),color='orange')"
   ]
  },
  {
   "cell_type": "markdown",
   "metadata": {},
   "source": [
    "# Ahora intentemos hacer el filtro pero usando los datos y su imagen para evitar la discontinuidad en $10$"
   ]
  },
  {
   "cell_type": "code",
   "execution_count": 19,
   "metadata": {},
   "outputs": [],
   "source": [
    "x1p = np.concatenate((x1,-x1+20))\n",
    "idx = np.argsort(x1p)\n",
    "x1p = x1p[idx]\n",
    "y1p = np.concatenate((y1,y1))[idx]"
   ]
  },
  {
   "cell_type": "code",
   "execution_count": 20,
   "metadata": {},
   "outputs": [
    {
     "data": {
      "text/plain": [
       "<matplotlib.collections.PathCollection at 0x12305e550>"
      ]
     },
     "execution_count": 20,
     "metadata": {},
     "output_type": "execute_result"
    },
    {
     "data": {
      "image/png": "[encoded data removed]",
      "text/plain": [
       "<Figure size 432x288 with 1 Axes>"
      ]
     },
     "metadata": {
      "needs_background": "light"
     },
     "output_type": "display_data"
    }
   ],
   "source": [
    "plt.scatter(x1p,y1p)"
   ]
  },
  {
   "cell_type": "code",
   "execution_count": 21,
   "metadata": {},
   "outputs": [],
   "source": [
    "res_a,res_b = SFourier_ASIM(x1p,y1p,kMax=50)"
   ]
  },
  {
   "cell_type": "code",
   "execution_count": 22,
   "metadata": {},
   "outputs": [
    {
     "data": {
      "text/plain": [
       "<BarContainer object of 51 artists>"
      ]
     },
     "execution_count": 22,
     "metadata": {},
     "output_type": "execute_result"
    },
    {
     "data": {
      "image/png": "[encoded data removed]",
      "text/plain": [
       "<Figure size 432x288 with 1 Axes>"
      ]
     },
     "metadata": {
      "needs_background": "light"
     },
     "output_type": "display_data"
    }
   ],
   "source": [
    "plt.bar(np.arange(50+1),res_a[:51])\n",
    "plt.bar(np.arange(50+1),res_b[:51])"
   ]
  },
  {
   "cell_type": "code",
   "execution_count": 23,
   "metadata": {},
   "outputs": [
    {
     "data": {
      "text/plain": [
       "[<matplotlib.lines.Line2D at 0x123411950>]"
      ]
     },
     "execution_count": 23,
     "metadata": {},
     "output_type": "execute_result"
    },
    {
     "data": {
      "image/png": "[encoded data removed]",
      "text/plain": [
       "<Figure size 432x288 with 1 Axes>"
      ]
     },
     "metadata": {
      "needs_background": "light"
     },
     "output_type": "display_data"
    }
   ],
   "source": [
    "n = 4\n",
    "plt.scatter(x1,y1)\n",
    "plt.plot(x1,invSFourier_ASIM(x1,res_a[:n+1],res_b[:n+1],T=2*10),color='orange')"
   ]
  },
  {
   "cell_type": "code",
   "execution_count": null,
   "metadata": {},
   "outputs": [],
   "source": []
  }
 ],
 "metadata": {
  "kernelspec": {
   "display_name": "fisi2028",
   "language": "python",
   "name": "fisi2028"
  },
  "language_info": {
   "codemirror_mode": {
    "name": "ipython",
    "version": 3
   },
   "file_extension": ".py",
   "mimetype": "text/x-python",
   "name": "python",
   "nbconvert_exporter": "python",
   "pygments_lexer": "ipython3",
   "version": "3.7.6"
  }
 },
 "nbformat": 4,
 "nbformat_minor": 4
}
