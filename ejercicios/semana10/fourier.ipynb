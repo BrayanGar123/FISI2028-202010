{
 "cells": [
  {
   "cell_type": "code",
   "execution_count": null,
   "metadata": {},
   "outputs": [],
   "source": [
    "import numpy as np\n",
    "import scipy as sp\n",
    "import seaborn as sns\n",
    "import matplotlib as mpl\n",
    "import matplotlib.pyplot as plt\n",
    "%matplotlib inline"
   ]
  },
  {
   "cell_type": "code",
   "execution_count": null,
   "metadata": {},
   "outputs": [],
   "source": [
    "def int_cuadrada_trapecio(f,a,b):\n",
    "    N = len(f)-1\n",
    "    assert a<b\n",
    "    Delta = (b-a)/N\n",
    "    x_i = np.linspace(a,b,N+1)\n",
    "    # f tiene que ser una función vectorizada\n",
    "    f_xi = f\n",
    "    # estimación media excluye el último punto\n",
    "    area = (0.5*f_xi[0]+np.sum(f_xi[1:-1])+0.5*f_xi[-1])*Delta\n",
    "    return area\n",
    "def int_simpson(f,a,b):\n",
    "    N = len(f)-1\n",
    "    assert N%2==0\n",
    "    assert a<b\n",
    "    u2_3 = 2/3\n",
    "    u4_3 = 4/3\n",
    "    x_i = np.linspace(a,b,N+1)\n",
    "    delta = (b-a)/N\n",
    "    f_xi = f\n",
    "    f_xi[0] /=2; f_xi[-1] /=2\n",
    "    area = delta*np.sum([\n",
    "        (u2_3*f_ if index[0]%2==0 else u4_3*f_)\n",
    "        for index,f_ in np.ndenumerate(f_xi)\n",
    "    ])\n",
    "    return area"
   ]
  },
  {
   "cell_type": "markdown",
   "metadata": {},
   "source": [
    "# Señal Triangular"
   ]
  },
  {
   "cell_type": "code",
   "execution_count": null,
   "metadata": {},
   "outputs": [],
   "source": [
    "def triangul(x,A,a,T=1,x0=0,center=1/2): # Senhal triangular de periodo 1 y definida solo entre 0 y 1\n",
    "    # T va a ser el periodo\n",
    "    assert T > 0\n",
    "    # center no puede tomar valores inferiores a 0 o mayores a 1\n",
    "    assert center >= 0 and center <= 1\n",
    "    # x0 es la fase\n",
    "    assert a>0 and a<=1\n",
    "    assert A!=0\n",
    "    # x'=x-x0 debe ser un valor entre 0 y T*a\n",
    "    xprima = x-x0\n",
    "    # toda funcion periodica f(t+T) = f(t).\n",
    "    xprima = (xprima + T) % T\n",
    "    return (A*xprima/(T*a) if xprima <= T*a else A*(1-(xprima-T*a)/(T*(1-a)))) - A*center\n",
    "triangul=np.vectorize(triangul,excluded=[1,2,3,4,5])"
   ]
  },
  {
   "cell_type": "code",
   "execution_count": null,
   "metadata": {},
   "outputs": [],
   "source": [
    "t = np.linspace(0,4,1001)"
   ]
  },
  {
   "cell_type": "code",
   "execution_count": null,
   "metadata": {},
   "outputs": [],
   "source": [
    "plt.plot(t,triangul(t,1,0.5,2,1))"
   ]
  },
  {
   "cell_type": "code",
   "execution_count": null,
   "metadata": {},
   "outputs": [],
   "source": [
    "def SFourier(y,T,kMax=10):\n",
    "    # y tiene un numero determinado de datos\n",
    "    N = len(y)\n",
    "    t = np.linspace(0,T,N)\n",
    "    a = []\n",
    "    b = []\n",
    "    for k in range(kMax+1):\n",
    "        wk = 2*np.pi*k/T\n",
    "        ak = int_cuadrada_trapecio(y*np.cos(wk*t),0,T)\n",
    "        bk = int_cuadrada_trapecio(y*np.sin(wk*t),0,T)\n",
    "        a.append(ak)\n",
    "        b.append(bk)\n",
    "    return a,b"
   ]
  },
  {
   "cell_type": "code",
   "execution_count": null,
   "metadata": {},
   "outputs": [],
   "source": [
    "T = 2\n",
    "N = 100\n",
    "t = np.linspace(0,T,N+1)\n",
    "res_a,res_b = SFourier(triangul(t,1,0.5,2,1),T,kMax=100)"
   ]
  },
  {
   "cell_type": "code",
   "execution_count": null,
   "metadata": {},
   "outputs": [],
   "source": [
    "plt.bar(np.arange(100+1),res_a)"
   ]
  },
  {
   "cell_type": "code",
   "execution_count": null,
   "metadata": {},
   "outputs": [],
   "source": [
    "plt.bar(np.arange(100+1),res_b)"
   ]
  },
  {
   "cell_type": "code",
   "execution_count": null,
   "metadata": {},
   "outputs": [],
   "source": [
    "def invSFourier(t,a,b,T):\n",
    "    assert len(a) == len(b)\n",
    "    Sa = 0\n",
    "    Sb = 0\n",
    "    for it in range(len(a)):\n",
    "        if it > 0:\n",
    "            wk = 2*np.pi*it/T\n",
    "            Sa += a[it]*np.cos(wk*t)\n",
    "            Sb += b[it]*np.sin(wk*t)\n",
    "    return a[0]/2 + Sa + Sb\n",
    "invTFourierV = np.vectorize(invSFourier,excluded=[1,2,3])"
   ]
  },
  {
   "cell_type": "code",
   "execution_count": null,
   "metadata": {},
   "outputs": [],
   "source": [
    "T = 2\n",
    "N = 1000\n",
    "t = np.linspace(0,T,N+1)\n",
    "plt.plot(t,invSFourier(t,res_a[:51],res_b[:51],T))\n",
    "plt.plot(t,triangul(t,1,0.5,2,1))"
   ]
  },
  {
   "cell_type": "code",
   "execution_count": null,
   "metadata": {},
   "outputs": [],
   "source": [
    "plt.plot(t,np.abs(triangul(t,1,0.5,2,1)-invSFourier(t,res_a[:51],res_b[:51],T)))"
   ]
  },
  {
   "cell_type": "code",
   "execution_count": null,
   "metadata": {},
   "outputs": [],
   "source": []
  },
  {
   "cell_type": "code",
   "execution_count": null,
   "metadata": {},
   "outputs": [],
   "source": []
  },
  {
   "cell_type": "code",
   "execution_count": null,
   "metadata": {},
   "outputs": [],
   "source": []
  },
  {
   "cell_type": "code",
   "execution_count": null,
   "metadata": {},
   "outputs": [],
   "source": []
  },
  {
   "cell_type": "code",
   "execution_count": null,
   "metadata": {},
   "outputs": [],
   "source": []
  },
  {
   "cell_type": "code",
   "execution_count": null,
   "metadata": {},
   "outputs": [],
   "source": []
  },
  {
   "cell_type": "code",
   "execution_count": null,
   "metadata": {},
   "outputs": [],
   "source": []
  },
  {
   "cell_type": "markdown",
   "metadata": {},
   "source": [
    "# Transformación de funciones no lineales y no \"periódicas\""
   ]
  },
  {
   "cell_type": "code",
   "execution_count": null,
   "metadata": {},
   "outputs": [],
   "source": [
    "print(\"Nuestra caja experimental!\")\n",
    "a = 3/2\n",
    "b = 4\n",
    "c = -3\n",
    "N=100\n",
    "x = np.linspace(0.2,10,N)\n",
    "y = a/(1+np.exp(c*(x-b)))\n",
    "x1 = x + np.random.exponential(0.01,size=N)\n",
    "y1 = y + np.random.normal(0,0.05,size=N)\n",
    "x2 = x + np.random.normal(0,0.03,size=N)\n",
    "y2 = y + np.random.exponential(0.05,size=N)"
   ]
  },
  {
   "cell_type": "code",
   "execution_count": null,
   "metadata": {},
   "outputs": [],
   "source": [
    "sns.scatterplot(x1,y1)"
   ]
  },
  {
   "cell_type": "code",
   "execution_count": null,
   "metadata": {},
   "outputs": [],
   "source": [
    "sns.scatterplot(x2,y2)"
   ]
  }
 ],
 "metadata": {
  "kernelspec": {
   "display_name": "fisi2028",
   "language": "python",
   "name": "fisi2028"
  },
  "language_info": {
   "codemirror_mode": {
    "name": "ipython",
    "version": 3
   },
   "file_extension": ".py",
   "mimetype": "text/x-python",
   "name": "python",
   "nbconvert_exporter": "python",
   "pygments_lexer": "ipython3",
   "version": "3.7.6"
  }
 },
 "nbformat": 4,
 "nbformat_minor": 4
}
