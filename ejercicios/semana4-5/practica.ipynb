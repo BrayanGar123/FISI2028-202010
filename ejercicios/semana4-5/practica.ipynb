{
 "cells": [
  {
   "cell_type": "markdown",
   "metadata": {},
   "source": [
    "# Ejercicio 1: Pares de medias\n",
    "\n",
    "Suponga que tiene en una bolsa $N$ pares de medias de $N$ colores distintos sin color repetido. Calcule las siguientes probabilidades:\n",
    "* Probabilidad de obtener pares cuando saco 2 medias de la bolsa\n",
    "* Probabilidad de obtener pares cuando saco 3 medias de la bolsa\n",
    "* Probabilidad de obtener pares cuando saco N medias de la bolsa\n",
    "* Pregunta para pensar: Si quisiéramos determinar cuantas medias están rotas, ¿qué estrategia sugiere que sigamos?"
   ]
  },
  {
   "cell_type": "code",
   "execution_count": null,
   "metadata": {},
   "outputs": [],
   "source": []
  },
  {
   "cell_type": "markdown",
   "metadata": {},
   "source": [
    "# Ejercicio 2: Para la distribución binomial, tome el límite cuando $N\\to\\infty$ con $pN=\\lambda$, un parámetro finito. ¿Qué obtiene?\n",
    "> Haga este ejercicio numéricamente e intente hacer el mismo analíticamente"
   ]
  },
  {
   "cell_type": "code",
   "execution_count": null,
   "metadata": {},
   "outputs": [],
   "source": []
  },
  {
   "cell_type": "markdown",
   "metadata": {},
   "source": [
    "# Ejercicio 3: Calcule para la distribución exponencial $h_\\mathcal{X}(x)\\colon=f_\\mathcal{X}(x)/(1-F_\\mathcal{X}(x))$"
   ]
  },
  {
   "cell_type": "code",
   "execution_count": null,
   "metadata": {},
   "outputs": [],
   "source": []
  },
  {
   "cell_type": "markdown",
   "metadata": {},
   "source": [
    "# Ejercicio 4: Caida de alfileres\n",
    "Suponga que ud tiene un número ilimitado de alfileres de largo $l$ quienes van a caer en el suelo. El suelo esta formado por tablones de madera \"infinitamente largos\" de ancho $h$ **muy** juntos de tal manera que los alfileres no caben en la juntura de unión. Los alfileres que caen pueden o no tocar las líneas divisorias. Responda, numéricamente, ¿cual es la probabilidad que un alfiler cruce una línea cualquiera?\n",
    "\n",
    "* Halle la probabilidad para varios valores de $h$ con $l<h$\n",
    "* Halle la probabilidad para varios valores de $h$ con $l>h$\n",
    "* Grafique la probabilidad en función del cociente $\\frac{l}{h}$\n",
    "\n",
    "> Problema tipo parcial final: Realice el cálculo analítico"
   ]
  },
  {
   "cell_type": "code",
   "execution_count": null,
   "metadata": {},
   "outputs": [],
   "source": []
  },
  {
   "cell_type": "markdown",
   "metadata": {},
   "source": [
    "# Ejercicio 5: Muestrear la siguiente distribución,\n",
    "$$F_\\mathcal{X}(x)=1-\\frac{\\alpha}{x+\\alpha},$$\n",
    "y calcule el valor medio para $\\alpha=5$"
   ]
  },
  {
   "cell_type": "code",
   "execution_count": null,
   "metadata": {},
   "outputs": [],
   "source": []
  }
 ],
 "metadata": {
  "kernelspec": {
   "display_name": "Python [conda env:fisi2028]",
   "language": "python",
   "name": "conda-env-fisi2028-py"
  },
  "language_info": {
   "codemirror_mode": {
    "name": "ipython",
    "version": 3
   },
   "file_extension": ".py",
   "mimetype": "text/x-python",
   "name": "python",
   "nbconvert_exporter": "python",
   "pygments_lexer": "ipython3",
   "version": "3.8.1"
  }
 },
 "nbformat": 4,
 "nbformat_minor": 4
}
