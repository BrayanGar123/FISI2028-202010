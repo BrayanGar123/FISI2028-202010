{
 "cells": [
  {
   "cell_type": "code",
   "execution_count": 46,
   "metadata": {},
   "outputs": [],
   "source": [
    "import numpy as np\n",
    "import seaborn as sns; sns.set()\n",
    "import matplotlib as mpl\n",
    "import matplotlib.pyplot as plt\n",
    "%matplotlib inline\n",
    "from scipy import stats"
   ]
  },
  {
   "cell_type": "markdown",
   "metadata": {},
   "source": [
    "# Problema de la moneda"
   ]
  },
  {
   "cell_type": "code",
   "execution_count": 2,
   "metadata": {},
   "outputs": [],
   "source": [
    "data = np.loadtxt('moneda1.dat',dtype=np.int8,delimiter='\\t',skiprows=1)"
   ]
  },
  {
   "cell_type": "code",
   "execution_count": 3,
   "metadata": {},
   "outputs": [],
   "source": [
    "def priori(p):\n",
    "    # dado que p es un valor entre 0 y 1\n",
    "    # daremos una distribucion uniforme para p\n",
    "    if p<=1 and p>=0:\n",
    "        return 1\n",
    "    return 0\n",
    "v_priori = np.vectorize(priori)\n",
    "def likelihood(p,n,k):\n",
    "    return (p**k)*((1-p)**(n-k))"
   ]
  },
  {
   "cell_type": "code",
   "execution_count": 4,
   "metadata": {},
   "outputs": [],
   "source": [
    "# ¿Cuál es nuestra primera posterior?\n",
    "def posterior(n,k,N=1000):\n",
    "    p = np.linspace(0,1,N)\n",
    "    dx = 1/N\n",
    "    f_nonormalizada = v_priori(p)*likelihood(p,n,k)\n",
    "    suma = np.sum(f_nonormalizada*dx)\n",
    "    return p,f_nonormalizada / suma"
   ]
  },
  {
   "cell_type": "code",
   "execution_count": 33,
   "metadata": {},
   "outputs": [
    {
     "name": "stdout",
     "output_type": "stream",
     "text": [
      "Primer dato: [101  37]\n",
      "probabilidad frecuentista: 36.63%\n"
     ]
    },
    {
     "data": {
      "text/plain": [
       "Text(0.5, 1.0, 'bonito')"
      ]
     },
     "execution_count": 33,
     "metadata": {},
     "output_type": "execute_result"
    },
    {
     "data": {
      "image/png": "[encoded data removed]",
      "text/plain": [
       "<Figure size 432x288 with 1 Axes>"
      ]
     },
     "metadata": {
      "needs_background": "light"
     },
     "output_type": "display_data"
    }
   ],
   "source": [
    "dato = np.sum(data[:5],axis=0)\n",
    "print(\"Primer dato:\",dato)\n",
    "print(\"probabilidad frecuentista: %.2f%%\"%(dato[1]*100/dato[0]))\n",
    "post = posterior(dato[0],dato[1],N=100)\n",
    "ax = plt.axes()\n",
    "ax.plot(*post)\n",
    "ax.set_xlim(0,1)\n",
    "ax.set_ylim(0,np.max(post)+0.1)\n",
    "ax.set_title(\"bonito\")"
   ]
  },
  {
   "cell_type": "code",
   "execution_count": 34,
   "metadata": {},
   "outputs": [],
   "source": [
    "post = posterior(dato[0],dato[1],N=1000)"
   ]
  },
  {
   "cell_type": "code",
   "execution_count": 70,
   "metadata": {},
   "outputs": [
    {
     "data": {
      "text/plain": [
       "0.3663663663663664"
      ]
     },
     "execution_count": 70,
     "metadata": {},
     "output_type": "execute_result"
    }
   ],
   "source": [
    "pmax = np.max(post[1])\n",
    "p_optimo=post[0][post[1]==pmax][0]\n",
    "p_optimo"
   ]
  },
  {
   "cell_type": "code",
   "execution_count": 68,
   "metadata": {},
   "outputs": [
    {
     "name": "stderr",
     "output_type": "stream",
     "text": [
      "<ipython-input-68-3ff68b4cca7b>:2: RuntimeWarning: divide by zero encountered in log\n",
      "  ax.plot(((post[0][post[0]>=p_optimo]-p_optimo)**2)[:100],np.log(post[1][post[0]>=p_optimo])[:100],marker='o')\n"
     ]
    },
    {
     "data": {
      "text/plain": [
       "Text(0.5, 1.0, 'bonito')"
      ]
     },
     "execution_count": 68,
     "metadata": {},
     "output_type": "execute_result"
    },
    {
     "data": {
      "image/png": "[encoded data removed]",
      "text/plain": [
       "<Figure size 432x288 with 1 Axes>"
      ]
     },
     "metadata": {
      "needs_background": "light"
     },
     "output_type": "display_data"
    }
   ],
   "source": [
    "ax = plt.axes()\n",
    "ax.plot(((post[0][post[0]>=p_optimo]-p_optimo)**2)[:100],np.log(post[1][post[0]>=p_optimo])[:100],marker='o')\n",
    "ax.set_title(\"bonito\")"
   ]
  },
  {
   "cell_type": "code",
   "execution_count": 73,
   "metadata": {},
   "outputs": [
    {
     "name": "stdout",
     "output_type": "stream",
     "text": [
      "0.045721511934798544\n"
     ]
    },
    {
     "name": "stderr",
     "output_type": "stream",
     "text": [
      "<ipython-input-73-43bfc5d9b9ae>:7: RuntimeWarning: divide by zero encountered in log\n",
      "  y=np.log(Y[X<=p_optimo])[-100:]\n"
     ]
    }
   ],
   "source": [
    "X = post[0]\n",
    "Y = post[1]\n",
    "print(np.sqrt(\n",
    "    -1/(\n",
    "        2*stats.linregress(\n",
    "            x=((X[X<=p_optimo])[-100:]-p_optimo)**2,\n",
    "            y=np.log(Y[X<=p_optimo])[-100:]\n",
    "        )[0]\n",
    "    )\n",
    "))\n",
    "del X,Y"
   ]
  },
  {
   "cell_type": "code",
   "execution_count": 74,
   "metadata": {},
   "outputs": [
    {
     "name": "stdout",
     "output_type": "stream",
     "text": [
      "0.04918549895120727\n"
     ]
    },
    {
     "name": "stderr",
     "output_type": "stream",
     "text": [
      "<ipython-input-74-50f7894daf0a>:7: RuntimeWarning: divide by zero encountered in log\n",
      "  y=np.log(Y[X>=p_optimo])[:100]\n"
     ]
    }
   ],
   "source": [
    "X = post[0]\n",
    "Y = post[1]\n",
    "print(np.sqrt(\n",
    "    -1/(\n",
    "        2*stats.linregress(\n",
    "            x=((X[X>=p_optimo])[:100]-p_optimo)**2,\n",
    "            y=np.log(Y[X>=p_optimo])[:100]\n",
    "        )[0]\n",
    "    )\n",
    "))\n",
    "del X,Y"
   ]
  },
  {
   "cell_type": "code",
   "execution_count": null,
   "metadata": {},
   "outputs": [],
   "source": []
  },
  {
   "cell_type": "code",
   "execution_count": null,
   "metadata": {},
   "outputs": [],
   "source": []
  }
 ],
 "metadata": {
  "kernelspec": {
   "display_name": "Python [conda env:fisi2028]",
   "language": "python",
   "name": "conda-env-fisi2028-py"
  },
  "language_info": {
   "codemirror_mode": {
    "name": "ipython",
    "version": 3
   },
   "file_extension": ".py",
   "mimetype": "text/x-python",
   "name": "python",
   "nbconvert_exporter": "python",
   "pygments_lexer": "ipython3",
   "version": "3.8.1"
  }
 },
 "nbformat": 4,
 "nbformat_minor": 4
}
