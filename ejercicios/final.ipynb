{
 "cells": [
  {
   "cell_type": "markdown",
   "metadata": {},
   "source": [
    "# Examen Final\n",
    "\n",
    "Este examen final tiene 3 puntos y ud. cuenta con todo el día para entregarlo. La hora límite es Junio 1 2020 a media noche. Debe resolverlo con papel y lápiz. Puede usar todos los recursos a su disposición para ello. Confío en que ustedes no se copiarán de sus compañeros.\n",
    "\n",
    "\n",
    "## Punto 1: Probabilidad y estadística\n",
    "\n",
    "Suponga que usted tiene dos variables aleatorias contínuas $X_1$ y $X_2$ derivadas de dos distribuciones identicas e independientes. Así, $P(X_1=a) = \\rho(a)\\text{d}x_1$ y $P(X_2=b) = \\rho(b)\\text{d}x_2$.\n",
    "1. Determine $P(X_1+X_2=y)$\n",
    "1. Encuentre la distribución de probabilidad para $Y=X_1+X_2$ cuando las distribuciones corresponden a la distribución exponencial\n",
    "1. Encuentre la distribución de probabilidad para $Y=X_1+X_2$ cuando las distribuciones corresponden a la distribución normal\n",
    "\n",
    "## Punto 2: Integración numérica\n",
    "\n",
    "Suponga que usted quiere determinar la siguiente integral numéricamente\n",
    "$$\\int_{-1}^{1}(a\\,x^2+b\\,x+c)\\,\\text{d}x,$$\n",
    "donde $a$, $b$ y $c$ son números reales.\n",
    "\n",
    "1. ¿Cuál es la mejor técnica para encontrar esta integral? Justifique.\n",
    "1. Calcule numéricamente esta integral (¡a mano!)\n",
    "\n",
    "## Punto 3: Diferenciación numérica\n",
    "\n",
    "Suponga que usted tiene la solución numérica a una función $f(x)$ que satisface una ecuación diferencial unidimensional entre $[0,1]$ con $100$ particiones. Es decir que usted tiene la función $f(x)$ en $101$ puntos igualmente espaciados entre cero y uno incluyendo estos dos últimos. Los primeros 10 valores de la función son los siguientes: \n",
    "$$ \\{-0.8660254 , -0.85063797, -0.83448502, -0.81758109, -0.7999414, -0.78158181, -0.76251884, -0.74276967, -0.72235205, -0.70128436\\}.$$\n",
    "Encuentre la derivada de $f(x)$ en $x=0$ a mínimo orden $\\delta x^5$.\n",
    "\n",
    "Pista: Utilice espansiones de Taylor convenientemente y recuerde un ejercicio de diferenciación interesante que hicimos en clase."
   ]
  }
 ],
 "metadata": {
  "kernelspec": {
   "display_name": "fisi2028",
   "language": "python",
   "name": "fisi2028"
  },
  "language_info": {
   "codemirror_mode": {
    "name": "ipython",
    "version": 3
   },
   "file_extension": ".py",
   "mimetype": "text/x-python",
   "name": "python",
   "nbconvert_exporter": "python",
   "pygments_lexer": "ipython3",
   "version": "3.7.6"
  }
 },
 "nbformat": 4,
 "nbformat_minor": 4
}
