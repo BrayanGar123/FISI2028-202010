{
 "cells": [
  {
   "cell_type": "code",
   "execution_count": 1,
   "metadata": {},
   "outputs": [],
   "source": [
    "import numpy as np\n",
    "import scipy as sp"
   ]
  },
  {
   "cell_type": "code",
   "execution_count": 33,
   "metadata": {},
   "outputs": [],
   "source": [
    "def int_cuadrada_inf(f,a,b,N=100):\n",
    "    Delta = (b-a)/N\n",
    "    x_i = np.linspace(a,b,N+1)\n",
    "    # f tiene que ser una función vectorizada\n",
    "    f_xi = f(x_i)\n",
    "    # estimación inferior\n",
    "    area = np.sum(f_xi[:-1])*Delta\n",
    "    return area\n",
    "def int_cuadrada_sup(f,a,b,N=100):\n",
    "    Delta = (b-a)/N\n",
    "    x_i = np.linspace(a,b,N+1)\n",
    "    # f tiene que ser una función vectorizada\n",
    "    f_xi = f(x_i)\n",
    "    # estimación superior\n",
    "    area = np.sum(f_xi[1:])*Delta\n",
    "    return area\n",
    "def int_cuadrada_media(f,a,b,N=100):\n",
    "    Delta = (b-a)/N\n",
    "    x_i = np.linspace(a,b,N+1)\n",
    "    # f tiene que ser una función vectorizada\n",
    "    f_xi = f(x_i+Delta/2)\n",
    "    # estimación media excluye el último punto\n",
    "    area = np.sum(f_xi[:-1])*Delta\n",
    "    return area\n",
    "def int_cuadrada_trapecio(f,a,b,N=100):\n",
    "    Delta = (b-a)/N\n",
    "    x_i = np.linspace(a,b,N+1)\n",
    "    # f tiene que ser una función vectorizada\n",
    "    f_xi = f(x_i)\n",
    "    # estimación media excluye el último punto\n",
    "    area = (0.5*f_xi[0]+np.sum(f_xi[1:-1])+0.5*f_xi[-1])*Delta\n",
    "    return area\n",
    "def int_cuadrada_trapecio2(f,a,b,N=100):\n",
    "    area = (int_cuadrada_inf(f,a,b,N)+int_cuadrada_sup(f,a,b,N))/2\n",
    "    return area"
   ]
  },
  {
   "cell_type": "code",
   "execution_count": 36,
   "metadata": {},
   "outputs": [
    {
     "name": "stdout",
     "output_type": "stream",
     "text": [
      "15.8 ms ± 487 µs per loop (mean ± std. dev. of 7 runs, 100 loops each)\n"
     ]
    }
   ],
   "source": [
    "%%timeit\n",
    "# nuestra función a integrar es sqrt(tan(x))\n",
    "int_cuadrada_trapecio(np.sqrt,0,1,N=1000000) ### R// 2/3"
   ]
  },
  {
   "cell_type": "code",
   "execution_count": 37,
   "metadata": {},
   "outputs": [
    {
     "name": "stdout",
     "output_type": "stream",
     "text": [
      "33.9 ms ± 1.59 ms per loop (mean ± std. dev. of 7 runs, 10 loops each)\n"
     ]
    }
   ],
   "source": [
    "%%timeit\n",
    "# nuestra función a integrar es sqrt(tan(x))\n",
    "int_cuadrada_trapecio2(np.sqrt,0,1,N=1000000) ### R// 2/3"
   ]
  },
  {
   "cell_type": "code",
   "execution_count": 4,
   "metadata": {},
   "outputs": [],
   "source": []
  },
  {
   "cell_type": "code",
   "execution_count": 22,
   "metadata": {},
   "outputs": [
    {
     "data": {
      "text/plain": [
       "array([0. , 0.1, 0.2, 0.3, 0.4, 0.5, 0.6, 0.7, 0.8, 0.9, 1. ])"
      ]
     },
     "execution_count": 22,
     "metadata": {},
     "output_type": "execute_result"
    }
   ],
   "source": [
    "np.linspace(0,1,11)"
   ]
  },
  {
   "cell_type": "code",
   "execution_count": 16,
   "metadata": {},
   "outputs": [],
   "source": [
    "def int_simpson(f,a,b,N=100):\n",
    "    assert N%2==0\n",
    "    assert a<b\n",
    "    assert callable(f)\n",
    "    u2_3 = 2/3\n",
    "    u4_3 = 4/3\n",
    "    x_i = np.linspace(a,b,N+1)\n",
    "    delta = (b-a)/N\n",
    "    f_xi = f(x_i)\n",
    "    f_xi[0] /=2; f_xi[-1] /=2\n",
    "    area = delta*np.sum([\n",
    "        (u2_3*f_ if index[0]%2==0 else u4_3*f_)\n",
    "        for index,f_ in np.ndenumerate(f_xi)\n",
    "    ])\n",
    "    return area"
   ]
  },
  {
   "cell_type": "code",
   "execution_count": 9,
   "metadata": {},
   "outputs": [],
   "source": [
    "def sqrtTan(x):\n",
    "    return np.sqrt(np.tan(x))\n",
    "V_sqrtTan = np.vectorize(sqrtTan)"
   ]
  },
  {
   "cell_type": "code",
   "execution_count": 24,
   "metadata": {},
   "outputs": [
    {
     "data": {
      "text/plain": [
       "2.2203835974064865"
      ]
     },
     "execution_count": 24,
     "metadata": {},
     "output_type": "execute_result"
    }
   ],
   "source": [
    "epsilon=1/10000;int_simpson(sqrtTan,0,np.pi/2-epsilon,N=1000)"
   ]
  },
  {
   "cell_type": "code",
   "execution_count": null,
   "metadata": {},
   "outputs": [],
   "source": [
    "epsilon = 1-np.linspace(0,1,100001)\n",
    "intsqrttan = np.array([int_simpson(sqrtTan,0,np.pi/2-eps,N=1000) for eps in epsilon])"
   ]
  },
  {
   "cell_type": "code",
   "execution_count": null,
   "metadata": {},
   "outputs": [],
   "source": [
    "plt.plot(epsilon,intsqrttan)"
   ]
  },
  {
   "cell_type": "code",
   "execution_count": 50,
   "metadata": {},
   "outputs": [],
   "source": [
    "# primer intento Cuadraturas de Gauss\n",
    "def int_gauss3(f,x1,x2,x3,x4):\n",
    "    mV = np.matrix([\n",
    "        [1,1,1,1],\n",
    "        [x1,x2,x3,x4],\n",
    "        [x1**2,x2**2,x3**2,x4**2],\n",
    "        [x1**3,x2**3,x3**3,x4**3]\n",
    "    ])\n",
    "    B = np.matrix([\n",
    "        [2],\n",
    "        [0],\n",
    "        [2/3],\n",
    "        [0]\n",
    "    ])\n",
    "    C=(np.linalg.inv(mV)*B).T\n",
    "    print(\"Vector de C's:\",C)\n",
    "    area = C[0,0]*f(x1)+C[0,1]*f(x2)+C[0,2]*f(x3)+C[0,3]*f(x4)\n",
    "    return area"
   ]
  },
  {
   "cell_type": "code",
   "execution_count": 2,
   "metadata": {},
   "outputs": [],
   "source": [
    "def cos2(x):\n",
    "    return np.cos(x)**2\n",
    "def sec(x):\n",
    "    return 1/np.cos(x)"
   ]
  },
  {
   "cell_type": "code",
   "execution_count": 59,
   "metadata": {},
   "outputs": [
    {
     "name": "stdout",
     "output_type": "stream",
     "text": [
      "Vector de C's: [[0.65214515 0.34785485 0.65214515 0.34785485]]\n"
     ]
    },
    {
     "data": {
      "text/plain": [
       "1.4546153354356177"
      ]
     },
     "execution_count": 59,
     "metadata": {},
     "output_type": "execute_result"
    }
   ],
   "source": [
    "int_gauss3(cos2,-0.339981043584856,-0.86113631159405,0.339981043584856,0.86113631159405)"
   ]
  },
  {
   "cell_type": "code",
   "execution_count": 60,
   "metadata": {},
   "outputs": [
    {
     "name": "stdout",
     "output_type": "stream",
     "text": [
      "Vector de C's: [[0.65214515 0.34785485 0.65214515 0.34785485]]\n"
     ]
    },
    {
     "data": {
      "text/plain": [
       "2.451213216786557"
      ]
     },
     "execution_count": 60,
     "metadata": {},
     "output_type": "execute_result"
    }
   ],
   "source": [
    "int_gauss3(sec,-0.339981043584856,-0.86113631159405,0.339981043584856,0.86113631159405)"
   ]
  },
  {
   "cell_type": "code",
   "execution_count": 58,
   "metadata": {},
   "outputs": [
    {
     "name": "stdout",
     "output_type": "stream",
     "text": [
      "Vector de C's: [[ -23.47373784   76.54333511 -126.72507116   75.65547389]]\n"
     ]
    },
    {
     "data": {
      "text/plain": [
       "0.3624466267688007"
      ]
     },
     "execution_count": 58,
     "metadata": {},
     "output_type": "execute_result"
    }
   ],
   "source": [
    "int_gauss3(sec,-1,-np.pi/4,-np.pi/6,-np.pi/8)"
   ]
  },
  {
   "cell_type": "markdown",
   "metadata": {},
   "source": [
    "# Scipy para [Cuadraturas Gausianas](https://docs.scipy.org/doc/scipy-0.14.0/reference/generated/scipy.integrate.quadrature.html)"
   ]
  },
  {
   "cell_type": "code",
   "execution_count": 10,
   "metadata": {},
   "outputs": [
    {
     "name": "stdout",
     "output_type": "stream",
     "text": [
      "1.454648713412841\n"
     ]
    },
    {
     "data": {
      "text/plain": [
       "(1.4546487134292152, 2.955303335383519e-09)"
      ]
     },
     "execution_count": 10,
     "metadata": {},
     "output_type": "execute_result"
    }
   ],
   "source": [
    "from scipy.integrate import quadrature\n",
    "print(1+np.sin(2)/2)\n",
    "quadrature(cos2,-1,1,maxiter=10)"
   ]
  },
  {
   "cell_type": "markdown",
   "metadata": {},
   "source": [
    "# Monte Carlo Integration\n",
    "\n",
    "$$\\pi=4\\int_{0}^{1}\\sqrt{1-x^2}\\text{d}x$$"
   ]
  },
  {
   "cell_type": "code",
   "execution_count": 11,
   "metadata": {},
   "outputs": [],
   "source": [
    "def f(x):\n",
    "    return 4*np.sqrt(1-x**2)"
   ]
  },
  {
   "cell_type": "code",
   "execution_count": 16,
   "metadata": {},
   "outputs": [
    {
     "name": "stdout",
     "output_type": "stream",
     "text": [
      "Monte Carlo pi: 3.140421150211313\n"
     ]
    }
   ],
   "source": [
    "x = np.random.uniform(size=1000000)\n",
    "print(\"Monte Carlo pi:\",f(x).mean())\n",
    "del x"
   ]
  },
  {
   "cell_type": "code",
   "execution_count": null,
   "metadata": {},
   "outputs": [],
   "source": []
  }
 ],
 "metadata": {
  "kernelspec": {
   "display_name": "Python [conda env:fisi2028]",
   "language": "python",
   "name": "conda-env-fisi2028-py"
  },
  "language_info": {
   "codemirror_mode": {
    "name": "ipython",
    "version": 3
   },
   "file_extension": ".py",
   "mimetype": "text/x-python",
   "name": "python",
   "nbconvert_exporter": "python",
   "pygments_lexer": "ipython3",
   "version": "3.8.1"
  }
 },
 "nbformat": 4,
 "nbformat_minor": 4
}
