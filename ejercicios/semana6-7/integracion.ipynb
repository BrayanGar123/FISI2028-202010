{
 "cells": [
  {
   "cell_type": "code",
   "execution_count": 1,
   "metadata": {},
   "outputs": [],
   "source": [
    "import numpy as np\n",
    "import scipy as sp"
   ]
  },
  {
   "cell_type": "code",
   "execution_count": 33,
   "metadata": {},
   "outputs": [],
   "source": [
    "def int_cuadrada_inf(f,a,b,N=100):\n",
    "    Delta = (b-a)/N\n",
    "    x_i = np.linspace(a,b,N+1)\n",
    "    # f tiene que ser una función vectorizada\n",
    "    f_xi = f(x_i)\n",
    "    # estimación inferior\n",
    "    area = np.sum(f_xi[:-1])*Delta\n",
    "    return area\n",
    "def int_cuadrada_sup(f,a,b,N=100):\n",
    "    Delta = (b-a)/N\n",
    "    x_i = np.linspace(a,b,N+1)\n",
    "    # f tiene que ser una función vectorizada\n",
    "    f_xi = f(x_i)\n",
    "    # estimación superior\n",
    "    area = np.sum(f_xi[1:])*Delta\n",
    "    return area\n",
    "def int_cuadrada_media(f,a,b,N=100):\n",
    "    Delta = (b-a)/N\n",
    "    x_i = np.linspace(a,b,N+1)\n",
    "    # f tiene que ser una función vectorizada\n",
    "    f_xi = f(x_i+Delta/2)\n",
    "    # estimación media excluye el último punto\n",
    "    area = np.sum(f_xi[:-1])*Delta\n",
    "    return area\n",
    "def int_cuadrada_trapecio(f,a,b,N=100):\n",
    "    Delta = (b-a)/N\n",
    "    x_i = np.linspace(a,b,N+1)\n",
    "    # f tiene que ser una función vectorizada\n",
    "    f_xi = f(x_i)\n",
    "    # estimación media excluye el último punto\n",
    "    area = (0.5*f_xi[0]+np.sum(f_xi[1:-1])+0.5*f_xi[-1])*Delta\n",
    "    return area\n",
    "def int_cuadrada_trapecio2(f,a,b,N=100):\n",
    "    area = (int_cuadrada_inf(f,a,b,N)+int_cuadrada_sup(f,a,b,N))/2\n",
    "    return area"
   ]
  },
  {
   "cell_type": "code",
   "execution_count": 36,
   "metadata": {},
   "outputs": [
    {
     "name": "stdout",
     "output_type": "stream",
     "text": [
      "15.8 ms ± 487 µs per loop (mean ± std. dev. of 7 runs, 100 loops each)\n"
     ]
    }
   ],
   "source": [
    "%%timeit\n",
    "# nuestra función a integrar es sqrt(tan(x))\n",
    "int_cuadrada_trapecio(np.sqrt,0,1,N=1000000) ### R// 2/3"
   ]
  },
  {
   "cell_type": "code",
   "execution_count": 37,
   "metadata": {},
   "outputs": [
    {
     "name": "stdout",
     "output_type": "stream",
     "text": [
      "33.9 ms ± 1.59 ms per loop (mean ± std. dev. of 7 runs, 10 loops each)\n"
     ]
    }
   ],
   "source": [
    "%%timeit\n",
    "# nuestra función a integrar es sqrt(tan(x))\n",
    "int_cuadrada_trapecio2(np.sqrt,0,1,N=1000000) ### R// 2/3"
   ]
  },
  {
   "cell_type": "code",
   "execution_count": 4,
   "metadata": {},
   "outputs": [],
   "source": []
  },
  {
   "cell_type": "code",
   "execution_count": 22,
   "metadata": {},
   "outputs": [
    {
     "data": {
      "text/plain": [
       "array([0. , 0.1, 0.2, 0.3, 0.4, 0.5, 0.6, 0.7, 0.8, 0.9, 1. ])"
      ]
     },
     "execution_count": 22,
     "metadata": {},
     "output_type": "execute_result"
    }
   ],
   "source": [
    "np.linspace(0,1,11)"
   ]
  },
  {
   "cell_type": "code",
   "execution_count": null,
   "metadata": {},
   "outputs": [],
   "source": []
  }
 ],
 "metadata": {
  "kernelspec": {
   "display_name": "Python [conda env:fisi2028]",
   "language": "python",
   "name": "conda-env-fisi2028-py"
  },
  "language_info": {
   "codemirror_mode": {
    "name": "ipython",
    "version": 3
   },
   "file_extension": ".py",
   "mimetype": "text/x-python",
   "name": "python",
   "nbconvert_exporter": "python",
   "pygments_lexer": "ipython3",
   "version": "3.8.1"
  }
 },
 "nbformat": 4,
 "nbformat_minor": 4
}
