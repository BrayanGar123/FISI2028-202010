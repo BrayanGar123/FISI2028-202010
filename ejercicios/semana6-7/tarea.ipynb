{
 "cells": [
  {
   "cell_type": "code",
   "execution_count": 1,
   "metadata": {},
   "outputs": [
    {
     "name": "stdin",
     "output_type": "stream",
     "text": [
      "Ingrese su código de estudiante 200810693\n"
     ]
    },
    {
     "name": "stdout",
     "output_type": "stream",
     "text": [
      "Posición inicial r_0=(x=30.6m,y=-18.9m,z=0.0m)\n"
     ]
    }
   ],
   "source": [
    "import numpy as np\n",
    "import hashlib\n",
    "\n",
    "r_0 = None\n",
    "def get_r_0(pref1='FISI',pref2='2028'):\n",
    "    '''\n",
    "        Funcion para determinar r_0 usando un algoritmo de hash\n",
    "    '''\n",
    "    global r_0\n",
    "    def get_codigo():\n",
    "        while True:\n",
    "            try:\n",
    "                c = int(input(\"Ingrese su código de estudiante\"))       \n",
    "            except ValueError:\n",
    "                print(\"El código debe ser un entero\")\n",
    "                continue\n",
    "            else:\n",
    "                if c < 300000000 and c > 190000000:\n",
    "                    return c\n",
    "                else:\n",
    "                    print(\"El código no parece ser válido. Intente nuevamente\")\n",
    "    def hasher(key, n):\n",
    "        # sum ASCII values and convert string to integer\n",
    "        lst = [ord(char) for char in list(key)]\n",
    "        return np.sum(lst) % n\n",
    "    codigo = get_codigo()\n",
    "    key1 = hashlib.sha256((pref1+str(codigo)).encode('utf-8'))\n",
    "    key2 = hashlib.sha256((pref2+str(codigo)).encode('utf-8'))\n",
    "    r_0 = np.array([\n",
    "        hasher(key1.hexdigest(),100)/10+26,\n",
    "        hasher(key2.hexdigest(),400)/10-20,\n",
    "        0\n",
    "    ])\n",
    "    print(\"Posición inicial r_0=(x=%.1fm,y=%.1fm,z=%.1fm)\"%(r_0[0],r_0[1],r_0[2]))\n",
    "get_r_0()"
   ]
  },
  {
   "cell_type": "markdown",
   "metadata": {},
   "source": [
    "# Tarea: la pelota de fútbol (Problema 1)\n",
    "<!-- * [Drag y Magnus 1](https://www.researchgate.net/publication/228375759_Soccer_ball_lift_coefficients_via_trajectory_analysis)\n",
    "* [Drag y Magnus 2](http://farside.ph.utexas.edu/teaching/329/lectures/node42.html)\n",
    "* [Drag y Magnus 3](http://fse.studenttheses.ub.rug.nl/16434/1/Bsc_appliedMath_2017_Scholte_SIO.pdf)\n",
    "* [Drag y Magnus 4](http://www.physics.usyd.edu.au/~cross/TRAJECTORIES/Sports%20Balls.pdf)\n",
    " -->\n",
    "El siguiente es un problema inspirado en el [famoso tiro libre de Roberto Carlos en el partido Francia vs. Brasil](https://youtu.be/XdL7EDKr_rk). El objetivo es anotar un gol, así que por favor vea la cancha y sus dimensiones:\n",
    "![Camp Nou](soccer.png)\n",
    "\n",
    "$$\\vec{r}=(52.5m,3.66m,2.44m)$$\n",
    "$$\\vec{r}_0=(30.6m,-18.9m,0.0m)$$\n",
    "$$\\vec{r}_{||}=(11.9m,22.56m,0.0m)$$\n",
    "\n",
    "Computacionalmente:\n",
    "$$\\vec{X}=(x,y,z,v_x,v_y,v_z)$$\n",
    "```python\n",
    "X=np.array([x,y,z,vx,vy,vz])\n",
    "```\n",
    "\n",
    "$$f(\\vec{X})=\\dot{\\vec{X}}=(v_x,v_y,v_z,0,0,-g)$$\n",
    "\n",
    "Para determinar la posición desde la cual va a realizar el lanzamiento ejecute el siguiente código `get_r_0()`; cada uno de ustedes tendrá una posición única inicial de lanzamiento. <u>El fragmento del encabezado no debe modificarlo ya que será usado para verificar los resultados</u>. Para entender mejor como funcionan los algoritmos de máscara o *hashing* por favor sigan al siguiente artículo de [David Ziganto](https://dziganto.github.io/computer%20science/data%20science/hashing/machine%20learning/python/Introduction-to-Hashing/).\n",
    "\n",
    "Teniendo en cuenta las siguientes características del balón, y las consideraciones de la cancha, determine la dirección y velocidad del lanzamiento para anotar un gol:\n",
    "* Asuma que el balón no se deforma en ningún momento de la trayectoria\n",
    "* $m=450$ gramos\n",
    "* $v_\\text{max}=183$ kmph\n",
    "* El radio de un balón es aproximadamente $r\\simeq11$ cm\n",
    "* La barrera se ajusta con los extremos de la cancha y tiene una altura aproximada de $1.80$ cm. Eso quiere decir que el balón tiene que pasar por encima de la barrera.\n",
    "* La fricción del aire, contraria a la dirección de <u>desplazamiento</u>, es $f_\\text{aire}=\\frac{1}{2}\\rho A C_D(v)v^2$ siendo $v=|\\vec{v}|$ la rapidez y $C_D(v)$ el coeficiente de arrastre que depende de la rapidez debido al flujo del aire alrededor del balón. Revisar la ecuación (3) del [artículo](https://www.researchgate.net/publication/228375759_Soccer_ball_lift_coefficients_via_trajectory_analysis) para implementarlo en el código.\n",
    "* Recomiendo usar RungeKutta4 para resolver este problema. Ud. deberá hacer varios pasos\n",
    "\n",
    "## Bono: implementar al igual que la fuerza de arrastre, la fuerza de Magnus\n",
    "\n",
    "La fuerza de Magnus es uno de los efectos más interesantes de los fluidos con un gran número de aplicaciones, incluso en lugares insospechados. Los invito a ver el siguiente [video](https://youtu.be/HvXDVapHUkQ). Otras aplicaciones están en el campo de lo deportivo. Determine la magnitud y dirección de la velocidad lineal y angular para anotar un gol dadas las siguientes consideraciones adicionales:\n",
    "\n",
    "* El momento de inercia de un eje que pasa por el centro es aproximadamente $I_0\\simeq\\frac{2}{3}m r^2$\n",
    "* El coeficiente de empuje para la fuerza de Magnus depende de la velocidad angular y vá en la dirección $\\omega\\times\\vec{v}$: ¿Cómo depende?\n",
    "* Para determinar la rapidez y la velocidad angular escoja la cota superior de energía cinética total. Es decir, $v^2+(I_0/m)\\omega^2\\leq v_\\text{max}^{2}$"
   ]
  },
  {
   "cell_type": "code",
   "execution_count": null,
   "metadata": {},
   "outputs": [],
   "source": []
  },
  {
   "cell_type": "markdown",
   "metadata": {},
   "source": [
    "# Tarea: Método de integración de Simpson (Problema 2)\n",
    "\n",
    "Debe escribir una función que realice la integración usando el método Simpson para una división espacial no uniforme del dominio de integración. La que implementamos en clase era sólo para divisiones uniformes. Pista, pruebe que esta funciona para una división uniforme y luego resuelva el problema de integrar $f(x)=x^{-1/2}$ entre $(0,1]$ escogiendo una grilla no uniforme (más pequeña cerca del cero)"
   ]
  },
  {
   "cell_type": "code",
   "execution_count": null,
   "metadata": {},
   "outputs": [],
   "source": []
  }
 ],
 "metadata": {
  "kernelspec": {
   "display_name": "fisi2028",
   "language": "python",
   "name": "fisi2028"
  },
  "language_info": {
   "codemirror_mode": {
    "name": "ipython",
    "version": 3
   },
   "file_extension": ".py",
   "mimetype": "text/x-python",
   "name": "python",
   "nbconvert_exporter": "python",
   "pygments_lexer": "ipython3",
   "version": "3.7.6"
  }
 },
 "nbformat": 4,
 "nbformat_minor": 4
}
