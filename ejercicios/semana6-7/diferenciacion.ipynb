{
 "cells": [
  {
   "cell_type": "code",
   "execution_count": 1,
   "metadata": {},
   "outputs": [],
   "source": [
    "import pylab\n",
    "import numpy as np\n",
    "np.seterr(all='raise')\n",
    "np.random.seed(13)\n",
    "import scipy as sp\n",
    "import pandas as pd\n",
    "import seaborn as sns; sns.set()\n",
    "import matplotlib as mpl\n",
    "import matplotlib.pyplot as plt\n",
    "# mpl.rc('text', usetex=True)\n",
    "%matplotlib inline\n",
    "from tqdm import tqdm"
   ]
  },
  {
   "cell_type": "markdown",
   "metadata": {},
   "source": [
    "# Vamos a implementar leapfrog\n",
    "1. La ecuación diferencial: Péndulo\n",
    "$$\\frac{d\\theta}{dt}=\\omega$$\n",
    "$$\\frac{d\\omega}{dt}=-\\frac{g}{l}\\sin\\theta$$\n",
    "2. Condiciones iniciales: $\\theta_0=0$, $\\omega_0=1$\n",
    "3. Resolvamos... desplazar $\\omega$ un tiempo $\\delta t/2$"
   ]
  },
  {
   "cell_type": "code",
   "execution_count": 2,
   "metadata": {},
   "outputs": [],
   "source": [
    "g = 9.8\n",
    "l = 1\n",
    "def alpha(t,theta,omega):\n",
    "    global g,l\n",
    "    return -(g/l)*np.sin(theta)\n",
    "def newOmega(dt,theta0,omega0,alpha):\n",
    "    assert callable(alpha)\n",
    "    alpha0 = alpha(0,theta0,omega0)\n",
    "    # nuevo angulo\n",
    "    theta = theta0 + omega0*dt+0.5*alpha0*dt**2 # Orden dt^3\n",
    "    alpha1 = alpha(dt,theta,omega0) # ojo con omega0\n",
    "    omega = omega0 + 0.25*(alpha1+alpha0)*dt\n",
    "    return omega\n",
    "def leapfrog(dt,t,theta,omega_dt2,alpha):\n",
    "    assert callable(alpha)\n",
    "    thetanuevo = theta + omega_dt2*dt\n",
    "    alpha1 = alpha(t+dt,thetanuevo,omega_dt2) # ojo con el omega\n",
    "    omeganuevo = omega_dt2 + alpha1 * dt\n",
    "    return t+dt,thetanuevo,omeganuevo"
   ]
  },
  {
   "cell_type": "code",
   "execution_count": 3,
   "metadata": {},
   "outputs": [
    {
     "data": {
      "text/plain": [
       "<matplotlib.collections.PathCollection at 0x117a29550>"
      ]
     },
     "execution_count": 3,
     "metadata": {},
     "output_type": "execute_result"
    },
    {
     "data": {
      "image/png": "[encoded data removed]",
      "text/plain": [
       "<Figure size 432x288 with 1 Axes>"
      ]
     },
     "metadata": {
      "needs_background": "light"
     },
     "output_type": "display_data"
    }
   ],
   "source": [
    "dt = 0.01\n",
    "Xlist = [[0,0,newOmega(theta0=0,dt=dt,omega0=1,alpha=alpha)]]\n",
    "for it in range(200):\n",
    "    Xlist.append(leapfrog(dt,*Xlist[-1],alpha=alpha))\n",
    "Xlist = np.array(Xlist)\n",
    "plt.scatter(Xlist[:,0],Xlist[:,1])"
   ]
  },
  {
   "cell_type": "code",
   "execution_count": 4,
   "metadata": {},
   "outputs": [
    {
     "data": {
      "text/plain": [
       "<matplotlib.collections.PathCollection at 0x11faf9590>"
      ]
     },
     "execution_count": 4,
     "metadata": {},
     "output_type": "execute_result"
    },
    {
     "data": {
      "image/png": "[encoded data removed]",
      "text/plain": [
       "<Figure size 432x288 with 1 Axes>"
      ]
     },
     "metadata": {
      "needs_background": "light"
     },
     "output_type": "display_data"
    }
   ],
   "source": [
    "plt.scatter(Xlist[:,0],Xlist[:,2])"
   ]
  },
  {
   "cell_type": "code",
   "execution_count": 5,
   "metadata": {},
   "outputs": [],
   "source": [
    "def newTheta(dt,theta0,omega0,alpha):\n",
    "    assert callable(alpha)\n",
    "    alpha0 = alpha(0,theta0,omega0)\n",
    "    # nuevo angulo\n",
    "    theta = theta0 + omega0*dt+0.5*alpha0*dt**2 # Orden dt^3\n",
    "    return theta\n",
    "def verlet(dt,t,theta,theta0,alpha):\n",
    "    assert callable(alpha)\n",
    "    alpha1 = alpha(t,theta,0) # ojo con el omega\n",
    "    thetanuevo = 2*theta - theta0 + alpha1*dt**2\n",
    "    return t+dt,thetanuevo,theta"
   ]
  },
  {
   "cell_type": "code",
   "execution_count": 6,
   "metadata": {},
   "outputs": [
    {
     "data": {
      "text/plain": [
       "<matplotlib.collections.PathCollection at 0x11fbda710>"
      ]
     },
     "execution_count": 6,
     "metadata": {},
     "output_type": "execute_result"
    },
    {
     "data": {
      "image/png": "[encoded data removed]",
      "text/plain": [
       "<Figure size 432x288 with 1 Axes>"
      ]
     },
     "metadata": {
      "needs_background": "light"
     },
     "output_type": "display_data"
    }
   ],
   "source": [
    "dt = 0.01\n",
    "Xlist = [[0,newTheta(theta0=0,dt=dt,omega0=1,alpha=alpha),0]]\n",
    "for it in range(200):\n",
    "    Xlist.append(verlet(dt,*Xlist[-1],alpha=alpha))\n",
    "Xlist = np.array(Xlist)\n",
    "plt.scatter(Xlist[:,0],Xlist[:,1])"
   ]
  },
  {
   "cell_type": "code",
   "execution_count": 7,
   "metadata": {},
   "outputs": [],
   "source": [
    "def ALPHA(X,t):\n",
    "    global g,l\n",
    "    return np.array([X[1],-(g/l)*np.sin(X[0])])\n",
    "def rungekutta4(dt,t,X,Xprima):\n",
    "    assert callable(Xprima)\n",
    "    k1 = Xprima(X,t)*dt\n",
    "    k2 = Xprima(X+k1/2,t+dt/2)*dt\n",
    "    k3 = Xprima(X+k2/2,t+dt/2)*dt\n",
    "    k4 = Xprima(X+k3,t+dt)*dt\n",
    "    return t+dt,X+(k1+2*k2+2*k3+k4)/6"
   ]
  },
  {
   "cell_type": "code",
   "execution_count": 8,
   "metadata": {},
   "outputs": [],
   "source": [
    "dt = 0.01\n",
    "Xlist = [np.array([0,1])]\n",
    "newT = 0\n",
    "for it in range(200):\n",
    "    newT,newX = rungekutta4(dt,newT,Xlist[-1],Xprima=ALPHA)\n",
    "    Xlist.append(newX)\n",
    "Xlist = np.array(Xlist)"
   ]
  },
  {
   "cell_type": "markdown",
   "metadata": {},
   "source": [
    "# Gráfica del espacio de fase para el péndulo\n",
    "$$ E = \\frac{1}{2}m v^2 + mgl(1-\\cos\\theta)$$\n",
    "Recordemos que $v=\\omega l$. Asumiendo que $m=1$, $g=9.8$ y $l=1$. Condiciones iniciales $\\theta=0$, $\\omega=1$. Cuanta es la energia inicial? $E_0=1/2$\n",
    "$$ E = \\frac{1}{2}m (\\omega l)^2 + mgl(1-\\cos\\theta)$$\n",
    "Reemplazo $l=1$ y $m=1$,\n",
    "$$ E = \\frac{1}{2}\\omega^2 + g(1-\\cos\\theta)$$\n",
    "Para las condiciones iniciales, $E=1/2$. Sin embargo, como se conserva en todo momento (en el tiempo) la energía es constante\n",
    "\n",
    "$$\\omega^2+2g(1-\\cos\\theta)=1\\to\\omega=\\sqrt{1-19.6(1-\\cos\\theta)}$$"
   ]
  },
  {
   "cell_type": "code",
   "execution_count": 23,
   "metadata": {},
   "outputs": [
    {
     "data": {
      "text/plain": [
       "[<matplotlib.lines.Line2D at 0x122342d10>]"
      ]
     },
     "execution_count": 23,
     "metadata": {},
     "output_type": "execute_result"
    },
    {
     "data": {
      "image/png": "[encoded data removed]",
      "text/plain": [
       "<Figure size 432x288 with 1 Axes>"
      ]
     },
     "metadata": {
      "needs_background": "light"
     },
     "output_type": "display_data"
    }
   ],
   "source": [
    "plt.scatter(Xlist[:,0],Xlist[:,1],alpha=0.4)\n",
    "theta_x = np.linspace(-np.arccos(1-1/19.6),np.arccos(1-1/19.6),100)\n",
    "omega_x = np.sqrt(1-19.6*(1-np.cos(theta_x)))\n",
    "plt.plot(theta_x,omega_x,color='y',lw=3)\n",
    "plt.plot(theta_x,-omega_x,color='y',lw=3)"
   ]
  },
  {
   "cell_type": "markdown",
   "metadata": {},
   "source": [
    "# ¿Cómo podríamos nosotros resolver problemas donde las condiciones de frontera no necesariamente coresponden a las condiciones iniciales? Para ello se crean dos métodos: Diferencias finitas (Elementos finitos) y Shooting.\n",
    "$$LeapFrog\\to f'(x)\\approx\\frac{f(x+\\delta x)-f(x-\\delta x)}{2\\delta x}$$\n",
    "$$Verlet\\to f''(x)\\approx\\frac{f(x+\\delta x)+f(x-\\delta x)-2f(x)}{\\delta x^2}$$\n",
    "¡Vamos a resolver el oscilador armónico simple desde un tiempo cero hasta un tiempo $T$!\n",
    "$$\\frac{d^2x}{dt^2}+\\omega^2x=0$$\n",
    "Discretizando el tiempo en $N$ particiones con (tal que $N\\delta t = T$),\n",
    "$$x(t)\\equiv\\mathbb{x}_t=(x(0),x(\\delta t),x(2\\delta t),\\dots,x(T))^\\text{T}=(x_0,x_1,x_2,\\dots,x_N)^\\text{T},$$\n",
    "la ecuación diferencial \"discretizada\" queda,\n",
    "$$x_{j+1}-2x_{j}+x_{j-1}+\\omega^2\\delta t^2x_{j}=0.$$\n",
    "Las condiciones iniciales para este problema, $x(0)=a$ y $x'(0)=b$, traducen en términos discretos,\n",
    "$$x_0=a,\\,\\,\\,x_{-1}=x_0\\left(1-\\frac{\\omega^2\\delta t^2}{2}\\right)-b\\delta t,\\,\\,\\,\\text{y}\\,\\,\\,x_{N+1}=-\\frac{\\omega^2\\delta t^2}{2}x_0-\\omega^2\\delta t^2(x_2+x_3+\\dots+x_{N-1})+(1-\\omega^2\\delta t^2)x_N+b\\delta t.$$\n",
    "Este es un sistema de $N+1$ ecuaciones lineales acopladas que se puede representar mediante una multiplicación matricial $\\mathbb{M}\\mathbb{x}_t=(\\color{red}{-x_{-1}},0,0,\\dots,0,0,\\color{red}{-x_{N+1}})^\\text{T}$ con,\n",
    "$$\\mathbb{M}(\\omega,\\delta t)=\\left(\\begin{array}{ccccccccc}\n",
    "-2 + \\omega^2\\delta t^2 & 1 & 0 & 0 & \\cdots & 0 & 0 & 0 & 0 \\\\\n",
    "1 & -2 + \\omega^2\\delta t^2 & 1 & 0 & \\cdots & 0 & 0 & 0 & 0 \\\\\n",
    "0 & 1 & -2 + \\omega^2\\delta t^2 & 1 & \\cdots & 0 & 0 & 0 & 0 \\\\\n",
    "\\vdots & \\vdots & \\vdots & \\vdots & \\ddots & \\vdots & \\vdots & \\vdots & \\vdots \\\\\n",
    "0 & 0 & 0 & 0 & \\cdots & 1 & -2 + \\omega^2\\delta t^2 & 1 & 0 \\\\\n",
    "0 & 0 & 0 & 0 & \\cdots & 0 & 1 & -2 + \\omega^2\\delta t^2 & 1 \\\\\n",
    "0 & 0 & 0 & 0 & \\cdots & 0 & 0 & 1 & -2 + \\omega^2\\delta t^2 \\\\\n",
    "\\end{array}\\right),$$\n",
    "y en el que el lado derecho tiene igualmente una dependencia de $\\mathbb{x}_t$. Luego, de manera general, podemos expresar la ecuación matricial maestra $\\mathbb{M}\\mathbb{x}_t=\\mathbb{V}+\\mathbb{\\Lambda}\\mathbb{x}_t$ donde $\\mathbb{V}$ encierra todas las constantes y $\\mathbb{\\Lambda}$ los coeficientes de las contribuciones que dependen del vector de posiciones quienes dependen completamente de las condiciones de Frontera. Finalmente, la solución para las posiciones será: $\\mathbb{x}_t=(\\mathbb{M}-\\mathbb{\\Lambda})^{-1}\\mathbb{V}$"
   ]
  },
  {
   "cell_type": "code",
   "execution_count": 48,
   "metadata": {},
   "outputs": [],
   "source": [
    "a = 0; b = 1;\n",
    "omega2 = 1\n",
    "N = 50\n",
    "T = 2*np.pi/np.sqrt(omega2)\n",
    "dt = T/N\n",
    "t = np.linspace(0,T,N+1)"
   ]
  },
  {
   "cell_type": "markdown",
   "metadata": {},
   "source": [
    "Matriz $\\mathbb{M}$"
   ]
  },
  {
   "cell_type": "code",
   "execution_count": 49,
   "metadata": {},
   "outputs": [],
   "source": [
    "M = np.zeros(shape=(N+1,N+1))\n",
    "# Agregar los términos de la ecuación diferencial\n",
    "for l in range(N+1): # l corresponde a la fila\n",
    "    if l==0:\n",
    "        M[l,l]=-2+omega2*dt**2\n",
    "        M[l,l+1]=1\n",
    "    elif l==N:\n",
    "        M[l,l-1]=1\n",
    "        M[l,l]=-2+omega2*dt**2\n",
    "    else:\n",
    "        M[l,l-1]=1\n",
    "        M[l,l]=-2+omega2*dt**2\n",
    "        M[l,l+1]=1"
   ]
  },
  {
   "cell_type": "markdown",
   "metadata": {},
   "source": [
    "Matrices $\\mathbb{V}$ y $\\mathbb{\\Lambda}$ (Opción 1) para calcular la solución $\\mathbb{x}_t$\n",
    "$$x_{-1}=\\underbrace{a\\left(1-\\frac{\\omega^2\\delta t^2}{2}\\right)-b\\delta t}_{\\mathbb{V}},\\,\\,\\,\\text{y}\\,\\,\\,x_{N+1}=\\underbrace{-\\omega^2\\delta t^2(x_2+x_3+\\dots+x_{N-1})+(1-\\omega^2\\delta t^2)x_N}_{\\mathbb{\\Lambda}}+\\underbrace{b\\delta t-\\frac{\\omega^2\\delta t^2}{2}a}_{\\mathbb{V}}.$$"
   ]
  },
  {
   "cell_type": "code",
   "execution_count": 54,
   "metadata": {},
   "outputs": [
    {
     "data": {
      "text/plain": [
       "<matplotlib.collections.PathCollection at 0x12f210710>"
      ]
     },
     "execution_count": 54,
     "metadata": {},
     "output_type": "execute_result"
    },
    {
     "data": {
      "image/png": "[encoded data removed]",
      "text/plain": [
       "<Figure size 432x288 with 1 Axes>"
      ]
     },
     "metadata": {
      "needs_background": "light"
     },
     "output_type": "display_data"
    }
   ],
   "source": [
    "# Forma 1\n",
    "LAMBDA = np.zeros(shape=(N+1,N+1))\n",
    "for l in range(N+1):\n",
    "    if l == 0:\n",
    "        LAMBDA[N,l] = 0\n",
    "    elif l == N:\n",
    "        LAMBDA[N,l] = omega2*dt**2 - 1\n",
    "    else:\n",
    "        LAMBDA[N,l] = omega2*dt**2\n",
    "V = np.zeros(shape=(N+1,1))\n",
    "V[0,0] = dt*b-a*(1-omega2*dt*dt/2); V[N,0] = -dt*b+a*(omega2*dt*dt/2);\n",
    "x_t = np.dot(np.linalg.inv(M-LAMBDA),V)\n",
    "plt.scatter(t,x_t.T[0])"
   ]
  },
  {
   "cell_type": "markdown",
   "metadata": {},
   "source": [
    "Matrices $\\mathbb{V}$ y $\\mathbb{\\Lambda}$ (Opción 2) para calcular la solución $\\mathbb{x}_t$\n",
    "$$x_{-1}=\\underbrace{-x_1}_{\\mathbb{\\Lambda}}+\\underbrace{(2-\\omega^2\\delta t^2)a}_{\\mathbb{V}},\\,\\,\\,\\text{y}\\,\\,\\,x_{N+1}=\\underbrace{(1-\\omega^2\\delta t^2)x_0-\\omega^2\\delta t^2(x_2+x_3+\\dots+x_{N-1})+(1-\\omega^2\\delta t^2)x_N}_{\\mathbb{\\Lambda}}+\\underbrace{b\\delta t+\\left(1-\\frac{\\omega^2\\delta t^2}{2}\\right)a}_{\\mathbb{V}}.$$"
   ]
  },
  {
   "cell_type": "code",
   "execution_count": 56,
   "metadata": {},
   "outputs": [
    {
     "data": {
      "text/plain": [
       "<matplotlib.collections.PathCollection at 0x12f592750>"
      ]
     },
     "execution_count": 56,
     "metadata": {},
     "output_type": "execute_result"
    },
    {
     "data": {
      "image/png": "[encoded data removed]",
      "text/plain": [
       "<Figure size 432x288 with 1 Axes>"
      ]
     },
     "metadata": {
      "needs_background": "light"
     },
     "output_type": "display_data"
    }
   ],
   "source": [
    "# Forma 2\n",
    "LAMBDA = np.zeros(shape=(N+1,N+1))\n",
    "LAMBDA[0,1] = 1\n",
    "for l in range(N+1):\n",
    "    if l == 0 or l == N:\n",
    "        LAMBDA[N,l] = omega2*dt**2 - 1\n",
    "    else:\n",
    "        LAMBDA[N,l] = omega2*dt**2\n",
    "V = np.zeros(shape=(N+1,1))\n",
    "V[0,0] = a*(omega2*dt*dt-2); V[N,0] = -dt*b+a*(1-omega2*dt*dt/2);\n",
    "Xsol = np.dot(np.linalg.inv(M-LAMBDA),V)\n",
    "plt.scatter(t,Xsol.T[0])"
   ]
  },
  {
   "cell_type": "code",
   "execution_count": null,
   "metadata": {},
   "outputs": [],
   "source": []
  },
  {
   "cell_type": "code",
   "execution_count": null,
   "metadata": {},
   "outputs": [],
   "source": []
  },
  {
   "cell_type": "markdown",
   "metadata": {},
   "source": [
    "# Pelota de fútbol\n",
    "* [Drag y Magnus 1](https://www.researchgate.net/publication/228375759_Soccer_ball_lift_coefficients_via_trajectory_analysis)\n",
    "* [Drag y Magnus 2](http://farside.ph.utexas.edu/teaching/329/lectures/node42.html)\n",
    "* [Drag y Magnus 3](http://fse.studenttheses.ub.rug.nl/16434/1/Bsc_appliedMath_2017_Scholte_SIO.pdf)\n",
    "* [Drag y Magnus 4](http://www.physics.usyd.edu.au/~cross/TRAJECTORIES/Sports%20Balls.pdf)"
   ]
  },
  {
   "cell_type": "code",
   "execution_count": null,
   "metadata": {},
   "outputs": [],
   "source": []
  }
 ],
 "metadata": {
  "kernelspec": {
   "display_name": "fisi2028",
   "language": "python",
   "name": "fisi2028"
  },
  "language_info": {
   "codemirror_mode": {
    "name": "ipython",
    "version": 3
   },
   "file_extension": ".py",
   "mimetype": "text/x-python",
   "name": "python",
   "nbconvert_exporter": "python",
   "pygments_lexer": "ipython3",
   "version": "3.7.6"
  }
 },
 "nbformat": 4,
 "nbformat_minor": 4
}
