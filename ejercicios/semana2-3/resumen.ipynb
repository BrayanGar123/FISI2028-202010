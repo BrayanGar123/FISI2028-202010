{
 "cells": [
  {
   "cell_type": "markdown",
   "metadata": {},
   "source": [
    "# La terminal e iPython: directorio de trabajo"
   ]
  },
  {
   "cell_type": "code",
   "execution_count": 1,
   "metadata": {},
   "outputs": [
    {
     "name": "stdout",
     "output_type": "stream",
     "text": [
      "/srv/userhome/jp.mallarino50/FISI2028-202010/ejercicios/semana2\n"
     ]
    }
   ],
   "source": [
    "!pwd"
   ]
  },
  {
   "cell_type": "code",
   "execution_count": 2,
   "metadata": {},
   "outputs": [],
   "source": [
    "!cd .."
   ]
  },
  {
   "cell_type": "code",
   "execution_count": 3,
   "metadata": {},
   "outputs": [
    {
     "name": "stdout",
     "output_type": "stream",
     "text": [
      "/srv/userhome/jp.mallarino50/FISI2028-202010/ejercicios/semana2\n"
     ]
    }
   ],
   "source": [
    "!pwd"
   ]
  },
  {
   "cell_type": "markdown",
   "metadata": {},
   "source": [
    "## Cambiar el directorio de trabajo? Tenemos que usar los comandos \"magic\" con `%`"
   ]
  },
  {
   "cell_type": "code",
   "execution_count": 4,
   "metadata": {},
   "outputs": [
    {
     "name": "stdout",
     "output_type": "stream",
     "text": [
      "/srv/userhome/jp.mallarino50/FISI2028-202010/ejercicios\n"
     ]
    }
   ],
   "source": [
    "%cd .."
   ]
  },
  {
   "cell_type": "code",
   "execution_count": 5,
   "metadata": {},
   "outputs": [
    {
     "name": "stdout",
     "output_type": "stream",
     "text": [
      "/srv/userhome/jp.mallarino50/FISI2028-202010/ejercicios\n"
     ]
    }
   ],
   "source": [
    "!pwd"
   ]
  },
  {
   "cell_type": "markdown",
   "metadata": {},
   "source": [
    "### Automagic? `%automagic`"
   ]
  },
  {
   "cell_type": "code",
   "execution_count": 6,
   "metadata": {},
   "outputs": [
    {
     "name": "stdout",
     "output_type": "stream",
     "text": [
      "/srv/userhome/jp.mallarino50/FISI2028-202010/ejercicios/semana2\n"
     ]
    }
   ],
   "source": [
    "cd semana2"
   ]
  },
  {
   "cell_type": "markdown",
   "metadata": {},
   "source": [
    "## Otros comandos!"
   ]
  },
  {
   "cell_type": "code",
   "execution_count": 7,
   "metadata": {},
   "outputs": [
    {
     "name": "stdout",
     "output_type": "stream",
     "text": [
      "total 48K\n",
      "drwxrwxr-x 4 jp.mallarino50 jp.mallarino50 4.0K Feb  2 21:15 .\n",
      "drwxrwxr-x 4 jp.mallarino50 jp.mallarino50 4.0K Jan 28 13:00 ..\n",
      "drwxr-xr-x 2 jp.mallarino50 jp.mallarino50 4.0K Feb  2 21:13 .empty\n",
      "drwxr-xr-x 2 jp.mallarino50 jp.mallarino50 4.0K Feb  2 21:10 .ipynb_checkpoints\n",
      "-rw-rw-r-- 1 jp.mallarino50 jp.mallarino50  105 Jan 28 13:00 requirements.txt\n",
      "-rw-rw-r-- 1 jp.mallarino50 jp.mallarino50  28K Feb  2 21:15 resumen.ipynb\n"
     ]
    }
   ],
   "source": [
    "!ls -lha"
   ]
  },
  {
   "cell_type": "markdown",
   "metadata": {},
   "source": [
    "## Info de la terminal a Python?"
   ]
  },
  {
   "cell_type": "code",
   "execution_count": 8,
   "metadata": {},
   "outputs": [],
   "source": [
    "env = !printenv"
   ]
  },
  {
   "cell_type": "code",
   "execution_count": 9,
   "metadata": {},
   "outputs": [
    {
     "name": "stdout",
     "output_type": "stream",
     "text": [
      "['TERM=xterm-color', 'SHELL=/bin/bash', 'CLICOLOR=1', 'JPY_API_TOKEN=ae6ac152e3054d26911454a8e5f4f5ae', 'CONDA_SHLVL=1', 'CONDA_PROMPT_MODIFIER=(fisi2028) ', 'USER=jp.mallarino50', 'JUPYTERHUB_BASE_URL=/jhub/', 'JUPYTERHUB_CLIENT_ID=jupyterhub-user-jp.mallarino50', 'CONDA_EXE=/srv/anaconda3/bin/conda', 'JUPYTERHUB_API_TOKEN=ae6ac152e3054d26911454a8e5f4f5ae', 'KERNEL_LAUNCH_TIMEOUT=40', 'JPY_PARENT_PID=6872', 'PAGER=cat', '_CE_CONDA=', 'PATH=/srv/anaconda3/envs/fisi2028/bin:/srv/anaconda3/condabin:/srv/anaconda3/bin:/bin:/usr/local/sbin:/usr/local/bin:/usr/sbin:/usr/bin', 'CONDA_PREFIX=/srv/anaconda3/envs/fisi2028', 'PWD=/srv/userhome/jp.mallarino50/FISI2028-202010/ejercicios/semana2', 'MPLBACKEND=module://ipykernel.pylab.backend_inline', 'JUPYTERHUB_SERVER_NAME=', 'LANG=en_US.UTF-8', 'JUPYTERHUB_API_URL=http://127.0.0.1:8081/jhub/hub/api', '_CE_M=', 'SHLVL=1', 'HOME=/srv/userhome/jp.mallarino50', 'JUPYTERHUB_USER=jp.mallarino50', 'BEAKERX_AUTOTRANSLATION_PASSWORD=A5dcthskxzPEtc4jXfhmzWLV39xaDhcnFhr80G8U49tKVlwLg8yVOscTgtZzrCvrsglieAGUziBXgOT204mQC8RQk05CUIPAWRPExTkA6l7BeGTq2XFPShTGvo5FdSKu', 'CONDA_PYTHON_EXE=/srv/anaconda3/bin/python', 'JUPYTERHUB_ACTIVITY_URL=http://127.0.0.1:8081/jhub/hub/api/users/jp.mallarino50/activity', 'CONDA_DEFAULT_ENV=fisi2028', 'JUPYTERHUB_OAUTH_CALLBACK_URL=/jhub/user/jp.mallarino50/oauth_callback', 'GIT_PAGER=cat', 'JUPYTERHUB_HOST=', 'BEAKERX_AUTOTRANSLATION_PORT=48810', 'JUPYTERHUB_SERVICE_PREFIX=/jhub/user/jp.mallarino50/', '_=/bin/printenv']\n"
     ]
    }
   ],
   "source": [
    "print(env)"
   ]
  },
  {
   "cell_type": "code",
   "execution_count": 10,
   "metadata": {},
   "outputs": [
    {
     "data": {
      "text/plain": [
       "IPython.utils.text.SList"
      ]
     },
     "execution_count": 10,
     "metadata": {},
     "output_type": "execute_result"
    }
   ],
   "source": [
    "type(env)"
   ]
  },
  {
   "cell_type": "markdown",
   "metadata": {},
   "source": [
    "## Info de Python a la terminal?"
   ]
  },
  {
   "cell_type": "code",
   "execution_count": 11,
   "metadata": {},
   "outputs": [],
   "source": [
    "msg = \"Este es un mensaje\""
   ]
  },
  {
   "cell_type": "code",
   "execution_count": 12,
   "metadata": {},
   "outputs": [
    {
     "name": "stdout",
     "output_type": "stream",
     "text": [
      "Este es un mensaje\n"
     ]
    }
   ],
   "source": [
    "!echo {msg}"
   ]
  },
  {
   "cell_type": "markdown",
   "metadata": {},
   "source": [
    "## Podemos listar los paquetes instalados? Instalar paquetes?"
   ]
  },
  {
   "cell_type": "code",
   "execution_count": 13,
   "metadata": {},
   "outputs": [
    {
     "ename": "SyntaxError",
     "evalue": "invalid syntax (<ipython-input-13-b8055a3ad329>, line 1)",
     "output_type": "error",
     "traceback": [
      "\u001b[0;36m  File \u001b[0;32m\"<ipython-input-13-b8055a3ad329>\"\u001b[0;36m, line \u001b[0;32m1\u001b[0m\n\u001b[0;31m    which conda\u001b[0m\n\u001b[0m          ^\u001b[0m\n\u001b[0;31mSyntaxError\u001b[0m\u001b[0;31m:\u001b[0m invalid syntax\n"
     ]
    }
   ],
   "source": [
    "which conda"
   ]
  },
  {
   "cell_type": "code",
   "execution_count": 14,
   "metadata": {},
   "outputs": [
    {
     "name": "stdout",
     "output_type": "stream",
     "text": [
      "Package       Version Latest Type \n",
      "------------- ------- ------ -----\n",
      "configparser  3.7.3   4.0.2  wheel\n",
      "ipykernel     5.1.3   5.1.4  wheel\n",
      "PyQt5         5.12.3  5.14.1 wheel\n",
      "PyQt5-sip     4.19.18 12.7.1 wheel\n",
      "PyQtWebEngine 5.12.1  5.14.0 wheel\n"
     ]
    }
   ],
   "source": [
    "!pip list --outdated"
   ]
  },
  {
   "cell_type": "code",
   "execution_count": 15,
   "metadata": {},
   "outputs": [
    {
     "name": "stdout",
     "output_type": "stream",
     "text": [
      "Name: ipykernel\n",
      "Version: 5.1.3\n",
      "Summary: IPython Kernel for Jupyter\n",
      "Home-page: https://ipython.org\n",
      "Author: IPython Development Team\n",
      "Author-email: ipython-dev@scipy.org\n",
      "License: BSD\n",
      "Location: /srv/anaconda3/envs/fisi2028/lib/python3.8/site-packages\n",
      "Requires: tornado, ipython, jupyter-client, traitlets\n",
      "Required-by: \n"
     ]
    }
   ],
   "source": [
    "!pip show ipykernel"
   ]
  },
  {
   "cell_type": "markdown",
   "metadata": {},
   "source": [
    "### Importancia de usar la libreria `sys` de Python: `pip` y `conda`"
   ]
  },
  {
   "cell_type": "code",
   "execution_count": 16,
   "metadata": {},
   "outputs": [
    {
     "name": "stdout",
     "output_type": "stream",
     "text": [
      "/srv/anaconda3/envs/fisi2028\n"
     ]
    }
   ],
   "source": [
    "import sys\n",
    "print(sys.prefix)"
   ]
  },
  {
   "cell_type": "code",
   "execution_count": 17,
   "metadata": {},
   "outputs": [
    {
     "name": "stdout",
     "output_type": "stream",
     "text": [
      "Collecting package metadata (current_repodata.json): done\n",
      "Solving environment: done\n",
      "\n",
      "# All requested packages already installed.\n",
      "\n"
     ]
    }
   ],
   "source": [
    "!conda install --yes --prefix {sys.prefix} pandas numpy matplotlib scikit-learn configparser scipy seaborn pytest traitlets"
   ]
  },
  {
   "cell_type": "code",
   "execution_count": 110,
   "metadata": {},
   "outputs": [
    {
     "name": "stdout",
     "output_type": "stream",
     "text": [
      "Collecting package metadata (current_repodata.json): done\n",
      "Solving environment: done\n",
      "\n",
      "## Package Plan ##\n",
      "\n",
      "  environment location: /srv/anaconda3/envs/fisi2028\n",
      "\n",
      "  added / updated specs:\n",
      "    - cython\n",
      "    - numba\n",
      "    - progressbar2\n",
      "    - tweepy\n",
      "\n",
      "\n",
      "The following packages will be downloaded:\n",
      "\n",
      "    package                    |            build\n",
      "    ---------------------------|-----------------\n",
      "    cffi-1.13.2                |   py38h8022711_0         222 KB  conda-forge\n",
      "    chardet-3.0.4              |        py38_1003         170 KB  conda-forge\n",
      "    cryptography-2.8           |   py38h72c5cf5_1         620 KB  conda-forge\n",
      "    idna-2.8                   |        py38_1000         103 KB  conda-forge\n",
      "    pycparser-2.19             |           py38_1         172 KB  conda-forge\n",
      "    pyopenssl-19.1.0           |           py38_0          83 KB  conda-forge\n",
      "    pysocks-1.7.1              |           py38_0          27 KB  conda-forge\n",
      "    requests-2.22.0            |           py38_1          84 KB  conda-forge\n",
      "    requests-oauthlib-1.2.0    |             py_0          19 KB  conda-forge\n",
      "    tweepy-3.8.0               |             py_0          26 KB  conda-forge\n",
      "    urllib3-1.25.7             |           py38_0         160 KB  conda-forge\n",
      "    ------------------------------------------------------------\n",
      "                                           Total:         1.6 MB\n",
      "\n",
      "The following NEW packages will be INSTALLED:\n",
      "\n",
      "  blinker            conda-forge/noarch::blinker-1.4-py_1\n",
      "  cffi               conda-forge/linux-64::cffi-1.13.2-py38h8022711_0\n",
      "  chardet            conda-forge/linux-64::chardet-3.0.4-py38_1003\n",
      "  cryptography       conda-forge/linux-64::cryptography-2.8-py38h72c5cf5_1\n",
      "  idna               conda-forge/linux-64::idna-2.8-py38_1000\n",
      "  oauthlib           conda-forge/noarch::oauthlib-3.0.1-py_0\n",
      "  pycparser          conda-forge/linux-64::pycparser-2.19-py38_1\n",
      "  pyjwt              conda-forge/noarch::pyjwt-1.7.1-py_0\n",
      "  pyopenssl          conda-forge/linux-64::pyopenssl-19.1.0-py38_0\n",
      "  pysocks            conda-forge/linux-64::pysocks-1.7.1-py38_0\n",
      "  requests           conda-forge/linux-64::requests-2.22.0-py38_1\n",
      "  requests-oauthlib  conda-forge/noarch::requests-oauthlib-1.2.0-py_0\n",
      "  tweepy             conda-forge/noarch::tweepy-3.8.0-py_0\n",
      "  urllib3            conda-forge/linux-64::urllib3-1.25.7-py38_0\n",
      "\n",
      "\n",
      "\n",
      "Downloading and Extracting Packages\n",
      "cryptography-2.8     | 620 KB    | ##################################### | 100% \n",
      "requests-oauthlib-1. | 19 KB     | ##################################### | 100% \n",
      "cffi-1.13.2          | 222 KB    | ##################################### | 100% \n",
      "tweepy-3.8.0         | 26 KB     | ##################################### | 100% \n",
      "chardet-3.0.4        | 170 KB    | ##################################### | 100% \n",
      "pyopenssl-19.1.0     | 83 KB     | ##################################### | 100% \n",
      "idna-2.8             | 103 KB    | ##################################### | 100% \n",
      "requests-2.22.0      | 84 KB     | ##################################### | 100% \n",
      "urllib3-1.25.7       | 160 KB    | ##################################### | 100% \n",
      "pycparser-2.19       | 172 KB    | ##################################### | 100% \n",
      "pysocks-1.7.1        | 27 KB     | ##################################### | 100% \n",
      "Preparing transaction: done\n",
      "Verifying transaction: done\n",
      "Executing transaction: done\n"
     ]
    }
   ],
   "source": [
    "!conda install --yes --prefix {sys.prefix} numba cython progressbar2 tweepy"
   ]
  },
  {
   "cell_type": "code",
   "execution_count": 19,
   "metadata": {},
   "outputs": [
    {
     "name": "stdout",
     "output_type": "stream",
     "text": [
      "Collecting package metadata (current_repodata.json): done\n",
      "Solving environment: done\n",
      "\n",
      "# All requested packages already installed.\n",
      "\n"
     ]
    }
   ],
   "source": [
    "!conda update --yes --prefix {sys.prefix} python-utils"
   ]
  },
  {
   "cell_type": "code",
   "execution_count": 20,
   "metadata": {},
   "outputs": [
    {
     "name": "stdout",
     "output_type": "stream",
     "text": [
      "/srv/anaconda3/envs/fisi2028/bin/pip\n"
     ]
    }
   ],
   "source": [
    "!which pip"
   ]
  },
  {
   "cell_type": "code",
   "execution_count": 21,
   "metadata": {},
   "outputs": [
    {
     "name": "stdout",
     "output_type": "stream",
     "text": [
      "/srv/anaconda3/envs/fisi2028/bin/python\n"
     ]
    }
   ],
   "source": [
    "print(sys.executable)"
   ]
  },
  {
   "cell_type": "code",
   "execution_count": null,
   "metadata": {},
   "outputs": [],
   "source": [
    "!{sys.executable} -m pip install pandas numpy matplotlib scikit-learn"
   ]
  },
  {
   "cell_type": "markdown",
   "metadata": {},
   "source": [
    "## Verificar existencia de paquetes?"
   ]
  },
  {
   "cell_type": "code",
   "execution_count": 22,
   "metadata": {},
   "outputs": [],
   "source": [
    "import pkg_resources\n",
    "def checkDeps(filename):\n",
    "    try:\n",
    "        with open(filename,'r') as f:\n",
    "            reqs = [line for line in f]\n",
    "        packages = \", \".join([pkg_resources.Requirement.parse(line).name for line in reqs])\n",
    "        deps = pkg_resources.require(reqs)\n",
    "        del reqs\n",
    "    except ValueError as err:\n",
    "        print(\"ERROR: Invalid requirement specifier ->\",err)\n",
    "        raise ValueError\n",
    "checkDeps(filename='requirements.txt')"
   ]
  },
  {
   "cell_type": "markdown",
   "metadata": {},
   "source": [
    "# Tipos de variables en Python y operaciones\n",
    "* `None`\n",
    "* integers, floats\n",
    "* tuples, lists\n",
    "* strings\n",
    "* unordered dictionaries and ordered dictionaries\n",
    "> Funciones convenientes:\n",
    "> * `?` o `??`\n",
    "> * `type(#var)`\n",
    "> * `dir(#var)`\n",
    "> * `isinstance(#var,<type>)`\n",
    "> * `help(<#any>)`\n",
    "> * `sys.float_info` & `sys.int_info`\n",
    "> * `del` y `sys.getsizeof(#var)`\n",
    "\n",
    "# Condicionales y ciclos: `if`, `elif`, `else`, \"one liner\", `for`, `while`\n",
    "\n",
    "# Scoping en Python y su utilidad: la sentencia `with`\n",
    "\n",
    "# Funciones,recurrencia y librerías\n",
    "\n",
    "# Numpy: Vectores y arreglos, operaciones\n",
    "\n",
    "# Visualización: [PyViz.org](https://pyviz.org/)"
   ]
  },
  {
   "cell_type": "code",
   "execution_count": 23,
   "metadata": {},
   "outputs": [],
   "source": [
    "a = 1"
   ]
  },
  {
   "cell_type": "code",
   "execution_count": 24,
   "metadata": {},
   "outputs": [
    {
     "data": {
      "text/plain": [
       "int"
      ]
     },
     "execution_count": 24,
     "metadata": {},
     "output_type": "execute_result"
    }
   ],
   "source": [
    "type(a)"
   ]
  },
  {
   "cell_type": "code",
   "execution_count": 25,
   "metadata": {},
   "outputs": [],
   "source": [
    "a = [5,4,6,2]"
   ]
  },
  {
   "cell_type": "code",
   "execution_count": 26,
   "metadata": {},
   "outputs": [
    {
     "name": "stdout",
     "output_type": "stream",
     "text": [
      "soy una lista\n"
     ]
    }
   ],
   "source": [
    "if isinstance(a,dict):\n",
    "    print(\"soy un dictionario\")\n",
    "elif isinstance(a,tuple):\n",
    "    print(\"soy una tupla\")\n",
    "elif isinstance(a,list):\n",
    "    print(\"soy una lista\")\n",
    "elif isinstance(a,str):\n",
    "    print(\"soy una cadena\")\n",
    "else:\n",
    "    raise TypeError(\"Mismatch of type\")"
   ]
  },
  {
   "cell_type": "code",
   "execution_count": 27,
   "metadata": {},
   "outputs": [
    {
     "name": "stdout",
     "output_type": "stream",
     "text": [
      "iterator: -1\n",
      "iterator: 2\n",
      "iterator: 1\n",
      "iterator: 6\n",
      "iterator: 3\n",
      "iterator: 10\n",
      "iterator: 5\n",
      "iterator: 14\n",
      "iterator: 7\n",
      "iterator: 18\n"
     ]
    }
   ],
   "source": [
    "for it in range(10):\n",
    "    it = it-1 if it%2==0 else 2*it; print(\"iterator: %ld\"%it); # Nota: el punto y coma \";\" es frecuente en C y C++, ¡en Python también se puede usar para delimitar comandos!"
   ]
  },
  {
   "cell_type": "code",
   "execution_count": 28,
   "metadata": {},
   "outputs": [
    {
     "data": {
      "text/plain": [
       "18"
      ]
     },
     "execution_count": 28,
     "metadata": {},
     "output_type": "execute_result"
    }
   ],
   "source": [
    "it"
   ]
  },
  {
   "cell_type": "code",
   "execution_count": 29,
   "metadata": {},
   "outputs": [
    {
     "name": "stdout",
     "output_type": "stream",
     "text": [
      "ipython\n",
      "traitlets>=4.3.1\n",
      "pandas\n",
      "numpy>=1.11.3\n",
      "progressbar2>=3.34.0\n",
      "matplotlib\n",
      "seaborn\n",
      "scikit-learn\n",
      "scipy\n"
     ]
    }
   ],
   "source": [
    "with open('requirements.txt', 'r') as f:\n",
    "    for line in f:\n",
    "        print(line,end='')"
   ]
  },
  {
   "cell_type": "code",
   "execution_count": 30,
   "metadata": {},
   "outputs": [
    {
     "data": {
      "text/plain": [
       "<_io.TextIOWrapper name='requirements.txt' mode='r' encoding='UTF-8'>"
      ]
     },
     "execution_count": 30,
     "metadata": {},
     "output_type": "execute_result"
    }
   ],
   "source": [
    "f"
   ]
  },
  {
   "cell_type": "code",
   "execution_count": 31,
   "metadata": {},
   "outputs": [
    {
     "ename": "ValueError",
     "evalue": "I/O operation on closed file.",
     "output_type": "error",
     "traceback": [
      "\u001b[0;31m---------------------------------------------------------------------------\u001b[0m",
      "\u001b[0;31mValueError\u001b[0m                                Traceback (most recent call last)",
      "\u001b[0;32m<ipython-input-31-f7cb5d0b51bc>\u001b[0m in \u001b[0;36m<module>\u001b[0;34m\u001b[0m\n\u001b[0;32m----> 1\u001b[0;31m \u001b[0;32mfor\u001b[0m \u001b[0mline\u001b[0m \u001b[0;32min\u001b[0m \u001b[0mf\u001b[0m\u001b[0;34m:\u001b[0m\u001b[0;34m\u001b[0m\u001b[0;34m\u001b[0m\u001b[0m\n\u001b[0m\u001b[1;32m      2\u001b[0m     \u001b[0mprint\u001b[0m\u001b[0;34m(\u001b[0m\u001b[0mline\u001b[0m\u001b[0;34m,\u001b[0m\u001b[0mend\u001b[0m\u001b[0;34m=\u001b[0m\u001b[0;34m''\u001b[0m\u001b[0;34m)\u001b[0m\u001b[0;34m\u001b[0m\u001b[0;34m\u001b[0m\u001b[0m\n",
      "\u001b[0;31mValueError\u001b[0m: I/O operation on closed file."
     ]
    }
   ],
   "source": [
    "for line in f:\n",
    "    print(line,end='')"
   ]
  },
  {
   "cell_type": "code",
   "execution_count": 32,
   "metadata": {},
   "outputs": [
    {
     "data": {
      "text/plain": [
       "['In',\n",
       " 'Out',\n",
       " '_',\n",
       " '_10',\n",
       " '_24',\n",
       " '_28',\n",
       " '_30',\n",
       " '__',\n",
       " '___',\n",
       " '__builtin__',\n",
       " '__builtins__',\n",
       " '__doc__',\n",
       " '__loader__',\n",
       " '__name__',\n",
       " '__package__',\n",
       " '__spec__',\n",
       " '_dh',\n",
       " '_exit_code',\n",
       " '_i',\n",
       " '_i1',\n",
       " '_i10',\n",
       " '_i11',\n",
       " '_i12',\n",
       " '_i13',\n",
       " '_i14',\n",
       " '_i15',\n",
       " '_i16',\n",
       " '_i17',\n",
       " '_i18',\n",
       " '_i19',\n",
       " '_i2',\n",
       " '_i20',\n",
       " '_i21',\n",
       " '_i22',\n",
       " '_i23',\n",
       " '_i24',\n",
       " '_i25',\n",
       " '_i26',\n",
       " '_i27',\n",
       " '_i28',\n",
       " '_i29',\n",
       " '_i3',\n",
       " '_i30',\n",
       " '_i31',\n",
       " '_i32',\n",
       " '_i4',\n",
       " '_i5',\n",
       " '_i6',\n",
       " '_i7',\n",
       " '_i8',\n",
       " '_i9',\n",
       " '_ih',\n",
       " '_ii',\n",
       " '_iii',\n",
       " '_oh',\n",
       " 'a',\n",
       " 'checkDeps',\n",
       " 'env',\n",
       " 'exit',\n",
       " 'f',\n",
       " 'get_ipython',\n",
       " 'it',\n",
       " 'line',\n",
       " 'msg',\n",
       " 'pkg_resources',\n",
       " 'quit',\n",
       " 'sys']"
      ]
     },
     "execution_count": 32,
     "metadata": {},
     "output_type": "execute_result"
    }
   ],
   "source": [
    "dir()"
   ]
  },
  {
   "cell_type": "code",
   "execution_count": 33,
   "metadata": {},
   "outputs": [],
   "source": [
    "b = []"
   ]
  },
  {
   "cell_type": "code",
   "execution_count": 34,
   "metadata": {},
   "outputs": [],
   "source": [
    "b.append(2)"
   ]
  },
  {
   "cell_type": "code",
   "execution_count": 35,
   "metadata": {},
   "outputs": [
    {
     "data": {
      "text/plain": [
       "[2]"
      ]
     },
     "execution_count": 35,
     "metadata": {},
     "output_type": "execute_result"
    }
   ],
   "source": [
    "b"
   ]
  },
  {
   "cell_type": "code",
   "execution_count": 36,
   "metadata": {},
   "outputs": [
    {
     "data": {
      "text/plain": [
       "['__add__',\n",
       " '__class__',\n",
       " '__contains__',\n",
       " '__delattr__',\n",
       " '__delitem__',\n",
       " '__dir__',\n",
       " '__doc__',\n",
       " '__eq__',\n",
       " '__format__',\n",
       " '__ge__',\n",
       " '__getattribute__',\n",
       " '__getitem__',\n",
       " '__gt__',\n",
       " '__hash__',\n",
       " '__iadd__',\n",
       " '__imul__',\n",
       " '__init__',\n",
       " '__init_subclass__',\n",
       " '__iter__',\n",
       " '__le__',\n",
       " '__len__',\n",
       " '__lt__',\n",
       " '__mul__',\n",
       " '__ne__',\n",
       " '__new__',\n",
       " '__reduce__',\n",
       " '__reduce_ex__',\n",
       " '__repr__',\n",
       " '__reversed__',\n",
       " '__rmul__',\n",
       " '__setattr__',\n",
       " '__setitem__',\n",
       " '__sizeof__',\n",
       " '__str__',\n",
       " '__subclasshook__',\n",
       " 'append',\n",
       " 'clear',\n",
       " 'copy',\n",
       " 'count',\n",
       " 'extend',\n",
       " 'index',\n",
       " 'insert',\n",
       " 'pop',\n",
       " 'remove',\n",
       " 'reverse',\n",
       " 'sort']"
      ]
     },
     "execution_count": 36,
     "metadata": {},
     "output_type": "execute_result"
    }
   ],
   "source": [
    "dir(b)"
   ]
  },
  {
   "cell_type": "code",
   "execution_count": 37,
   "metadata": {},
   "outputs": [
    {
     "name": "stdout",
     "output_type": "stream",
     "text": [
      "no encontre el valor\n"
     ]
    }
   ],
   "source": [
    "try:\n",
    "    b.index(1)\n",
    "except ValueError:\n",
    "    print(\"no encontre el valor\")"
   ]
  },
  {
   "cell_type": "code",
   "execution_count": 38,
   "metadata": {},
   "outputs": [],
   "source": [
    "def f1(x,y):\n",
    "    if y == 0 and x == 0:\n",
    "        a = 1\n",
    "    else:\n",
    "        a = x**y\n",
    "    return(a)"
   ]
  },
  {
   "cell_type": "code",
   "execution_count": 39,
   "metadata": {},
   "outputs": [
    {
     "data": {
      "text/plain": [
       "9"
      ]
     },
     "execution_count": 39,
     "metadata": {},
     "output_type": "execute_result"
    }
   ],
   "source": [
    "f1(y=2,x=3)"
   ]
  },
  {
   "cell_type": "code",
   "execution_count": 43,
   "metadata": {},
   "outputs": [
    {
     "data": {
      "text/plain": [
       "8"
      ]
     },
     "execution_count": 43,
     "metadata": {},
     "output_type": "execute_result"
    }
   ],
   "source": [
    "f1(2,3)"
   ]
  },
  {
   "cell_type": "code",
   "execution_count": 44,
   "metadata": {},
   "outputs": [],
   "source": [
    "d = dict(x=2,y=3)\n",
    "l = [2,3]"
   ]
  },
  {
   "cell_type": "code",
   "execution_count": 45,
   "metadata": {},
   "outputs": [
    {
     "data": {
      "text/plain": [
       "8"
      ]
     },
     "execution_count": 45,
     "metadata": {},
     "output_type": "execute_result"
    }
   ],
   "source": [
    "f1(*l)"
   ]
  },
  {
   "cell_type": "code",
   "execution_count": 46,
   "metadata": {},
   "outputs": [
    {
     "data": {
      "text/plain": [
       "8"
      ]
     },
     "execution_count": 46,
     "metadata": {},
     "output_type": "execute_result"
    }
   ],
   "source": [
    "f1(**d)"
   ]
  },
  {
   "cell_type": "code",
   "execution_count": 52,
   "metadata": {},
   "outputs": [],
   "source": [
    "def f2(x,y,n=0,*args,**kwargs):\n",
    "    print('args:',type(args))\n",
    "    print('\\t',args)\n",
    "    print('kwargs:',type(kwargs))\n",
    "    print('\\t',kwargs)\n",
    "    if n== 0:\n",
    "        return(f1(x,y))\n",
    "    else:\n",
    "        return(f1(y,x))"
   ]
  },
  {
   "cell_type": "code",
   "execution_count": 53,
   "metadata": {},
   "outputs": [
    {
     "name": "stdout",
     "output_type": "stream",
     "text": [
      "args: <class 'tuple'>\n",
      "\t ()\n",
      "kwargs: <class 'dict'>\n",
      "\t {}\n"
     ]
    },
    {
     "data": {
      "text/plain": [
       "8"
      ]
     },
     "execution_count": 53,
     "metadata": {},
     "output_type": "execute_result"
    }
   ],
   "source": [
    "f2(2,3,0)"
   ]
  },
  {
   "cell_type": "code",
   "execution_count": 54,
   "metadata": {},
   "outputs": [
    {
     "name": "stdout",
     "output_type": "stream",
     "text": [
      "args: <class 'tuple'>\n",
      "\t ()\n",
      "kwargs: <class 'dict'>\n",
      "\t {}\n"
     ]
    },
    {
     "data": {
      "text/plain": [
       "9"
      ]
     },
     "execution_count": 54,
     "metadata": {},
     "output_type": "execute_result"
    }
   ],
   "source": [
    "f2(2,3,1)"
   ]
  },
  {
   "cell_type": "code",
   "execution_count": 55,
   "metadata": {},
   "outputs": [
    {
     "name": "stdout",
     "output_type": "stream",
     "text": [
      "args: <class 'tuple'>\n",
      "\t (3, 4, 5)\n",
      "kwargs: <class 'dict'>\n",
      "\t {}\n"
     ]
    },
    {
     "data": {
      "text/plain": [
       "9"
      ]
     },
     "execution_count": 55,
     "metadata": {},
     "output_type": "execute_result"
    }
   ],
   "source": [
    "f2(2,3,1,3,4,5)"
   ]
  },
  {
   "cell_type": "code",
   "execution_count": 56,
   "metadata": {},
   "outputs": [
    {
     "ename": "SyntaxError",
     "evalue": "positional argument follows keyword argument (<ipython-input-56-2ad8b834e9d3>, line 1)",
     "output_type": "error",
     "traceback": [
      "\u001b[0;36m  File \u001b[0;32m\"<ipython-input-56-2ad8b834e9d3>\"\u001b[0;36m, line \u001b[0;32m1\u001b[0m\n\u001b[0;31m    f2(2,3,1,nam=4,3,4,5)\u001b[0m\n\u001b[0m                   ^\u001b[0m\n\u001b[0;31mSyntaxError\u001b[0m\u001b[0;31m:\u001b[0m positional argument follows keyword argument\n"
     ]
    }
   ],
   "source": [
    "f2(2,3,1,nam=4,3,4,5)"
   ]
  },
  {
   "cell_type": "code",
   "execution_count": 57,
   "metadata": {},
   "outputs": [
    {
     "name": "stdout",
     "output_type": "stream",
     "text": [
      "args: <class 'tuple'>\n",
      "\t (3, 4, 5)\n",
      "kwargs: <class 'dict'>\n",
      "\t {'nam': 4}\n"
     ]
    },
    {
     "data": {
      "text/plain": [
       "9"
      ]
     },
     "execution_count": 57,
     "metadata": {},
     "output_type": "execute_result"
    }
   ],
   "source": [
    "f2(2,3,1,3,4,5,nam=4)"
   ]
  },
  {
   "cell_type": "code",
   "execution_count": 87,
   "metadata": {},
   "outputs": [],
   "source": [
    "def factorial(n):\n",
    "    if n == 0:\n",
    "        return 1\n",
    "    return n*factorial(n-1)\n",
    "def f3(n,k,p):\n",
    "    if not (isinstance(n,int) and isinstance(k,int) and n >= k and k >=0):\n",
    "        print(\"Error\")\n",
    "        return None\n",
    "    return f1(p,k)*f1(1-p,n-k)*(factorial(n)//(factorial(n-k)*factorial(k)))"
   ]
  },
  {
   "cell_type": "code",
   "execution_count": 89,
   "metadata": {},
   "outputs": [
    {
     "name": "stdout",
     "output_type": "stream",
     "text": [
      "el 0 val= 0.0625\n",
      "el 1 val= 0.25\n",
      "el 2 val= 0.375\n",
      "el 3 val= 0.25\n",
      "el 4 val= 0.0625\n"
     ]
    }
   ],
   "source": [
    "s = 0\n",
    "for it in range(4+1):\n",
    "    print(\"el\",it,\"val=\",f3(4,it,0.5))\n",
    "    s += f3(4,it,0.5)"
   ]
  },
  {
   "cell_type": "code",
   "execution_count": 91,
   "metadata": {},
   "outputs": [
    {
     "name": "stdout",
     "output_type": "stream",
     "text": [
      "1.0\n"
     ]
    }
   ],
   "source": [
    "print(s)"
   ]
  },
  {
   "cell_type": "markdown",
   "metadata": {},
   "source": [
    "$$1,1,2,3,5,8,13,...$$"
   ]
  },
  {
   "cell_type": "code",
   "execution_count": 80,
   "metadata": {},
   "outputs": [],
   "source": [
    "def fibo(n):\n",
    "    if n==1:\n",
    "        return 1\n",
    "    if n==2:\n",
    "        return 1\n",
    "    return(fibo(n-1)+fibo(n-2))\n",
    "    "
   ]
  },
  {
   "cell_type": "code",
   "execution_count": 86,
   "metadata": {},
   "outputs": [
    {
     "data": {
      "text/plain": [
       "102334155"
      ]
     },
     "execution_count": 86,
     "metadata": {},
     "output_type": "execute_result"
    }
   ],
   "source": [
    "fibo(40)"
   ]
  },
  {
   "cell_type": "markdown",
   "metadata": {},
   "source": [
    "# ¿Cómo verificamos las variables que tenemos *cargadas* en el entorno?"
   ]
  },
  {
   "cell_type": "code",
   "execution_count": 58,
   "metadata": {},
   "outputs": [
    {
     "name": "stdout",
     "output_type": "stream",
     "text": [
      "[('env', 360), ('d', 232), ('f', 208), ('checkDeps', 136), ('f1', 136), ('f2', 136), ('a', 88), ('b', 88), ('l', 72), ('msg', 67), ('line', 55), ('it', 28)]\n"
     ]
    }
   ],
   "source": [
    "import sys\n",
    "# These are the usual ipython objects, including this one you are creating\n",
    "ipython_vars = ['In', 'Out', 'exit', 'quit', 'get_ipython', 'ipython_vars']\n",
    "# Get a sorted list of the objects and their sizes\n",
    "tmpvar = sorted(\n",
    "    [(x, sys.getsizeof(globals().get(x))) for x in dir() if not x.startswith('_') and x not in sys.modules and x not in ipython_vars],\n",
    "    key=lambda x: x[1],\n",
    "    reverse=True\n",
    ")\n",
    "print(tmpvar)\n",
    "del ipython_vars,tmpvar"
   ]
  },
  {
   "cell_type": "markdown",
   "metadata": {},
   "source": [
    "# Algunos temas faltantes\n",
    "\n",
    "* Cargar librerías: math, numpy y matplotlib\n",
    "* Trabajar con numpy\n",
    "* Graficar con matplotlib y Seaborn\n",
    "\n",
    "Aunque no hayamos podido ver con detalle estos temas, los invito a que revisen la documentación que está en los siguientes enlaces:\n",
    "* https://numpy.org/doc/1.17/reference/index.html\n",
    "* https://matplotlib.org/tutorials/introductory/lifecycle.html\n",
    "* https://seaborn.pydata.org/api.html\n",
    "\n",
    "**A continuación haré dos ejemplos de tiro parabólico usando Numpy**\n",
    "\n",
    "Suponga que queremos graficar el tiro parabólico teniendo en cuenta que conocemos la posición $(0,0)$ y velocidad inicial ($v_0$ a un ángulo $\\theta$) como parámetros para una función. Para ellos vamos a emplear dos métodos:\n",
    "1. Calcular las parejas $(x,y)$ utilizando el parámetro temporal. Sabemos que el tiempo total de caida es de $t_c=\\frac{2v_0}{g}\\sin\\theta$\n",
    "1. Calcular las parejas $(x,y)$ a partir de $y=f(x)$ que en el caso de tiro parabólico es $y=\\tan\\theta\\,x-\\frac{g}{2v_{0}^{2}\\cos^2\\theta}x^2$ siendo que el alcance máximo es $x_M=\\frac{v_{0}^{2}}{g}\\sin(2\\theta)$\n",
    "\n",
    "## Método 1:"
   ]
  },
  {
   "cell_type": "code",
   "execution_count": 66,
   "metadata": {},
   "outputs": [],
   "source": [
    "# importamos las librerías de referencia\n",
    "import math\n",
    "\n",
    "# creamos la func que a valores de tiempo nos devuelve una \"dupla\" x,y\n",
    "def parabolico1(t,v0,theta,g=9.8):\n",
    "    x = v0*math.cos(theta)*t\n",
    "    y = v0*math.sin(theta)*t - 0.5*g*(t**2)\n",
    "    return (x,y)"
   ]
  },
  {
   "cell_type": "code",
   "execution_count": 71,
   "metadata": {},
   "outputs": [
    {
     "name": "stdout",
     "output_type": "stream",
     "text": [
      "test: v0=10, theta=45º\n",
      "\tXmax= (10.204081632653061, -1.7763568394002505e-15)\n",
      "\tHmax= (5.1020408163265305, 2.5510204081632644)\n"
     ]
    }
   ],
   "source": [
    "# probamos la func\n",
    "print(\"test: v0=10, theta=45º\");\n",
    "v0=10; theta=math.pi/4; g=9.8; tc=math.sin(theta)*2*v0/g\n",
    "print(\"\\tXmax=\",parabolico1(tc,v0,theta,g=g))\n",
    "print(\"\\tHmax=\",parabolico1(0.5*tc,v0,theta))\n",
    "del v0,theta,g,tc"
   ]
  },
  {
   "cell_type": "markdown",
   "metadata": {},
   "source": [
    "### Creamos un vector de tiempos para obtener $(x,y)$ en cada momento usando **Numpy**"
   ]
  },
  {
   "cell_type": "code",
   "execution_count": 77,
   "metadata": {},
   "outputs": [],
   "source": [
    "import numpy as np\n",
    "# Fijamos # de puntos para graficar\n",
    "NUM_T=100\n",
    "# Fijamos condiciones iniciales\n",
    "v0=10; theta=np.pi/4; g=9.8\n",
    "# creamos el vector de tiempos T\n",
    "T = np.linspace(0,np.sin(theta)*2*v0/g,NUM_T)\n",
    "# creamos los vectores de coordenadas x,y\n",
    "X = np.zeros(NUM_T)\n",
    "Y = np.zeros(NUM_T)"
   ]
  },
  {
   "cell_type": "code",
   "execution_count": 79,
   "metadata": {},
   "outputs": [],
   "source": [
    "# llenamos los vectores x,y\n",
    "for it,t in enumerate(T):\n",
    "    X[it],Y[it] = parabolico1(t,v0,theta,g)"
   ]
  },
  {
   "cell_type": "code",
   "execution_count": 86,
   "metadata": {},
   "outputs": [
    {
     "data": {
      "text/plain": [
       "[<matplotlib.lines.Line2D at 0x7f6a90ffbd90>]"
      ]
     },
     "execution_count": 86,
     "metadata": {},
     "output_type": "execute_result"
    },
    {
     "data": {
      "image/png": "[encoded data removed]",
      "text/plain": [
       "<Figure size 432x288 with 1 Axes>"
      ]
     },
     "metadata": {
      "needs_background": "light"
     },
     "output_type": "display_data"
    }
   ],
   "source": [
    "# Graficamos\n",
    "import seaborn as sns; sns.set()\n",
    "import matplotlib as mpl\n",
    "import matplotlib.pyplot as plt\n",
    "%matplotlib inline\n",
    "\n",
    "plt.clf()\n",
    "plt.scatter(X,Y)\n",
    "plt.plot(X,Y)"
   ]
  },
  {
   "cell_type": "code",
   "execution_count": 88,
   "metadata": {},
   "outputs": [
    {
     "data": {
      "text/plain": [
       "<matplotlib.axes._subplots.AxesSubplot at 0x7f6a90f73a60>"
      ]
     },
     "execution_count": 88,
     "metadata": {},
     "output_type": "execute_result"
    },
    {
     "data": {
      "image/png": "[encoded data removed]",
      "text/plain": [
       "<Figure size 432x288 with 1 Axes>"
      ]
     },
     "metadata": {
      "needs_background": "light"
     },
     "output_type": "display_data"
    }
   ],
   "source": [
    "# intentamos otra libreria\n",
    "sns.scatterplot(X,Y)"
   ]
  },
  {
   "cell_type": "code",
   "execution_count": 91,
   "metadata": {},
   "outputs": [],
   "source": [
    "# Limpiamos la basura\n",
    "del NUM_T,g,v0,theta,T,X,Y"
   ]
  },
  {
   "cell_type": "markdown",
   "metadata": {},
   "source": [
    "> **Existe otra manera de llenar los vectores X y Y respectivamente?** *Si* gracias a la vectorización de Numpy (Ver [Vectorización en Numpy](https://docs.scipy.org/doc/numpy/reference/generated/numpy.vectorize.html))"
   ]
  },
  {
   "cell_type": "code",
   "execution_count": 92,
   "metadata": {},
   "outputs": [
    {
     "data": {
      "text/plain": [
       "<matplotlib.axes._subplots.AxesSubplot at 0x7f6a90e95be0>"
      ]
     },
     "execution_count": 92,
     "metadata": {},
     "output_type": "execute_result"
    },
    {
     "data": {
      "image/png": "[encoded data removed]",
      "text/plain": [
       "<Figure size 432x288 with 1 Axes>"
      ]
     },
     "metadata": {
      "needs_background": "light"
     },
     "output_type": "display_data"
    }
   ],
   "source": [
    "# Fijamos # de puntos para graficar\n",
    "NUM_T=100\n",
    "# Fijamos condiciones iniciales\n",
    "v0=10; theta=np.pi/4; g=9.8\n",
    "# creamos el vector de tiempos T\n",
    "T = np.linspace(0,np.sin(theta)*2*v0/g,NUM_T)\n",
    "# creamos los vectores de coordenadas con una sola linea!\n",
    "X,Y=parabolico1(T,v0,theta,g)\n",
    "# graficamos!\n",
    "sns.scatterplot(X,Y)"
   ]
  },
  {
   "cell_type": "code",
   "execution_count": 93,
   "metadata": {},
   "outputs": [],
   "source": [
    "# Limpiamos la basura\n",
    "del NUM_T,g,v0,theta,T,X,Y"
   ]
  },
  {
   "cell_type": "markdown",
   "metadata": {},
   "source": [
    "## Método 2:"
   ]
  },
  {
   "cell_type": "code",
   "execution_count": 97,
   "metadata": {},
   "outputs": [],
   "source": [
    "# creamos la func que a valores de pos en X nos devuelve pos en Y\n",
    "def parabolico2(x,v0,theta,g=9.8):\n",
    "    y = x*np.tan(theta) - (g/(2*(v0**2)*(np.cos(theta)**2)))*(x**2)\n",
    "    return y"
   ]
  },
  {
   "cell_type": "code",
   "execution_count": 100,
   "metadata": {},
   "outputs": [
    {
     "name": "stdout",
     "output_type": "stream",
     "text": [
      "test: v0=10, theta=45º\n",
      "\tat X=0, Y= 0.0\n",
      "\tat X=5.102041, Y= 2.5510204081632653\n",
      "\tat X=10.204082, Y= 1.7763568394002505e-15\n"
     ]
    }
   ],
   "source": [
    "# probamos la func\n",
    "print(\"test: v0=10, theta=45º\");\n",
    "v0=10; theta=math.pi/4; g=9.8; x_max=np.sin(2*theta)*v0**2/g\n",
    "print(\"\\tat X=0, Y=\",parabolico2(0,v0,theta,g=g))\n",
    "print(\"\\tat X=%lf, Y=\"%(x_max/2),parabolico2(x_max/2,v0,theta))\n",
    "print(\"\\tat X=%lf, Y=\"%x_max,parabolico2(x_max,v0,theta))\n",
    "del v0,theta,g,x_max"
   ]
  },
  {
   "cell_type": "markdown",
   "metadata": {},
   "source": [
    "### Creamos un vector de pos en $x$ para obtener pos en $y$ usando **Numpy**"
   ]
  },
  {
   "cell_type": "code",
   "execution_count": 108,
   "metadata": {},
   "outputs": [
    {
     "data": {
      "text/plain": [
       "<matplotlib.axes._subplots.AxesSubplot at 0x7f6a90d667f0>"
      ]
     },
     "execution_count": 108,
     "metadata": {},
     "output_type": "execute_result"
    },
    {
     "data": {
      "image/png": "[encoded data removed]",
      "text/plain": [
       "<Figure size 432x288 with 1 Axes>"
      ]
     },
     "metadata": {
      "needs_background": "light"
     },
     "output_type": "display_data"
    }
   ],
   "source": [
    "import numpy as np\n",
    "# Fijamos # de puntos para graficar\n",
    "NUM_X=100\n",
    "# Fijamos condiciones iniciales\n",
    "v0=10; theta=np.pi/4; g=9.8\n",
    "# creamos el vector de tiempos T\n",
    "X = np.linspace(0,np.sin(2*theta)*v0**2/g,NUM_X)\n",
    "# creamos el vector de pos en y en una sola linea aprovechando vectorizacion\n",
    "Y = parabolico2(X,v0,theta,g=g)\n",
    "# Graficamos\n",
    "sns.scatterplot(X,Y)"
   ]
  },
  {
   "cell_type": "code",
   "execution_count": 109,
   "metadata": {},
   "outputs": [],
   "source": [
    "# Limpiamos la basura\n",
    "del NUM_X,g,v0,theta,X,Y"
   ]
  },
  {
   "cell_type": "markdown",
   "metadata": {},
   "source": [
    "# Semana 3: principios de probabilidad"
   ]
  },
  {
   "cell_type": "markdown",
   "metadata": {},
   "source": [
    "# Ejercicios para la clase:\n",
    "\n",
    "* Utilizar [Numpy Random](https://docs.scipy.org/doc/numpy-1.14.0/reference/routines.random.html) para generar números aleatorios con una distribución uniforme\n",
    "* Correr los tests de verificación de aleatoriedad (estocasticidad) y ergodicidad\n",
    "* Graficar la distribución uniforme, exponencial, $\\Gamma$-gamma y normal con Seaborn [distplot](https://seaborn.pydata.org/generated/seaborn.distplot.html)\n",
    "* Hallar la asimetría y la curtosis de la distribución normal y verificar el valor encontrado por el generador\n",
    "* ¿En qué se parecen la distribución exponencial y la distribución Gamma?\n",
    "\n",
    "## Para el ejercicio a entregar la siguiente semana\n",
    "* Revisar repositorios de datos: [538](http://fivethirtyeight.com/), Google, Amazon y Wikipedia\n",
    "* Descargar la base de datos de [FIFA 20](https://www.kaggle.com/stefanoleone992/fifa-20-complete-player-dataset)\n",
    "* Instalar y configurar Twitter developer account"
   ]
  },
  {
   "cell_type": "code",
   "execution_count": null,
   "metadata": {},
   "outputs": [],
   "source": []
  }
 ],
 "metadata": {
  "kernelspec": {
   "display_name": "Python [conda env:fisi2028]",
   "language": "python",
   "name": "conda-env-fisi2028-py"
  },
  "language_info": {
   "codemirror_mode": {
    "name": "ipython",
    "version": 3
   },
   "file_extension": ".py",
   "mimetype": "text/x-python",
   "name": "python",
   "nbconvert_exporter": "python",
   "pygments_lexer": "ipython3",
   "version": "3.8.1"
  }
 },
 "nbformat": 4,
 "nbformat_minor": 2
}
