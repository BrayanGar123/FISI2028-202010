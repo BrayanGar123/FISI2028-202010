{
 "cells": [
  {
   "cell_type": "markdown",
   "metadata": {},
   "source": [
    "# La terminal e iPython: directorio de trabajo"
   ]
  },
  {
   "cell_type": "code",
   "execution_count": null,
   "metadata": {},
   "outputs": [],
   "source": [
    "!pwd"
   ]
  },
  {
   "cell_type": "code",
   "execution_count": null,
   "metadata": {},
   "outputs": [],
   "source": [
    "!cd .."
   ]
  },
  {
   "cell_type": "code",
   "execution_count": null,
   "metadata": {},
   "outputs": [],
   "source": [
    "!pwd"
   ]
  },
  {
   "cell_type": "markdown",
   "metadata": {},
   "source": [
    "## Cambiar el directorio de trabajo? Tenemos que usar los comandos \"magic\" con `%`"
   ]
  },
  {
   "cell_type": "code",
   "execution_count": null,
   "metadata": {},
   "outputs": [],
   "source": [
    "%cd .."
   ]
  },
  {
   "cell_type": "code",
   "execution_count": null,
   "metadata": {},
   "outputs": [],
   "source": [
    "!pwd"
   ]
  },
  {
   "cell_type": "markdown",
   "metadata": {},
   "source": [
    "### Automagic? `%automagic`"
   ]
  },
  {
   "cell_type": "code",
   "execution_count": null,
   "metadata": {},
   "outputs": [],
   "source": [
    "cd semana2"
   ]
  },
  {
   "cell_type": "markdown",
   "metadata": {},
   "source": [
    "## Otros comandos!"
   ]
  },
  {
   "cell_type": "code",
   "execution_count": null,
   "metadata": {},
   "outputs": [],
   "source": [
    "!ls -lha"
   ]
  },
  {
   "cell_type": "markdown",
   "metadata": {},
   "source": [
    "## Info de la terminal a Python?"
   ]
  },
  {
   "cell_type": "code",
   "execution_count": null,
   "metadata": {},
   "outputs": [],
   "source": [
    "env = !printenv"
   ]
  },
  {
   "cell_type": "code",
   "execution_count": null,
   "metadata": {},
   "outputs": [],
   "source": [
    "print(env)"
   ]
  },
  {
   "cell_type": "code",
   "execution_count": null,
   "metadata": {},
   "outputs": [],
   "source": [
    "type(env)"
   ]
  },
  {
   "cell_type": "markdown",
   "metadata": {},
   "source": [
    "## Info de Python a la terminal?"
   ]
  },
  {
   "cell_type": "code",
   "execution_count": null,
   "metadata": {},
   "outputs": [],
   "source": [
    "msg = \"Este es un mensaje\""
   ]
  },
  {
   "cell_type": "code",
   "execution_count": null,
   "metadata": {},
   "outputs": [],
   "source": [
    "!echo {msg}"
   ]
  },
  {
   "cell_type": "markdown",
   "metadata": {},
   "source": [
    "## Podemos listar los paquetes instalados? Instalar paquetes?"
   ]
  },
  {
   "cell_type": "code",
   "execution_count": null,
   "metadata": {},
   "outputs": [],
   "source": [
    "which conda"
   ]
  },
  {
   "cell_type": "code",
   "execution_count": null,
   "metadata": {},
   "outputs": [],
   "source": [
    "!pip list --outdated"
   ]
  },
  {
   "cell_type": "code",
   "execution_count": null,
   "metadata": {},
   "outputs": [],
   "source": [
    "!pip show ipykernel"
   ]
  },
  {
   "cell_type": "markdown",
   "metadata": {},
   "source": [
    "### Importancia de usar la libreria `sys` de Python: `pip` y `conda`"
   ]
  },
  {
   "cell_type": "code",
   "execution_count": null,
   "metadata": {},
   "outputs": [],
   "source": [
    "import sys\n",
    "print(sys.prefix)"
   ]
  },
  {
   "cell_type": "code",
   "execution_count": null,
   "metadata": {},
   "outputs": [],
   "source": [
    "!conda install --yes --prefix {sys.prefix} pandas numpy matplotlib scikit-learn configparser scipy seaborn pytest traitlets"
   ]
  },
  {
   "cell_type": "code",
   "execution_count": null,
   "metadata": {},
   "outputs": [],
   "source": [
    "!conda install --yes --prefix {sys.prefix} numba cython progressbar2 tweepy"
   ]
  },
  {
   "cell_type": "code",
   "execution_count": null,
   "metadata": {},
   "outputs": [],
   "source": [
    "!conda update --yes --prefix {sys.prefix} python-utils"
   ]
  },
  {
   "cell_type": "code",
   "execution_count": null,
   "metadata": {},
   "outputs": [],
   "source": [
    "!which pip"
   ]
  },
  {
   "cell_type": "code",
   "execution_count": null,
   "metadata": {},
   "outputs": [],
   "source": [
    "print(sys.executable)"
   ]
  },
  {
   "cell_type": "code",
   "execution_count": null,
   "metadata": {},
   "outputs": [],
   "source": [
    "!{sys.executable} -m pip install pandas numpy matplotlib scikit-learn"
   ]
  },
  {
   "cell_type": "markdown",
   "metadata": {},
   "source": [
    "## Verificar existencia de paquetes?"
   ]
  },
  {
   "cell_type": "code",
   "execution_count": null,
   "metadata": {},
   "outputs": [],
   "source": [
    "import pkg_resources\n",
    "def checkDeps(filename):\n",
    "    try:\n",
    "        with open(filename,'r') as f:\n",
    "            reqs = [line for line in f]\n",
    "        packages = \", \".join([pkg_resources.Requirement.parse(line).name for line in reqs])\n",
    "        deps = pkg_resources.require(reqs)\n",
    "        del reqs\n",
    "    except ValueError as err:\n",
    "        print(\"ERROR: Invalid requirement specifier ->\",err)\n",
    "        raise ValueError\n",
    "checkDeps(filename='requirements.txt')"
   ]
  },
  {
   "cell_type": "markdown",
   "metadata": {},
   "source": [
    "# Tipos de variables en Python y operaciones\n",
    "* `None`\n",
    "* integers, floats\n",
    "* tuples, lists\n",
    "* strings\n",
    "* unordered dictionaries and ordered dictionaries\n",
    "> Funciones convenientes:\n",
    "> * `?` o `??`\n",
    "> * `type(#var)`\n",
    "> * `dir(#var)`\n",
    "> * `isinstance(#var,<type>)`\n",
    "> * `help(<#any>)`\n",
    "> * `sys.float_info` & `sys.int_info`\n",
    "> * `del` y `sys.getsizeof(#var)`\n",
    "\n",
    "# Condicionales y ciclos: `if`, `elif`, `else`, \"one liner\", `for`, `while`\n",
    "\n",
    "# Scoping en Python y su utilidad: la sentencia `with`\n",
    "\n",
    "# Funciones,recurrencia y librerías\n",
    "\n",
    "# Numpy: Vectores y arreglos, operaciones\n",
    "\n",
    "# Visualización: [PyViz.org](https://pyviz.org/)"
   ]
  },
  {
   "cell_type": "code",
   "execution_count": null,
   "metadata": {},
   "outputs": [],
   "source": [
    "a = 1"
   ]
  },
  {
   "cell_type": "code",
   "execution_count": null,
   "metadata": {},
   "outputs": [],
   "source": [
    "type(a)"
   ]
  },
  {
   "cell_type": "code",
   "execution_count": null,
   "metadata": {},
   "outputs": [],
   "source": [
    "a = [5,4,6,2]"
   ]
  },
  {
   "cell_type": "code",
   "execution_count": null,
   "metadata": {},
   "outputs": [],
   "source": [
    "if isinstance(a,dict):\n",
    "    print(\"soy un dictionario\")\n",
    "elif isinstance(a,tuple):\n",
    "    print(\"soy una tupla\")\n",
    "elif isinstance(a,list):\n",
    "    print(\"soy una lista\")\n",
    "elif isinstance(a,str):\n",
    "    print(\"soy una cadena\")\n",
    "else:\n",
    "    raise TypeError(\"Mismatch of type\")"
   ]
  },
  {
   "cell_type": "code",
   "execution_count": null,
   "metadata": {},
   "outputs": [],
   "source": [
    "for it in range(10):\n",
    "    it = it-1 if it%2==0 else 2*it; print(\"iterator: %ld\"%it); # Nota: el punto y coma \";\" es frecuente en C y C++, ¡en Python también se puede usar para delimitar comandos!"
   ]
  },
  {
   "cell_type": "code",
   "execution_count": null,
   "metadata": {},
   "outputs": [],
   "source": [
    "it"
   ]
  },
  {
   "cell_type": "code",
   "execution_count": null,
   "metadata": {},
   "outputs": [],
   "source": [
    "with open('requirements.txt', 'r') as f:\n",
    "    for line in f:\n",
    "        print(line,end='')"
   ]
  },
  {
   "cell_type": "code",
   "execution_count": null,
   "metadata": {},
   "outputs": [],
   "source": [
    "f"
   ]
  },
  {
   "cell_type": "code",
   "execution_count": null,
   "metadata": {},
   "outputs": [],
   "source": [
    "for line in f:\n",
    "    print(line,end='')"
   ]
  },
  {
   "cell_type": "code",
   "execution_count": null,
   "metadata": {},
   "outputs": [],
   "source": [
    "dir()"
   ]
  },
  {
   "cell_type": "code",
   "execution_count": null,
   "metadata": {},
   "outputs": [],
   "source": [
    "b = []"
   ]
  },
  {
   "cell_type": "code",
   "execution_count": null,
   "metadata": {},
   "outputs": [],
   "source": [
    "b.append(2)"
   ]
  },
  {
   "cell_type": "code",
   "execution_count": null,
   "metadata": {},
   "outputs": [],
   "source": [
    "b"
   ]
  },
  {
   "cell_type": "code",
   "execution_count": null,
   "metadata": {},
   "outputs": [],
   "source": [
    "dir(b)"
   ]
  },
  {
   "cell_type": "code",
   "execution_count": null,
   "metadata": {},
   "outputs": [],
   "source": [
    "try:\n",
    "    b.index(1)\n",
    "except ValueError:\n",
    "    print(\"no encontre el valor\")"
   ]
  },
  {
   "cell_type": "code",
   "execution_count": null,
   "metadata": {},
   "outputs": [],
   "source": [
    "def f1(x,y):\n",
    "    if y == 0 and x == 0:\n",
    "        a = 1\n",
    "    else:\n",
    "        a = x**y\n",
    "    return(a)"
   ]
  },
  {
   "cell_type": "code",
   "execution_count": null,
   "metadata": {},
   "outputs": [],
   "source": [
    "f1(y=2,x=3)"
   ]
  },
  {
   "cell_type": "code",
   "execution_count": null,
   "metadata": {},
   "outputs": [],
   "source": [
    "f1(2,3)"
   ]
  },
  {
   "cell_type": "code",
   "execution_count": null,
   "metadata": {},
   "outputs": [],
   "source": [
    "d = dict(x=2,y=3)\n",
    "l = [2,3]"
   ]
  },
  {
   "cell_type": "code",
   "execution_count": null,
   "metadata": {},
   "outputs": [],
   "source": [
    "f1(*l)"
   ]
  },
  {
   "cell_type": "code",
   "execution_count": null,
   "metadata": {},
   "outputs": [],
   "source": [
    "f1(**d)"
   ]
  },
  {
   "cell_type": "code",
   "execution_count": null,
   "metadata": {},
   "outputs": [],
   "source": [
    "def f2(x,y,n=0,*args,**kwargs):\n",
    "    print('args:',type(args))\n",
    "    print('\\t',args)\n",
    "    print('kwargs:',type(kwargs))\n",
    "    print('\\t',kwargs)\n",
    "    if n== 0:\n",
    "        return(f1(x,y))\n",
    "    else:\n",
    "        return(f1(y,x))"
   ]
  },
  {
   "cell_type": "code",
   "execution_count": null,
   "metadata": {},
   "outputs": [],
   "source": [
    "f2(2,3,0)"
   ]
  },
  {
   "cell_type": "code",
   "execution_count": null,
   "metadata": {},
   "outputs": [],
   "source": [
    "f2(2,3,1)"
   ]
  },
  {
   "cell_type": "code",
   "execution_count": null,
   "metadata": {},
   "outputs": [],
   "source": [
    "f2(2,3,1,3,4,5)"
   ]
  },
  {
   "cell_type": "code",
   "execution_count": null,
   "metadata": {},
   "outputs": [],
   "source": [
    "f2(2,3,1,nam=4,3,4,5)"
   ]
  },
  {
   "cell_type": "code",
   "execution_count": null,
   "metadata": {},
   "outputs": [],
   "source": [
    "f2(2,3,1,3,4,5,nam=4)"
   ]
  },
  {
   "cell_type": "code",
   "execution_count": null,
   "metadata": {},
   "outputs": [],
   "source": [
    "def factorial(n):\n",
    "    if n == 0:\n",
    "        return 1\n",
    "    return n*factorial(n-1)\n",
    "def f3(n,k,p):\n",
    "    if not (isinstance(n,int) and isinstance(k,int) and n >= k and k >=0):\n",
    "        print(\"Error\")\n",
    "        return None\n",
    "    return f1(p,k)*f1(1-p,n-k)*(factorial(n)//(factorial(n-k)*factorial(k)))"
   ]
  },
  {
   "cell_type": "code",
   "execution_count": null,
   "metadata": {},
   "outputs": [],
   "source": [
    "s = 0\n",
    "for it in range(4+1):\n",
    "    print(\"el\",it,\"val=\",f3(4,it,0.5))\n",
    "    s += f3(4,it,0.5)"
   ]
  },
  {
   "cell_type": "code",
   "execution_count": null,
   "metadata": {},
   "outputs": [],
   "source": [
    "print(s)"
   ]
  },
  {
   "cell_type": "markdown",
   "metadata": {},
   "source": [
    "$$1,1,2,3,5,8,13,...$$"
   ]
  },
  {
   "cell_type": "code",
   "execution_count": null,
   "metadata": {},
   "outputs": [],
   "source": [
    "def fibo(n):\n",
    "    if n==1:\n",
    "        return 1\n",
    "    if n==2:\n",
    "        return 1\n",
    "    return(fibo(n-1)+fibo(n-2))\n",
    "    "
   ]
  },
  {
   "cell_type": "code",
   "execution_count": null,
   "metadata": {},
   "outputs": [],
   "source": [
    "fibo(40)"
   ]
  },
  {
   "cell_type": "markdown",
   "metadata": {},
   "source": [
    "# ¿Cómo verificamos las variables que tenemos *cargadas* en el entorno?"
   ]
  },
  {
   "cell_type": "code",
   "execution_count": null,
   "metadata": {},
   "outputs": [],
   "source": [
    "import sys\n",
    "# These are the usual ipython objects, including this one you are creating\n",
    "ipython_vars = ['In', 'Out', 'exit', 'quit', 'get_ipython', 'ipython_vars']\n",
    "# Get a sorted list of the objects and their sizes\n",
    "tmpvar = sorted(\n",
    "    [(x, sys.getsizeof(globals().get(x))) for x in dir() if not x.startswith('_') and x not in sys.modules and x not in ipython_vars],\n",
    "    key=lambda x: x[1],\n",
    "    reverse=True\n",
    ")\n",
    "print(tmpvar)\n",
    "del ipython_vars,tmpvar"
   ]
  },
  {
   "cell_type": "markdown",
   "metadata": {},
   "source": [
    "# Algunos temas faltantes\n",
    "\n",
    "* Cargar librerías: math, numpy y matplotlib\n",
    "* Trabajar con numpy\n",
    "* Graficar con matplotlib y Seaborn\n",
    "\n",
    "Aunque no hayamos podido ver con detalle estos temas, los invito a que revisen la documentación que está en los siguientes enlaces:\n",
    "* https://numpy.org/doc/1.17/reference/index.html\n",
    "* https://matplotlib.org/tutorials/introductory/lifecycle.html\n",
    "* https://seaborn.pydata.org/api.html\n",
    "\n",
    "**A continuación haré dos ejemplos de tiro parabólico usando Numpy**\n",
    "\n",
    "Suponga que queremos graficar el tiro parabólico teniendo en cuenta que conocemos la posición $(0,0)$ y velocidad inicial ($v_0$ a un ángulo $\\theta$) como parámetros para una función. Para ellos vamos a emplear dos métodos:\n",
    "1. Calcular las parejas $(x,y)$ utilizando el parámetro temporal. Sabemos que el tiempo total de caida es de $t_c=\\frac{2v_0}{g}\\sin\\theta$\n",
    "1. Calcular las parejas $(x,y)$ a partir de $y=f(x)$ que en el caso de tiro parabólico es $y=\\tan\\theta\\,x-\\frac{g}{2v_{0}^{2}\\cos^2\\theta}x^2$ siendo que el alcance máximo es $x_M=\\frac{v_{0}^{2}}{g}\\sin(2\\theta)$\n",
    "\n",
    "## Método 1:"
   ]
  },
  {
   "cell_type": "code",
   "execution_count": null,
   "metadata": {},
   "outputs": [],
   "source": [
    "# importamos las librerías de referencia\n",
    "import math\n",
    "\n",
    "# creamos la func que a valores de tiempo nos devuelve una \"dupla\" x,y\n",
    "def parabolico1(t,v0,theta,g=9.8):\n",
    "    x = v0*math.cos(theta)*t\n",
    "    y = v0*math.sin(theta)*t - 0.5*g*(t**2)\n",
    "    return (x,y)"
   ]
  },
  {
   "cell_type": "code",
   "execution_count": null,
   "metadata": {},
   "outputs": [],
   "source": [
    "# probamos la func\n",
    "print(\"test: v0=10, theta=45º\");\n",
    "v0=10; theta=math.pi/4; g=9.8; tc=math.sin(theta)*2*v0/g\n",
    "print(\"\\tXmax=\",parabolico1(tc,v0,theta,g=g))\n",
    "print(\"\\tHmax=\",parabolico1(0.5*tc,v0,theta))\n",
    "del v0,theta,g,tc"
   ]
  },
  {
   "cell_type": "markdown",
   "metadata": {},
   "source": [
    "### Creamos un vector de tiempos para obtener $(x,y)$ en cada momento usando **Numpy**"
   ]
  },
  {
   "cell_type": "code",
   "execution_count": null,
   "metadata": {},
   "outputs": [],
   "source": [
    "import numpy as np\n",
    "# Fijamos # de puntos para graficar\n",
    "NUM_T=100\n",
    "# Fijamos condiciones iniciales\n",
    "v0=10; theta=np.pi/4; g=9.8\n",
    "# creamos el vector de tiempos T\n",
    "T = np.linspace(0,np.sin(theta)*2*v0/g,NUM_T)\n",
    "# creamos los vectores de coordenadas x,y\n",
    "X = np.zeros(NUM_T)\n",
    "Y = np.zeros(NUM_T)"
   ]
  },
  {
   "cell_type": "code",
   "execution_count": null,
   "metadata": {},
   "outputs": [],
   "source": [
    "# llenamos los vectores x,y\n",
    "for it,t in enumerate(T):\n",
    "    X[it],Y[it] = parabolico1(t,v0,theta,g)"
   ]
  },
  {
   "cell_type": "code",
   "execution_count": null,
   "metadata": {},
   "outputs": [],
   "source": [
    "# Graficamos\n",
    "import seaborn as sns; sns.set()\n",
    "import matplotlib as mpl\n",
    "import matplotlib.pyplot as plt\n",
    "%matplotlib inline\n",
    "\n",
    "plt.clf()\n",
    "plt.scatter(X,Y)\n",
    "plt.plot(X,Y)"
   ]
  },
  {
   "cell_type": "code",
   "execution_count": null,
   "metadata": {},
   "outputs": [],
   "source": [
    "# intentamos otra libreria\n",
    "sns.scatterplot(X,Y)"
   ]
  },
  {
   "cell_type": "code",
   "execution_count": null,
   "metadata": {},
   "outputs": [],
   "source": [
    "# Limpiamos la basura\n",
    "del NUM_T,g,v0,theta,T,X,Y"
   ]
  },
  {
   "cell_type": "markdown",
   "metadata": {},
   "source": [
    "> **Existe otra manera de llenar los vectores X y Y respectivamente?** *Si* gracias a la vectorización de Numpy (Ver [Vectorización en Numpy](https://docs.scipy.org/doc/numpy/reference/generated/numpy.vectorize.html))"
   ]
  },
  {
   "cell_type": "code",
   "execution_count": null,
   "metadata": {},
   "outputs": [],
   "source": [
    "# Fijamos # de puntos para graficar\n",
    "NUM_T=100\n",
    "# Fijamos condiciones iniciales\n",
    "v0=10; theta=np.pi/4; g=9.8\n",
    "# creamos el vector de tiempos T\n",
    "T = np.linspace(0,np.sin(theta)*2*v0/g,NUM_T)\n",
    "# creamos los vectores de coordenadas con una sola linea!\n",
    "X,Y=parabolico1(T,v0,theta,g)\n",
    "# graficamos!\n",
    "sns.scatterplot(X,Y)"
   ]
  },
  {
   "cell_type": "code",
   "execution_count": null,
   "metadata": {},
   "outputs": [],
   "source": [
    "# Limpiamos la basura\n",
    "del NUM_T,g,v0,theta,T,X,Y"
   ]
  },
  {
   "cell_type": "markdown",
   "metadata": {},
   "source": [
    "## Método 2:"
   ]
  },
  {
   "cell_type": "code",
   "execution_count": null,
   "metadata": {},
   "outputs": [],
   "source": [
    "# creamos la func que a valores de pos en X nos devuelve pos en Y\n",
    "def parabolico2(x,v0,theta,g=9.8):\n",
    "    y = x*np.tan(theta) - (g/(2*(v0**2)*(np.cos(theta)**2)))*(x**2)\n",
    "    return y"
   ]
  },
  {
   "cell_type": "code",
   "execution_count": null,
   "metadata": {},
   "outputs": [],
   "source": [
    "# probamos la func\n",
    "print(\"test: v0=10, theta=45º\");\n",
    "v0=10; theta=math.pi/4; g=9.8; x_max=np.sin(2*theta)*v0**2/g\n",
    "print(\"\\tat X=0, Y=\",parabolico2(0,v0,theta,g=g))\n",
    "print(\"\\tat X=%lf, Y=\"%(x_max/2),parabolico2(x_max/2,v0,theta))\n",
    "print(\"\\tat X=%lf, Y=\"%x_max,parabolico2(x_max,v0,theta))\n",
    "del v0,theta,g,x_max"
   ]
  },
  {
   "cell_type": "markdown",
   "metadata": {},
   "source": [
    "### Creamos un vector de pos en $x$ para obtener pos en $y$ usando **Numpy**"
   ]
  },
  {
   "cell_type": "code",
   "execution_count": null,
   "metadata": {},
   "outputs": [],
   "source": [
    "import numpy as np\n",
    "# Fijamos # de puntos para graficar\n",
    "NUM_X=100\n",
    "# Fijamos condiciones iniciales\n",
    "v0=10; theta=np.pi/4; g=9.8\n",
    "# creamos el vector de tiempos T\n",
    "X = np.linspace(0,np.sin(2*theta)*v0**2/g,NUM_X)\n",
    "# creamos el vector de pos en y en una sola linea aprovechando vectorizacion\n",
    "Y = parabolico2(X,v0,theta,g=g)\n",
    "# Graficamos\n",
    "sns.scatterplot(X,Y)"
   ]
  },
  {
   "cell_type": "code",
   "execution_count": null,
   "metadata": {},
   "outputs": [],
   "source": [
    "# Limpiamos la basura\n",
    "del NUM_X,g,v0,theta,X,Y"
   ]
  },
  {
   "cell_type": "markdown",
   "metadata": {},
   "source": [
    "# Semana 3: principios de probabilidad"
   ]
  },
  {
   "cell_type": "markdown",
   "metadata": {},
   "source": [
    "# Notas de clase (por favor lea con atención)\n",
    "\n",
    "La clase pasada discutimos la importancia de la Teoría de Probabilidad y vimos las características de las distribuciones de probabilidad. Hagamos un breve repaso. Sea $\\mathcal{X}$ una variable aleatoria cuyo soporte $\\Omega^\\prime\\subseteq\\Omega$ ($\\Omega$ el espacio muestral de todas las variables aleatorias de valor real) es el conjunto de todos los posibles valores de $\\mathcal{X}$\n",
    "\n",
    "## Función acumulativa y densidad de probabilidad de probabilidad\n",
    "\n",
    "Se define la función acumulativa de probabilidad, o **CDF**, como $F_\\mathcal{X}(x)\\colon=P(\\mathcal{X}\\leq x)$ y tiene las siguientes propiedades\n",
    "* Definida positiva y no mayor a $1$ para todos los reales. *i.e.* $0\\leq F_\\mathcal{X}(x)\\leq1\\,\\forall x\\in\\Re$\n",
    "* $F_\\mathcal{X}(x)\\colon=P(\\mathcal{X}\\leq x)$, siendo $P(\\mathcal{X}\\leq x)$ la probabilidad de que \n",
    "* Contínua por derecha. *i.e.* $\\lim_{\\epsilon\\to x^+}F_\\mathcal{X}(\\epsilon)=F_\\mathcal{X}(x)$\n",
    "\n",
    "> ***Caso Discreto***\n",
    "> 1. $F_{\\mathcal{X}}(x)=\\sum_{y\\leq x}P(\\mathcal{X}=y)$\n",
    "> 1. $P(\\mathcal{X}=x)=P(\\mathcal{X}\\leq x)-\\lim_{\\epsilon\\to x^-}P(\\mathcal{X}\\leq \\epsilon)$\n",
    "> 1. $F_{\\mathcal{X}}^{\\prime}(x)=0$\n",
    "> 1. El soporte de la variable aleatoria es a lo sumo un número contable de elementos\n",
    "> 1. $P(\\mathcal{X}=x)$ se conoce como la función de masa de probabilidad o **PMF**\n",
    "\n",
    "> ***Caso Contínuo***\n",
    "> Para variables aleatorias contínuas el caso es más sencillo. Veamos,\n",
    "> 1. Es diferenciable excepto en a lo sumo un número contable de puntos.\n",
    "> 1. A la derivada de la **CDF** se le conoce como función densidad de probabilidad o **PDF** y la denotamos como $f_{\\mathcal{X}}(x)\\colon=F_{\\mathcal{X}}^{\\prime}(x)$\n",
    "> 1. $P(\\mathcal{X}\\in(x,x+\\delta x])=P(\\mathcal{X}\\leq x+\\delta x)-P(\\mathcal{X}\\leq x)=F_{\\mathcal{X}}(x+\\delta x)-F_{\\mathcal{X}}(x)$. Luego, en el límite cuando $\\delta x\\to0$, *i.e.* $\\delta x\\to dx$, $P(\\mathcal{X}\\in(x,x+dx])=f_{\\mathcal{X}}(x)dx$\n",
    "> 1. $F_{\\mathcal{X}}(x)=\\int_{-\\infty}^{x}f_{\\mathcal{X}}(y)dy$\n",
    "\n",
    "Nota: En adelante nos referiremos a la **CDF** o a la **PDF**/**PMF** como distribución de probabilidad\n",
    "\n",
    "## Algunas distribuciones conocidas\n",
    "\n",
    "* Uniforme (discreta y contínua): todos los eventos son igualmente probables. Es la que se implementa en los algoritmos de *pseudo*-generadores de números aleatorios. ¿Por qué *pseudo*? Por que en realidad no son generadores de números de forma estocástica, es determinística: con una semilla un algoritmo me genera una <u>única</u> secuencia de números. ¡Esto quiere decir que si vamos a usar estos generadores tenemos que primer probar que sean buenos!\n",
    "$$\\text{Discreto:}\\,\\,P(x;n)=\\frac{1}{n}\\,\\,\\, \\forall x\\in\\mathcal{S}$$\n",
    "$$\\text{Contínuo:}\\,\\,f_{\\text{Uniform}}(x;a,b)=\\frac{1}{b-a}\\,\\,\\, \\forall a\\leq x\\leq b$$\n",
    "* Binomial y multinomial: sirve para validad la probabilidad de $x$ éxitos en $n$ intentos con probabilidad de éxito $0<p<1$. $$B(x;n,p)=\\binom{n}{x} \\cdot p^x(1-p)^{n-x}\\,\\,\\, \\forall x\\in\\mathbb{N}_{\\leq n}$$\n",
    "* Poisson: muy útil para eventos en el tiempo. *e.g.* número de partículas radiactivas emitidas en el tiempo como resultado de un decaimiento radiactivo. $$P(x;\\lambda(t))=\\frac{\\lambda(t)^x}{x!}e^{-\\lambda(t)}\\,\\,\\, \\forall x\\in\\mathbb{N}$$\n",
    "* Exponencial: para simular decaimientos radiactivos por ejemplo. $$f_{\\text{Exp}}(x;\\lambda)=\\lambda e^{-\\lambda x}\\,\\,\\, \\forall x\\in\\Re_{>}$$\n",
    "* Normal: mejor conocida como la Gaussiana o campana de Gauss esta distribución es muy importante ya que es el resultado de la [ley de grandes números](https://ocw.mit.edu/courses/electrical-engineering-and-computer-science/6-041-probabilistic-systems-analysis-and-applied-probability-fall-2010/video-lectures/lecture-19-weak-law-of-large-numbers/). $$f_{\\text{Normal}}(x;\\mu,\\sigma)=\\frac{1}{\\sqrt{2\\pi \\sigma^2}}e^{-\\frac{(x-\\mu)^2}{2\\sigma^2}}\\,\\,\\, \\forall x\\in\\Re$$\n",
    "\n",
    "## Momentos de las distribuciones\n",
    "\n",
    "A la pregunta de que podemos hacer con las distribuciones se me ocurre que <u>todo</u> y <u>nada</u> a la vez. Nada por que la distribución de probabilidad nos da información de los eventos que son probables y en qué medida pero no me da certeza absoluta de un acontecimiento. Por otra parte todo porque esa información es suficiente para obtener los valores esperados de los experimentos con un rango de **confiabilidad**. Definimos entonces el valor esperado de un observable $\\mathbf{A}$ como,\n",
    "$$\\langle\\mathbf{A}\\rangle\\colon=\\int_{-\\infty}^{\\infty}\\mathbf{A}(x)f_{\\mathcal{X}}(x)dx$$\n",
    "\n",
    "Por eso hablamos de los promedios o los momentos de una distribución. El momento $k$-ésimo $\\langle x^k\\rangle$ es,\n",
    "$$E[\\mathcal{X}^k]=\\int_{-\\infty}^{\\infty}x^kf_{\\mathcal{X}}(x)dx,$$\n",
    "con $\\langle x\\rangle$ el más conocido y denominado la media de la distribución o $\\mu$.\n",
    "\n",
    "Definimos igualmente el momento central $k$-ésimo $\\mu_k$,\n",
    "$$\\mu_k=\\langle(x-\\mu)^k\\rangle=\\int_{-\\infty}^{\\infty}(x-\\mu)^kf_{\\mathcal{X}}(x)dx,$$\n",
    "con $\\mu$ la media de la distribución. Respecto a los momentos centrales, noten que $\\mu_0=1$, $\\mu_1=0$ y $\\mu_2$ es la varianza $VAR[\\mathcal{X}]$ o mejor conocida como el cuadrado de la desviación estándar $\\sigma^2$. Cabe resaltar que existen otros dos momentos centrales que resultan muy útiles cuando se están analizando distribuciones y son la asimetría (*skewness*) y la curtosis (*kurtosis*) definidas respectivamente,\n",
    "$$\\gamma_1\\colon=\\frac{\\mu_3}{\\sigma^3}$$\n",
    "$$\\gamma_2\\colon=\\frac{\\mu_4}{\\sigma^4}$$\n",
    "\n",
    "> Ejercicio: Calcular la media, $\\sigma$, asimetría y curtosis para las distribuciones mencionadas en la sección anterior.\n",
    "\n",
    "### Calcular promedios\n",
    "\n",
    "En la práctica los promedios se calculan a partir de la secuencia de números resultantes de la medición sobre una variable aleatoria $\\mathcal{X}$. Si $\\{x_1,x_2,x_3,\\dots,x_{N-1},x_N\\}$ es la secuencia de $N$ mediciones sobre $\\mathcal{X}$, entonces,\n",
    "$$\\langle\\mathbf{A}\\rangle\\simeq\\langle\\mathbf{A}\\rangle_N\\colon=\\frac{1}{N}\\sum_{j=1}^{N}\\mathbf{A}(x_j).$$\n",
    "Aunque no lo podremos alcanzar a ver en el contexto de este curso,\n",
    "$$\\langle\\mathbf{A}\\rangle-\\langle\\mathbf{A}\\rangle_N=\\mathbb{O}\\left(\\frac{1}{\\sqrt{N}}\\right),$$\n",
    "o el orden de las fluctuaciones. Quiere decir que cuando $N\\to\\infty$, las cantidades calculadas coinciden con los promedios.\n",
    "\n",
    "## Funciones generadoras\n",
    "\n",
    "Aunque este tema sea un poco avanzado para la clase, los invito a que revisen el tema de funciones generadoras que para el caso contínuo se conoce como función generadora de momentos (**MGF**) y para el caso discreto se conoce como función generadora de probabilidad (**PGF** - o transformada $\\mathcal{Z}$). **MGF** se define como $M_{\\mathcal{X}}(t)=E[e^{t x}]$ y **PGF** como $P_{\\mathcal{X}}(z)=E[z^{x}]$. Nota matemática: se dice que la **MGF** existe si $\\exists\\,\\epsilon>0\\,\\mid\\,M_{\\mathcal{X}}(t)<\\infty\\,\\forall t\\in(-\\epsilon,\\epsilon)$. Para el caso de la transformada $\\mathcal{Z}$ la condición de existencia está garantizada al menos para $z\\in[0,1]$.\n",
    "\n",
    "¿Porqué se llaman funciones generadoras?\n",
    "\n",
    "Si **MGF** existe entonces quiere decir que,\n",
    "$$M_{\\mathcal{X}}(t)=E[e^{t x}]=E\\left[\\sum_{k=0}^{\\infty}\\frac{x^k t^k}{k!}\\right]=\\sum_{k=0}^{\\infty}\\frac{\\langle x^k\\rangle}{k!}t^k.$$\n",
    "¡Esto implicando que los coeficientes de la expansi\\'on contienen la informaci\\'on de los momentos!\n",
    "\n",
    "> Preguntas interesantes para reflexionar:\n",
    "> * ¿Tienen alguna relación **MGF** con la transformada de Laplace o la de Fourier en su efecto?\n",
    "> * ¿Qué quiere decir que $P_{\\mathcal{X}}(z)=M_{\\mathcal{X}}(\\log z)$?\n",
    "> * ¿Puede usted calcular cualquier momento de la distribución a partir de **PGF** o **MGF**?\n",
    "\n",
    "## Composición de variables aleatorias\n",
    "\n",
    "En teoría de la probabilidad es importante entender como se pueden relacionar múltiples variables para lo cual es importante entender el condepto de independencia. Se dice que dos variables aleatorias son independientes si $P(\\mathcal{X}=x,\\mathcal{Y}=y)=P(\\mathcal{X}=x)P(\\mathcal{Y}=y)$. Esta regla se le conoce la regla de composición. Por ejemplo, si $\\mathcal{X}$ representa la intensidad lumínica del sol y $\\mathcal{Y}$ la cantidad de lluvia, ¿son $\\mathcal{X}$ y $\\mathcal{Y}$ independientes?\n",
    "\n",
    "### Probabilidad marginal\n",
    "\n",
    "Si un evento se describe mediante dos variables $\\mathcal{X}$ y $\\mathcal{Y}$, entonces $P(\\mathcal{X}=x)=\\sum_{y}P(\\mathcal{X}=x,\\mathcal{Y}=y)$\n",
    "\n",
    "### Probabilidad condicionada y el teorema de Bayes\n",
    "\n",
    "$P(\\mathcal{Y}=y\\mid\\mathcal{X}=x)$ lee la probabilidad que $\\mathcal{Y}$ sea $y$ dado que $\\mathcal{X}$ es $x$. Lo que estamos haciendo es limitando el espacio de muestreo a una región específica. En otras palabras,\n",
    "$$P(\\mathcal{Y}=y\\mid\\mathcal{X}=x)=\\frac{P(\\mathcal{Y}=y,\\mathcal{X}=x)}{P(\\mathcal{X}=x)},$$\n",
    "lo que nos lleva al teorema de Bayes o \"regla de composición\",\n",
    "$$P(\\mathcal{Y}=y\\mid\\mathcal{X}=x)=\\frac{P(\\mathcal{Y}=y)P(\\mathcal{X}=x\\mid\\mathcal{Y}=y)}{P(\\mathcal{X}=x)}$$\n",
    "\n",
    "### Tareas de composición\n",
    "\n",
    "**Tarea:**\n",
    "* Demostrar que si $\\mathcal{X}=\\mathcal{X}_1+\\mathcal{X}_2$, siendo $\\mathcal{X}_1$ y $\\mathcal{X}_2$ dos variables aleatorias, entonces $\\mathcal{X}$ es una variable aleatoria cuya función generadora cumple la siguiente regla:\n",
    "$$\\text{Discreto:}\\,\\,P_{\\mathcal{X}}(z)=P_{\\mathcal{X}_1}(z)\\times P_{\\mathcal{X}_2}(z)$$\n",
    "$$\\text{Contínuo:}\\,\\,M_{\\mathcal{X}}(t)=M_{\\mathcal{X}_1}(t)\\times M_{\\mathcal{X}_2}(t)$$\n",
    "* A partir del resultado anterior, muestre que la composición de dos distribuciones exponenciales dan como resultado una distribución $\\Gamma$-Gamma\n",
    "* A partir de **MGF** encuentre los momentos $k$-ésimos de la distribución\n",
    "\n",
    "## Números aleatorios\n",
    "\n",
    "Ya hemos comentado que para generar una variable aleatori $\\mathcal{X}$ de una distribución $F_{\\mathcal{X}}(x)$ sólo necesitamos generar una distribución uniforme entre $[0,1)$. Para probar que esto en efecto es así, tomemos la densidad de probabilidad de una distribución uniforme para $\\mathcal{Y}$ ($f_{\\text{Uniform}(y)=1}\\,\\,\\forall y\\in[0,1)$) y calculemos la probabilidad ,\n",
    "$$P(\\mathcal{Y}\\in(y,y+dy])=dy,$$\n",
    "pero como $0\\leq F_{\\mathcal{X}}(x)\\leq1$, entonces yo puedo hacer la siguiente sustitución: $y=F_{\\mathcal{X}}(x)$ con $dy=f_{\\mathcal{X}}(x)dx$. Dado que la distribución acumulativa es no decreciente entonces existe una correspondencia 1 a 1 <u>por la derecha</u> para cada valor de $x$ y $y$. Esto implica entonces que si $x=F_{\\mathcal{X}}^{-1}(y)$,\n",
    "$$P(\\mathcal{X}\\in(x,x+dx])=f_{\\mathcal{X}}(x)dx.$$\n",
    "\n",
    "Sin embargo, como sólo podemos acceder a *pseudo*-generadores debemos probar la eficiencia de los generadores. Para ello se deben realizar las siguientes pruebas:\n",
    "1. Test de ergodicidad: verificar que $\\langle y^k\\rangle=\\frac{1}{k+1}+\\mathbb{O}(1/\\sqrt{N})$ con $N$ el número de ensayos de la variable aleatoria $\\mathcal{Y}$\n",
    "1. Test de independencia/estocasticidad: el promedio de ensayos consecutivos de la variable aleatoria $\\mathcal{Y}$ debe ser $\\langle y_{\\text{pares}\\equiv2i}y_{\\text{impares}\\equiv2i+1}\\rangle=\\frac{1}{4}$\n",
    "1. Graficar $y_{\\text{impares}\\equiv2i+1}$ vs $y_{\\text{pares}\\equiv2i}$: No deberíamos observar patrones\n",
    "1. Graficar $\\sqrt{N}\\left(\\langle y^k\\rangle-\\frac{1}{k+1}\\right)$ vs $k$. Deberíamos observar que es de orden 1!\n",
    "\n",
    "Si todos estos tests pasan, entonces tenemos un buen generador de números aleatorio.\n",
    "\n",
    "# Ejercicios para la clase:\n",
    "\n",
    "* Utilizar [Numpy Random](https://docs.scipy.org/doc/numpy-1.14.0/reference/routines.random.html) para generar números aleatorios con una distribución uniforme\n",
    "* Correr los tests de verificación de aleatoriedad (estocasticidad) y ergodicidad\n",
    "* Graficar la distribución uniforme, exponencial, $\\Gamma$-gamma y normal con Seaborn [distplot](https://seaborn.pydata.org/generated/seaborn.distplot.html)\n",
    "* Calcular la distribución de números de $\\pi$ hasta $n$ número de digitos. (¡Ver y correr el código de la siguiente celda que me devuelve una cadena de caracteres con $N$ digitos decimales de $\\pi$!)\n",
    "* Bono: Graficar la distribución de <u>pares</u> de digitos consecutivos de $\\pi$ sin repetición. *e.g.*\n",
    "$14159265358979\\dots$ lo convierto en la siguiente lista,\n",
    "```python\n",
    "pi_pairs=[14,15,92,65,35,89,79,...]\n",
    "```\n",
    "para graficar con Matplotlib histogram o Seaborn distplot (La elección es personal)\n",
    "\n",
    "## Para el ejercicio a entregar la siguiente semana (viernes 14 de febrero a la media noche) debe escoger el primero y uno de los dos puntos finales\n",
    "* Revisar repositorios de datos y leer un artículo (¿Qué les parece el de Tarantino?): [538](http://fivethirtyeight.com/), [538 data](https://data.fivethirtyeight.com/)\n",
    "* Descargar la base de datos de [FIFA 20](https://www.kaggle.com/stefanoleone992/fifa-20-complete-player-dataset) y determinar con base a la información obtenida desde el año 2015 hasta la fecha cual es la probabilidad de que un jugador mejore su puntaje total, se mantenga igual y desmejore. ¿Podría repetir este ejercicio y validar si existen diferencias entre los jugadores de los diferentes sub-continentes? (Africa, Asia, America del Sur, Europa, America del Norte, Oceanía)\n",
    "* Instalar y configurar Twitter developer account para extraer los Tweets de su personaje político favorito (Por favor usar [Tweepy](https://towardsdatascience.com/tweepy-for-beginners-24baf21f2c25)) - Hay personajes políticos que tienen una actividad gigantesca en twitter y por ende entre más datos mejor. La idea es que con base a los textos minados de los Tweets ud pueda graficar: un histograma de las palabras más utilizadas, un histograma del número de palabras usadas por tweet (con y sin emoji's), un histograma de la longitud de los tweets en caracteres (con y sin espacios), un histograma de la longitud de las palabras utilizadas y un histograma que contabilice el # de emoji's que la persona escribe por tweet. Responda si ¿puede identificar alguna distribución en los histogramas analizados? Las mejores 5 respuestas tendrán un bono y la oportunidad de presentar el trabajo a sus compañeros."
   ]
  },
  {
   "cell_type": "code",
   "execution_count": 1,
   "metadata": {},
   "outputs": [
    {
     "name": "stdout",
     "output_type": "stream",
     "text": [
      "length of map? 25000000\n",
      "pi(100)= 1415926535897932384626433832795028841971693993751058209749445923078164062862089986280348253421170679\n"
     ]
    }
   ],
   "source": [
    "## Binary file \"pi50.4.bin\" authored from https://www.angio.net/pi/\n",
    "# If you want to crunch in some numbers go to http://www.numberworld.org/y-cruncher\n",
    "import mmap\n",
    "N = 100 # 100 decimal places from PI\n",
    "pi_string = \"\"\n",
    "with open(\"pi50.4.bin\", \"r+b\") as f:\n",
    "    mm = mmap.mmap(f.fileno(), 0)\n",
    "    mm.readline()\n",
    "    print(\"length of map?\",len(mm))\n",
    "    for j in range(N//2+1):\n",
    "        pi_string += \"%d%d\"%((mm[j]&0xf0)>>4,mm[j] & 0xf)\n",
    "    pi_string = pi_string[:N]\n",
    "    print(\"pi(%d)=\"%(N),pi_string)\n",
    "    mm.close()"
   ]
  },
  {
   "cell_type": "code",
   "execution_count": null,
   "metadata": {},
   "outputs": [],
   "source": []
  }
 ],
 "metadata": {
  "kernelspec": {
   "display_name": "fisi2028",
   "language": "python",
   "name": "fisi2028"
  },
  "language_info": {
   "codemirror_mode": {
    "name": "ipython",
    "version": 3
   },
   "file_extension": ".py",
   "mimetype": "text/x-python",
   "name": "python",
   "nbconvert_exporter": "python",
   "pygments_lexer": "ipython3",
   "version": "3.7.6"
  }
 },
 "nbformat": 4,
 "nbformat_minor": 4
}
