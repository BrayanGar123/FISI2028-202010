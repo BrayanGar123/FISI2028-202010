{
 "cells": [
  {
   "cell_type": "code",
   "execution_count": 1,
   "metadata": {},
   "outputs": [
    {
     "name": "stdout",
     "output_type": "stream",
     "text": [
      "MatPlotLib backend is module://ipykernel.pylab.backend_inline\n"
     ]
    }
   ],
   "source": [
    "import sys\n",
    "import os\n",
    "\n",
    "from string import punctuation\n",
    "import datetime\n",
    "from tqdm import tqdm\n",
    "\n",
    "from collections import Counter\n",
    "import numpy as np\n",
    "import pandas as pd\n",
    "\n",
    "# import wordcloud as wc\n",
    "import pycountry as pc\n",
    "import pycountry_convert as pcc\n",
    "import nltk\n",
    "from emoji import UNICODE_EMOJI\n",
    "import seaborn as sns\n",
    "import matplotlib as mpl\n",
    "import matplotlib.pyplot as plt\n",
    "import matplotlib.font_manager as mfm\n",
    "if sys.platform == 'darwin':\n",
    "    font_path = '/Users/juan/Library/Fonts/Apple Color Emoji.ttc'\n",
    "elif sys.platform == 'linux':\n",
    "    font_path = '/usr/local/share/fonts/emojione-android.ttf'\n",
    "prop = mfm.FontProperties(fname=font_path) # find this font\n",
    "plt.rcParams['font.family'] = prop.get_family()\n",
    "# sns.set()\n",
    "%matplotlib inline\n",
    "print('MatPlotLib backend is',mpl.get_backend())\n",
    "\n",
    "# ## https://github.com/wireapp/wire-desktop/wiki/Colorful-emojis-on-Linux\n",
    "# from fontTools.ttLib import TTFont\n",
    "# def char_in_font(Unicode_char, font):\n",
    "#     for cmap in font['cmap'].tables:\n",
    "#         if cmap.isUnicode():\n",
    "#             if ord(Unicode_char) in cmap.cmap:\n",
    "#                 return True\n",
    "#     return False\n",
    "# uni_char = '\\U0001f469'\n",
    "# print(\"emoji %s in font?\"%uni_char,char_in_font(uni_char, TTFont(font_path, fontNumber=0)))\n",
    "# plt.annotate(\"😅\", (0.5, 0.3), size=30)\n",
    "# plt.annotate(\"😢\", (0.5, 0.8), size=30)\n",
    "# plt.annotate(uni_char, (0.5, 0.5), size=30)\n",
    "\n",
    "flatten = lambda l: [item for sublist in l for item in sublist]"
   ]
  },
  {
   "cell_type": "markdown",
   "metadata": {},
   "source": [
    "# Ejemplo de Twitter: ver [vínculo](https://towardsdatascience.com/tweepy-for-beginners-24baf21f2c25)"
   ]
  },
  {
   "cell_type": "code",
   "execution_count": 2,
   "metadata": {},
   "outputs": [],
   "source": [
    "import tweepy\n",
    "\n",
    "class TweetMiner(object):\n",
    "\n",
    "    result_limit    =   20    \n",
    "    data            =   []\n",
    "    api             =   False\n",
    "\n",
    "    twitter_keys = {\n",
    "        'consumer_key':        'oTLqvmc5I8KT9XJLTeY3O3eux',\n",
    "        'consumer_secret':     'Mv97oefVHiA9Zeu0874LVlbQg9eIlOJjCKM4VrXlfzAOv6cGeL',\n",
    "        'access_token_key':    '363315072-oTTGdUEE3yolCvl5h4de0Bu6CysOVnRRALbDucR9',\n",
    "        'access_token_secret': '4kNrT9HRYTM1RIBUgBnK8Mlm9waq6C5YhTxqHSV1jPgbw'\n",
    "    }\n",
    "    \n",
    "    tweet_mode = 'extended'\n",
    "\n",
    "    def __init__(self, keys_dict=twitter_keys, api=api, result_limit = 20):\n",
    "        self.twitter_keys = keys_dict\n",
    "        auth = tweepy.OAuthHandler(keys_dict['consumer_key'], keys_dict['consumer_secret'])\n",
    "        auth.set_access_token(keys_dict['access_token_key'], keys_dict['access_token_secret'])\n",
    "        self.api = tweepy.API(auth,retry_count=10, retry_delay=5, retry_errors=set([503]))\n",
    "        self.twitter_keys = keys_dict\n",
    "        self.result_limit = result_limit\n",
    "        \n",
    "\n",
    "    def mine_user_tweets(\n",
    "        self, user=\"nytimes\",\n",
    "        mine_rewteets=False,\n",
    "        max_pages=20\n",
    "    ):\n",
    "        data           =  []\n",
    "        last_tweet_id  =  False\n",
    "        page           =  1\n",
    "        while page <= max_pages:\n",
    "            if last_tweet_id:\n",
    "                statuses   =   self.api.user_timeline(screen_name=user,\n",
    "                    count=self.result_limit,\n",
    "                    max_id=last_tweet_id - 1,\n",
    "                    tweet_mode = 'extended',\n",
    "                    include_retweets=mine_rewteets\n",
    "                )        \n",
    "            else:\n",
    "                statuses   =   self.api.user_timeline(screen_name=user,\n",
    "                    count=self.result_limit,\n",
    "                    tweet_mode = 'extended',\n",
    "                    include_retweets=mine_rewteets\n",
    "                )\n",
    "                \n",
    "            for item in statuses:\n",
    "                mined = {\n",
    "                    'tweet_id':        item.id,\n",
    "                    'name':            item.user.name,\n",
    "                    'screen_name':     item.user.screen_name,\n",
    "                    'retweet_count':   item.retweet_count,\n",
    "                    'text':            item.full_text,\n",
    "                    'mined_at':        datetime.datetime.now(),\n",
    "                    'created_at':      item.created_at,\n",
    "                    'favourite_count': item.favorite_count,\n",
    "                    'hashtags':        item.entities['hashtags'],\n",
    "                    'status_count':    item.user.statuses_count,\n",
    "                    'location':        item.place,\n",
    "                    'source_device':   item.source\n",
    "                }\n",
    "                try:\n",
    "                    mined['retweet_text'] = item.retweeted_status.full_text\n",
    "                except:\n",
    "                    mined['retweet_text'] = 'None'\n",
    "                try:\n",
    "                    mined['quote_text'] = item.quoted_status.full_text\n",
    "                    mined['quote_screen_name'] = status.quoted_status.user.screen_name\n",
    "                except:\n",
    "                    mined['quote_text'] = 'None'\n",
    "                    mined['quote_screen_name'] = 'None'\n",
    "                last_tweet_id = item.id\n",
    "                data.append(mined)\n",
    "            page += 1\n",
    "            \n",
    "        return data"
   ]
  },
  {
   "cell_type": "code",
   "execution_count": 3,
   "metadata": {},
   "outputs": [],
   "source": [
    "miner=TweetMiner(result_limit = 200)\n",
    "mined_tweets = pd.DataFrame(miner.mine_user_tweets(user='MariaFdaCabal', max_pages=10))"
   ]
  },
  {
   "cell_type": "code",
   "execution_count": 4,
   "metadata": {},
   "outputs": [
    {
     "data": {
      "text/html": [
       "<div>\n",
       "<style scoped>\n",
       "    .dataframe tbody tr th:only-of-type {\n",
       "        vertical-align: middle;\n",
       "    }\n",
       "\n",
       "    .dataframe tbody tr th {\n",
       "        vertical-align: top;\n",
       "    }\n",
       "\n",
       "    .dataframe thead th {\n",
       "        text-align: right;\n",
       "    }\n",
       "</style>\n",
       "<table border=\"1\" class=\"dataframe\">\n",
       "  <thead>\n",
       "    <tr style=\"text-align: right;\">\n",
       "      <th></th>\n",
       "      <th>tweet_id</th>\n",
       "      <th>name</th>\n",
       "      <th>screen_name</th>\n",
       "      <th>retweet_count</th>\n",
       "      <th>text</th>\n",
       "      <th>mined_at</th>\n",
       "      <th>created_at</th>\n",
       "      <th>favourite_count</th>\n",
       "      <th>hashtags</th>\n",
       "      <th>status_count</th>\n",
       "      <th>location</th>\n",
       "      <th>source_device</th>\n",
       "      <th>retweet_text</th>\n",
       "      <th>quote_text</th>\n",
       "      <th>quote_screen_name</th>\n",
       "      <th>TEXT</th>\n",
       "    </tr>\n",
       "  </thead>\n",
       "  <tbody>\n",
       "    <tr>\n",
       "      <th>0</th>\n",
       "      <td>1244797082181001219</td>\n",
       "      <td>María Fernanda Cabal</td>\n",
       "      <td>MariaFdaCabal</td>\n",
       "      <td>18</td>\n",
       "      <td>https://t.co/5m295aztxs</td>\n",
       "      <td>2020-03-30 23:54:09.279385</td>\n",
       "      <td>2020-03-31 01:22:06</td>\n",
       "      <td>48</td>\n",
       "      <td>[]</td>\n",
       "      <td>65510</td>\n",
       "      <td>None</td>\n",
       "      <td>Twitter for iPhone</td>\n",
       "      <td>none</td>\n",
       "      <td>None</td>\n",
       "      <td>None</td>\n",
       "      <td>https://t.co/5m295aztxs</td>\n",
       "    </tr>\n",
       "    <tr>\n",
       "      <th>1</th>\n",
       "      <td>1244768872026247172</td>\n",
       "      <td>María Fernanda Cabal</td>\n",
       "      <td>MariaFdaCabal</td>\n",
       "      <td>34</td>\n",
       "      <td>#columna | \"aquí hace justicia recordar que ha...</td>\n",
       "      <td>2020-03-30 23:54:09.279398</td>\n",
       "      <td>2020-03-30 23:30:00</td>\n",
       "      <td>76</td>\n",
       "      <td>[{'text': 'Columna', 'indices': [0, 8]}]</td>\n",
       "      <td>65510</td>\n",
       "      <td>None</td>\n",
       "      <td>TweetDeck</td>\n",
       "      <td>none</td>\n",
       "      <td>None</td>\n",
       "      <td>None</td>\n",
       "      <td>#columna | \"aquí hace justicia recordar que ha...</td>\n",
       "    </tr>\n",
       "  </tbody>\n",
       "</table>\n",
       "</div>"
      ],
      "text/plain": [
       "              tweet_id                  name    screen_name  retweet_count  \\\n",
       "0  1244797082181001219  María Fernanda Cabal  MariaFdaCabal             18   \n",
       "1  1244768872026247172  María Fernanda Cabal  MariaFdaCabal             34   \n",
       "\n",
       "                                                text  \\\n",
       "0                            https://t.co/5m295aztxs   \n",
       "1  #columna | \"aquí hace justicia recordar que ha...   \n",
       "\n",
       "                    mined_at          created_at  favourite_count  \\\n",
       "0 2020-03-30 23:54:09.279385 2020-03-31 01:22:06               48   \n",
       "1 2020-03-30 23:54:09.279398 2020-03-30 23:30:00               76   \n",
       "\n",
       "                                   hashtags  status_count location  \\\n",
       "0                                        []         65510     None   \n",
       "1  [{'text': 'Columna', 'indices': [0, 8]}]         65510     None   \n",
       "\n",
       "        source_device retweet_text quote_text quote_screen_name  \\\n",
       "0  Twitter for iPhone         none       None              None   \n",
       "1           TweetDeck         none       None              None   \n",
       "\n",
       "                                                TEXT  \n",
       "0                            https://t.co/5m295aztxs  \n",
       "1  #columna | \"aquí hace justicia recordar que ha...  "
      ]
     },
     "execution_count": 4,
     "metadata": {},
     "output_type": "execute_result"
    }
   ],
   "source": [
    "mined_tweets.text = mined_tweets.text.apply(lambda x: x.lower())\n",
    "mined_tweets.retweet_text = mined_tweets.retweet_text.apply(lambda x: x.lower())\n",
    "mined_tweets['TEXT'] = mined_tweets.loc[:,['text','retweet_text']].apply(\n",
    "    lambda x: x['text'] if x['retweet_text'] == 'none' else x['retweet_text'],\n",
    "    axis=1\n",
    ")\n",
    "mined_tweets[:2]"
   ]
  },
  {
   "cell_type": "code",
   "execution_count": 5,
   "metadata": {},
   "outputs": [
    {
     "name": "stdout",
     "output_type": "stream",
     "text": [
      "Número de Tweets originales: 784 (39.30%)\n"
     ]
    }
   ],
   "source": [
    "print(\"Número de Tweets originales: %d (%.2lf%%)\"%(\n",
    "    np.sum(mined_tweets.retweet_text == 'none'),\n",
    "    np.sum(mined_tweets.retweet_text == 'none')*100/len(mined_tweets)\n",
    "))"
   ]
  },
  {
   "cell_type": "code",
   "execution_count": 6,
   "metadata": {},
   "outputs": [
    {
     "name": "stdout",
     "output_type": "stream",
     "text": [
      "Número de Tweets replicados (retweets): 1211 (60.70%)\n"
     ]
    }
   ],
   "source": [
    "print(\"Número de Tweets replicados (retweets): %d (%.2lf%%)\"%(\n",
    "    np.sum(mined_tweets.retweet_text != 'none'),\n",
    "    np.sum(mined_tweets.retweet_text != 'none')*100/len(mined_tweets)\n",
    "))"
   ]
  },
  {
   "cell_type": "markdown",
   "metadata": {},
   "source": [
    "## Histograma de longitud de tweets con y sin espacios\n",
    "\n",
    "Cuando revisamos los tweets en el modo extendido para ver todos los caracteres, hay que tener presente que el campo `text` está truncado por defecto cuando haces un retweet. De lo contrario no lo trunca. Entonces, podemos hacer la estadística de longitud de tweets y retweets y luego juntos\n",
    "\n",
    "### Sólo Tweets"
   ]
  },
  {
   "cell_type": "code",
   "execution_count": 7,
   "metadata": {},
   "outputs": [
    {
     "data": {
      "image/png": "[encoded data removed]",
      "text/plain": [
       "<Figure size 432x288 with 1 Axes>"
      ]
     },
     "metadata": {
      "needs_background": "light"
     },
     "output_type": "display_data"
    }
   ],
   "source": [
    "fig = plt.figure()\n",
    "tmparr1 = mined_tweets.apply(\n",
    "    lambda x: len(x['text']) if x['retweet_text'] == 'none' else -1,\n",
    "    axis=1\n",
    ")\n",
    "tmparr1a = mined_tweets.apply(\n",
    "    lambda x: len(x['text'].replace(' ','')) if x['retweet_text'] == 'none' else -1,\n",
    "    axis=1\n",
    ")\n",
    "sns.distplot(\n",
    "    list(\n",
    "        filter(lambda x: x >= 0,tmparr1)\n",
    "    ),bins=30\n",
    ")\n",
    "sns.distplot(\n",
    "    list(\n",
    "        filter(lambda x: x >= 0,tmparr1a)\n",
    "    ),bins=30\n",
    ")\n",
    "fig.legend(labels=['with spaces','without spaces'])\n",
    "ax = fig.get_axes()\n",
    "ax[0].set_title('Character count histogram TWEETS')\n",
    "ax[0].set_xlabel('# of characters')\n",
    "ax[0].set_ylabel('frequency $f$')\n",
    "plt.show()"
   ]
  },
  {
   "cell_type": "markdown",
   "metadata": {},
   "source": [
    "### Sólo Retweets"
   ]
  },
  {
   "cell_type": "code",
   "execution_count": 8,
   "metadata": {},
   "outputs": [
    {
     "data": {
      "image/png": "[encoded data removed]",
      "text/plain": [
       "<Figure size 432x288 with 1 Axes>"
      ]
     },
     "metadata": {
      "needs_background": "light"
     },
     "output_type": "display_data"
    }
   ],
   "source": [
    "fig = plt.figure()\n",
    "tmparr2 = mined_tweets.apply(\n",
    "    lambda x: len(x['retweet_text']) if x['retweet_text'] != 'none' else -1,\n",
    "    axis=1\n",
    ")\n",
    "tmparr2a = mined_tweets.apply(\n",
    "    lambda x: len(x['retweet_text'].replace(' ','')) if x['retweet_text'] != 'none' else -1,\n",
    "    axis=1\n",
    ")\n",
    "sns.distplot(\n",
    "    list(\n",
    "        filter(lambda x: x >= 0,tmparr2)\n",
    "    ),bins=30\n",
    ")\n",
    "sns.distplot(\n",
    "    list(\n",
    "        filter(lambda x: x >= 0,tmparr2a)\n",
    "    ),bins=30\n",
    ")\n",
    "fig.legend(labels=['with spaces','without spaces'])\n",
    "ax = fig.get_axes()\n",
    "ax[0].set_title('Character count histogram RE-TWEETS')\n",
    "ax[0].set_xlabel('# of characters')\n",
    "ax[0].set_ylabel('frequency $f$')\n",
    "plt.show()"
   ]
  },
  {
   "cell_type": "markdown",
   "metadata": {},
   "source": [
    "### Tweets y Retweets juntos"
   ]
  },
  {
   "cell_type": "code",
   "execution_count": 9,
   "metadata": {},
   "outputs": [
    {
     "data": {
      "image/png": "[encoded data removed]",
      "text/plain": [
       "<Figure size 432x288 with 1 Axes>"
      ]
     },
     "metadata": {
      "needs_background": "light"
     },
     "output_type": "display_data"
    }
   ],
   "source": [
    "fig = plt.figure()\n",
    "sns.distplot(\n",
    "    list(\n",
    "        filter(lambda x: x >= 0,tmparr1)\n",
    "    ) + list(\n",
    "        filter(lambda x: x >= 0,tmparr2)\n",
    "    ),bins=30\n",
    ")\n",
    "sns.distplot(\n",
    "    list(\n",
    "        filter(lambda x: x >= 0,tmparr1a)\n",
    "    ) + list(\n",
    "        filter(lambda x: x >= 0,tmparr2a)\n",
    "    ),bins=30\n",
    ")\n",
    "fig.legend(labels=['with spaces','without spaces'])\n",
    "ax = fig.get_axes()\n",
    "ax[0].set_title('Character count histogram TWEETS+RE-TWEETS')\n",
    "ax[0].set_xlabel('# of characters')\n",
    "ax[0].set_ylabel('frequency $f$')\n",
    "plt.show()"
   ]
  },
  {
   "cell_type": "markdown",
   "metadata": {},
   "source": [
    "### ¿Por qué tenemos Tweets con tantos caracteres?\n",
    "Seguramente es por las menciones (@), las cadenas (#) o los vínculos (http...)"
   ]
  },
  {
   "cell_type": "code",
   "execution_count": 10,
   "metadata": {},
   "outputs": [
    {
     "name": "stdout",
     "output_type": "stream",
     "text": [
      "\n",
      "    Tabla de rangos de número de caracteres vs\n",
      "    frecuencia para los Tweets/Retweets\n",
      "\n"
     ]
    },
    {
     "data": {
      "text/html": [
       "<div>\n",
       "<style scoped>\n",
       "    .dataframe tbody tr th:only-of-type {\n",
       "        vertical-align: middle;\n",
       "    }\n",
       "\n",
       "    .dataframe tbody tr th {\n",
       "        vertical-align: top;\n",
       "    }\n",
       "\n",
       "    .dataframe thead th {\n",
       "        text-align: right;\n",
       "    }\n",
       "</style>\n",
       "<table border=\"1\" class=\"dataframe\">\n",
       "  <thead>\n",
       "    <tr style=\"text-align: right;\">\n",
       "      <th></th>\n",
       "      <th>max # chars</th>\n",
       "      <th>freq:tweets</th>\n",
       "      <th>freq:re-tweets</th>\n",
       "    </tr>\n",
       "  </thead>\n",
       "  <tbody>\n",
       "    <tr>\n",
       "      <th>0</th>\n",
       "      <td>50.0</td>\n",
       "      <td>1423</td>\n",
       "      <td>806</td>\n",
       "    </tr>\n",
       "    <tr>\n",
       "      <th>1</th>\n",
       "      <td>100.0</td>\n",
       "      <td>132</td>\n",
       "      <td>80</td>\n",
       "    </tr>\n",
       "    <tr>\n",
       "      <th>2</th>\n",
       "      <td>150.0</td>\n",
       "      <td>131</td>\n",
       "      <td>158</td>\n",
       "    </tr>\n",
       "    <tr>\n",
       "      <th>3</th>\n",
       "      <td>200.0</td>\n",
       "      <td>81</td>\n",
       "      <td>160</td>\n",
       "    </tr>\n",
       "    <tr>\n",
       "      <th>4</th>\n",
       "      <td>250.0</td>\n",
       "      <td>94</td>\n",
       "      <td>194</td>\n",
       "    </tr>\n",
       "    <tr>\n",
       "      <th>5</th>\n",
       "      <td>300.0</td>\n",
       "      <td>120</td>\n",
       "      <td>450</td>\n",
       "    </tr>\n",
       "    <tr>\n",
       "      <th>6</th>\n",
       "      <td>inf</td>\n",
       "      <td>14</td>\n",
       "      <td>147</td>\n",
       "    </tr>\n",
       "  </tbody>\n",
       "</table>\n",
       "</div>"
      ],
      "text/plain": [
       "   max # chars  freq:tweets  freq:re-tweets\n",
       "0         50.0         1423             806\n",
       "1        100.0          132              80\n",
       "2        150.0          131             158\n",
       "3        200.0           81             160\n",
       "4        250.0           94             194\n",
       "5        300.0          120             450\n",
       "6          inf           14             147"
      ]
     },
     "execution_count": 10,
     "metadata": {},
     "output_type": "execute_result"
    }
   ],
   "source": [
    "rangos = (50,100,150,200,250,300,np.inf)\n",
    "num_tweets1 = [ np.sum(tmparr1 <= it) for it in rangos ]\n",
    "num_tweets2 = [ np.sum(tmparr2 <= it) for it in rangos ]\n",
    "num_tweets1 = [ nt - (\n",
    "    num_tweets1[it-1] if it > 0 else 0\n",
    ") for it,nt in enumerate(num_tweets1) ]\n",
    "num_tweets2 = [ nt - (\n",
    "    num_tweets2[it-1] if it > 0 else 0\n",
    ") for it,nt in enumerate(num_tweets2) ]\n",
    "print(\"\"\"\n",
    "    Tabla de rangos de número de caracteres vs\n",
    "    frecuencia para los Tweets/Retweets\n",
    "\"\"\")\n",
    "pd.DataFrame(\n",
    "    list(zip(rangos,num_tweets1,num_tweets2)),\n",
    "    columns=['max # chars','freq:tweets','freq:re-tweets']\n",
    ")"
   ]
  },
  {
   "cell_type": "markdown",
   "metadata": {},
   "source": [
    "### Acá escogemos un tweet para rastear bugs en nuestras funciones de filtrado"
   ]
  },
  {
   "cell_type": "code",
   "execution_count": 11,
   "metadata": {},
   "outputs": [
    {
     "name": "stdout",
     "output_type": "stream",
     "text": [
      "El Tweet 330 tiene todo tipo de referencias!\n",
      "\u001b[93mTest Tweet:\u001b[0m 🎥 #envivo | declaración del presidente de la república @ivanduque. https://t.co/px2empyhif\n",
      "\u001b[31mRAW String:\u001b[0m b'\\\\U0001f3a5 #envivo | declaraci\\xf3n del presidente de la rep\\xfablica @ivanduque. https://t.co/px2empyhif'\n"
     ]
    }
   ],
   "source": [
    "debugid = mined_tweets.retweet_text[mined_tweets.retweet_text.apply(\n",
    "    lambda x: '#envivo | declaración del presidente de la república' in x\n",
    ")].index[0]\n",
    "print(\"El Tweet %d tiene todo tipo de referencias!\"%debugid)\n",
    "tmptext = mined_tweets.retweet_text[debugid]\n",
    "print(\"\\033[93mTest Tweet:\\033[0m\",tmptext)\n",
    "print(\"\\033[31mRAW String:\\033[0m\",tmptext.encode('raw_unicode_escape'))\n",
    "del tmptext"
   ]
  },
  {
   "cell_type": "markdown",
   "metadata": {},
   "source": [
    "### Una función para contar vínculos, menciones y cadenas, y filtrarlas"
   ]
  },
  {
   "cell_type": "code",
   "execution_count": 12,
   "metadata": {},
   "outputs": [],
   "source": [
    "def filter_refs(s,links={'@':False,'#':False,'http':True},invert=False):\n",
    "    from collections import Counter\n",
    "    # if invert, then it leaves instead of removing\n",
    "    count = Counter({'@':0,'#':0,'http':0})\n",
    "    new_s = s[:] if not invert else ''\n",
    "    def studyText(t,rSeq):\n",
    "        # agregar espacios precediendo los caracteres por si acaso!\n",
    "        tmpt = t.replace(rSeq,' '+rSeq)\n",
    "        return (\n",
    "            len(tmpt.split(rSeq))-1,\n",
    "            \" \".join([\n",
    "                it for it in tmpt.split() if ((\n",
    "                    not it.startswith(rSeq) and not invert\n",
    "                ) or (\n",
    "                    it.startswith(rSeq) and invert\n",
    "                ))\n",
    "            ])\n",
    "        )\n",
    "    for rSeq in count:\n",
    "        if links.get(rSeq,False):\n",
    "            if not invert:\n",
    "                tmpcount,new_s = studyText(new_s,rSeq)\n",
    "                count[rSeq] = tmpcount\n",
    "            else:\n",
    "                tmpcount,tmp_s = studyText(s,rSeq)\n",
    "                count[rSeq] = tmpcount\n",
    "                new_s += (' ' if new_s != '' else '') + tmp_s\n",
    "        else:\n",
    "            tmpcount,tmp_s = studyText(new_s if not invert else s,rSeq)\n",
    "            count[rSeq] = tmpcount\n",
    "    return count,new_s"
   ]
  },
  {
   "cell_type": "code",
   "execution_count": 13,
   "metadata": {},
   "outputs": [
    {
     "name": "stdout",
     "output_type": "stream",
     "text": [
      "\u001b[93mPrint filtered test text:\u001b[0m (Counter({'@': 1, '#': 1, 'http': 1}), '🎥 #envivo | declaración del presidente de la república @ivanduque.')\n",
      "\u001b[93mPrint filtered test text:\u001b[0m (Counter({'@': 1, '#': 1, 'http': 1}), '@ivanduque.')\n",
      "\u001b[93mPrint filtered test text:\u001b[0m (Counter({'@': 1, '#': 1, 'http': 1}), '#envivo')\n",
      "\u001b[93mPrint filtered test text:\u001b[0m (Counter({'@': 1, '#': 1, 'http': 1}), 'https://t.co/px2empyhif')\n"
     ]
    }
   ],
   "source": [
    "print(\n",
    "    \"\\033[93mPrint filtered test text:\\033[0m\",\n",
    "    filter_refs(\n",
    "        mined_tweets.retweet_text[debugid],\n",
    "        {'@':False,'#':False,'http':True},\n",
    "        invert=False\n",
    "    )\n",
    ")\n",
    "print(\n",
    "    \"\\033[93mPrint filtered test text:\\033[0m\",\n",
    "    filter_refs(\n",
    "        mined_tweets.retweet_text[debugid],\n",
    "        {'@':True,'#':False,'http':False},\n",
    "        invert=True\n",
    "    )\n",
    ")\n",
    "print(\n",
    "    \"\\033[93mPrint filtered test text:\\033[0m\",\n",
    "    filter_refs(\n",
    "        mined_tweets.retweet_text[debugid],\n",
    "        {'@':False,'#':True,'http':False},\n",
    "        invert=True\n",
    "    )\n",
    ")\n",
    "print(\n",
    "    \"\\033[93mPrint filtered test text:\\033[0m\",\n",
    "    filter_refs(\n",
    "        mined_tweets.retweet_text[debugid],\n",
    "        {'@':False,'#':False,'http':True},\n",
    "        invert=True\n",
    "    )\n",
    ")"
   ]
  },
  {
   "cell_type": "markdown",
   "metadata": {},
   "source": [
    "### Una función para contar emojis y filtrarlos\n",
    "> ver [counters](http://docs.python.org/library/collections.html#collections.Counter)\n",
    "> \n",
    "> ver [emojis](https://unicode.org/Public/emoji/13.0/)"
   ]
  },
  {
   "cell_type": "code",
   "execution_count": 14,
   "metadata": {},
   "outputs": [],
   "source": [
    "def createUnicodeEmojiTuple():\n",
    "    emojis = np.array(list(UNICODE_EMOJI.keys()))\n",
    "    lens = np.array(list(map(len, emojis)))\n",
    "    maxlen = lens.max()\n",
    "    elist = []\n",
    "    for l in range(maxlen,0,-1):\n",
    "        elist += list(emojis[lens == l])\n",
    "    return tuple(elist)\n",
    "UNICODE_EMOJI_TUPLE = createUnicodeEmojiTuple()\n",
    "## ¡Es una función que necesita más trabajo!\n",
    "def filter_emoji(s,remove=True,invert=False,translate=False):\n",
    "    global UNICODE_EMOJI_TUPLE\n",
    "    def process_emoji_string(S,emoji_list):\n",
    "        assert len(emoji_list) > 0 and isinstance(emoji_list,list)\n",
    "        if len(emoji_list) == 1:\n",
    "            return (emoji_list[0]+' ') * (len(S.split(emoji_list[0]))-1)\n",
    "        return (emoji_list[0]+' ').join([\n",
    "            '' if s_it=='' else process_emoji_string(s_it,emoji_list[1:])\n",
    "            for s_it in S.split(emoji_list[0])\n",
    "        ])\n",
    "    count = Counter({})\n",
    "    new_s = s[:]\n",
    "    it=0\n",
    "    while it < len(new_s):\n",
    "        if new_s[it:].startswith(UNICODE_EMOJI_TUPLE):\n",
    "            for emoji in UNICODE_EMOJI_TUPLE:\n",
    "                if new_s[it:].startswith(emoji):\n",
    "                    count[emoji] = 0\n",
    "                    it += len(emoji)\n",
    "                    break\n",
    "        else:\n",
    "            it += 1\n",
    "    found_emoji_list = sorted(list(count.keys()), key=len, reverse=True)\n",
    "    for emoji in found_emoji_list:\n",
    "        count[emoji] = new_s.count(emoji)\n",
    "        new_s = new_s.replace(emoji,' ')\n",
    "    if invert:\n",
    "        new_s = process_emoji_string(s[:],found_emoji_list)\n",
    "        new_s = ' '.join(new_s.split())\n",
    "    elif not remove:\n",
    "        new_s = s[:]\n",
    "    else:\n",
    "        new_s = ' '.join(new_s.split())\n",
    "\n",
    "    if translate:\n",
    "        # Return Counter using the Emoji's short description as key\n",
    "        return Counter({\n",
    "            UNICODE_EMOJI[emoji].replace(':','').replace('_',' ') : count[emoji]\n",
    "            for emoji in count.keys()\n",
    "        }),new_s\n",
    "    return count,new_s"
   ]
  },
  {
   "cell_type": "code",
   "execution_count": 15,
   "metadata": {},
   "outputs": [
    {
     "name": "stdout",
     "output_type": "stream",
     "text": [
      "\u001b[93mTest text:\u001b[0m 🎥 #envivo | declaración del presidente de la república @ivanduque. https://t.co/px2empyhif\n",
      "\u001b[32m  Filtered String:\u001b[0m #envivo | declaración del presidente de la república @ivanduque. https://t.co/px2empyhif\n",
      "\u001b[34m           Emojis:\u001b[0m 🎥\n",
      "\u001b[93mTest text:\u001b[0m 🎥 #envivo | declaración del presidente de la república @ivanduque. https://t.co/px2empyhif\n",
      "\u001b[32m  Filtered String:\u001b[0m 🎥\n",
      "\u001b[34m           Emojis:\u001b[0m 🎥\n",
      "\u001b[93mTest text:\u001b[0m ♈🧰🎥 #enviv🤰🏽🏩o | d👁🦲ecla♐🎿ración🏴󠁧󠁢󠁥󠁮󠁧󠁿 de🍒l p🏌🏼‍♂️📽residente de la 🇬🇺🍡repúbli👳🏽‍♂️ca @iv🇲🇱🇾a🤴🏾nduque. htt🇲🇳ps://t.co/px🥓2emp😱🧖🏿‍♂️yhif\n",
      "\u001b[32m  Filtered String:\u001b[0m #enviv o | d ecla ración de l p residente de la repúbli ca @iv a nduque. htt ps://t.co/px 2emp yhif\n",
      "\u001b[34m           Emojis:\u001b[0m ♈,🧰,🎥,🤰🏽,🏩,👁,🦲,♐,🎿,🏴󠁧󠁢󠁥󠁮󠁧󠁿,🍒,🏌🏼‍♂️,📽,🇬🇺,🍡,👳🏽‍♂️,🇲🇱,🇾,🤴🏾,🇲🇳,🥓,😱,🧖🏿‍♂️\n",
      "\u001b[93mTest text:\u001b[0m ♈🧰🎥 #enviv🤰🏽🏩o | d👁🦲ecla♐🎿ración🏴󠁧󠁢󠁥󠁮󠁧󠁿 de🍒l p🏌🏼‍♂️📽residente de la 🇬🇺🍡repúbli👳🏽‍♂️ca @iv🇲🇱🇾a🤴🏾nduque. htt🇲🇳ps://t.co/px🥓2emp😱🧖🏿‍♂️yhif\n",
      "\u001b[32m  Filtered String:\u001b[0m ♈ 🧰 🎥 🤰🏽 🏩 👁 🦲 ♐ 🎿 🏴󠁧󠁢󠁥󠁮󠁧󠁿 🍒 🏌🏼‍♂️ 📽 🇬🇺 🍡 👳🏽‍♂️ 🇲🇱 🇾 🤴🏾 🇲🇳 🥓 😱 🧖🏿‍♂️\n",
      "\u001b[34m           Emojis:\u001b[0m ♈,🧰,🎥,🤰🏽,🏩,👁,🦲,♐,🎿,🏴󠁧󠁢󠁥󠁮󠁧󠁿,🍒,🏌🏼‍♂️,📽,🇬🇺,🍡,👳🏽‍♂️,🇲🇱,🇾,🤴🏾,🇲🇳,🥓,😱,🧖🏿‍♂️\n"
     ]
    }
   ],
   "source": [
    "tmptext = mined_tweets.retweet_text[debugid]\n",
    "print(\"\\033[93mTest text:\\033[0m\",tmptext)\n",
    "fe = filter_emoji(tmptext,remove=True,invert=False,translate=False)\n",
    "print(\"\\033[32m  Filtered String:\\033[0m %s\"%fe[1])\n",
    "print(\"\\033[34m           Emojis:\\033[0m %s\"%','.join(list(fe[0].keys())))\n",
    "\n",
    "print(\"\\033[93mTest text:\\033[0m\",tmptext)\n",
    "fe = filter_emoji(tmptext,remove=True,invert=True,translate=False)\n",
    "print(\"\\033[32m  Filtered String:\\033[0m %s\"%fe[1])\n",
    "print(\"\\033[34m           Emojis:\\033[0m %s\"%','.join(list(fe[0].keys())))\n",
    "\n",
    "tmptext = '♈🧰🎥 #enviv🤰🏽🏩o | d👁🦲ecla♐🎿ración🏴󠁧󠁢󠁥󠁮󠁧󠁿 de🍒l p🏌🏼‍♂️📽residente de la 🇬🇺🍡repúbli👳🏽‍♂️ca @iv🇲🇱🇾a🤴🏾nduque. htt🇲🇳ps://t.co/px🥓2emp😱🧖🏿‍♂️yhif'\n",
    "print(\"\\033[93mTest text:\\033[0m\",tmptext)\n",
    "fe = filter_emoji(tmptext,remove=True,invert=False,translate=False)\n",
    "print(\"\\033[32m  Filtered String:\\033[0m %s\"%fe[1])\n",
    "print(\"\\033[34m           Emojis:\\033[0m %s\"%','.join(list(fe[0].keys())))\n",
    "\n",
    "print(\"\\033[93mTest text:\\033[0m\",tmptext)\n",
    "fe = filter_emoji(tmptext,remove=True,invert=True,translate=False)\n",
    "print(\"\\033[32m  Filtered String:\\033[0m %s\"%fe[1])\n",
    "print(\"\\033[34m           Emojis:\\033[0m %s\"%','.join(list(fe[0].keys())))\n",
    "del fe,tmptext"
   ]
  },
  {
   "cell_type": "markdown",
   "metadata": {},
   "source": [
    "### Una función para filtrar puntuación y \"stopwords\""
   ]
  },
  {
   "cell_type": "code",
   "execution_count": 16,
   "metadata": {},
   "outputs": [],
   "source": [
    "def filter_punc_n_stopwords(s,stops=True):\n",
    "    # http://www.nltk.org/api/nltk.tokenize.html\n",
    "    tknzr = nltk.tokenize.TweetTokenizer(\n",
    "        preserve_case=False,\n",
    "        reduce_len=True,\n",
    "        strip_handles=False\n",
    "    )\n",
    "    other_punctuation = ('¿','“','”','¡','...','...')\n",
    "    other_stop_words = ('si','así')\n",
    "    stop_words = nltk.corpus.stopwords.words('spanish')+nltk.corpus.stopwords.words('english')\n",
    "    count = 0\n",
    "    new_s = s[:]\n",
    "    # quitar puntuación (excepto probablemente smileys!)\n",
    "    words = [ \n",
    "        it for it in tknzr.tokenize(new_s)\n",
    "        if len(it)>1 and (it not in punctuation and it not in other_punctuation)\n",
    "    ]\n",
    "    #This is the more pythonic way of removing stopwords\n",
    "    important_words = filter(\n",
    "        lambda x: x not in stop_words and x not in other_stop_words, words\n",
    "    ) if stops else words\n",
    "    return list(important_words)"
   ]
  },
  {
   "cell_type": "code",
   "execution_count": 17,
   "metadata": {},
   "outputs": [
    {
     "name": "stdout",
     "output_type": "stream",
     "text": [
      "\u001b[93mPrint processed test text:\u001b[0m ['#envivo', 'declaración', 'del', 'presidente', 'de', 'la', 'república', '@ivanduque', 'https://t.co/px2empyhif']\n",
      "\u001b[93mPrint processed test text:\u001b[0m ['#envivo', 'declaración', 'presidente', 'república', '@ivanduque', 'https://t.co/px2empyhif']\n"
     ]
    }
   ],
   "source": [
    "print(\n",
    "    \"\\033[93mPrint processed test text:\\033[0m\",\n",
    "    filter_punc_n_stopwords(\n",
    "        mined_tweets.retweet_text[debugid],stops=False\n",
    "    )\n",
    ")\n",
    "print(\n",
    "    \"\\033[93mPrint processed test text:\\033[0m\",\n",
    "    filter_punc_n_stopwords(\n",
    "        mined_tweets.retweet_text[debugid],stops=True\n",
    "    )\n",
    ")"
   ]
  },
  {
   "cell_type": "markdown",
   "metadata": {},
   "source": [
    "#### Limpiar Tweets de referencias"
   ]
  },
  {
   "cell_type": "code",
   "execution_count": 18,
   "metadata": {},
   "outputs": [
    {
     "name": "stdout",
     "output_type": "stream",
     "text": [
      "Removiendo: @...\n",
      "Removiendo: #...\n",
      "Removiendo: http...\n"
     ]
    },
    {
     "data": {
      "image/png": "[encoded data removed]",
      "text/plain": [
       "<Figure size 432x288 with 1 Axes>"
      ]
     },
     "metadata": {
      "needs_background": "light"
     },
     "output_type": "display_data"
    },
    {
     "name": "stdout",
     "output_type": "stream",
     "text": [
      "\n",
      "    Tabla de rangos de número de referencias\n",
      "    (menciones-@, cadenas-#, links) vs\n",
      "    frecuencia para los Tweets/Retweets\n",
      "\n"
     ]
    },
    {
     "data": {
      "text/html": [
       "<div>\n",
       "<style scoped>\n",
       "    .dataframe tbody tr th:only-of-type {\n",
       "        vertical-align: middle;\n",
       "    }\n",
       "\n",
       "    .dataframe tbody tr th {\n",
       "        vertical-align: top;\n",
       "    }\n",
       "\n",
       "    .dataframe thead th {\n",
       "        text-align: right;\n",
       "    }\n",
       "</style>\n",
       "<table border=\"1\" class=\"dataframe\">\n",
       "  <thead>\n",
       "    <tr style=\"text-align: right;\">\n",
       "      <th></th>\n",
       "      <th>max # chars</th>\n",
       "      <th>freq:@</th>\n",
       "      <th>freq:#</th>\n",
       "      <th>freq:http</th>\n",
       "    </tr>\n",
       "  </thead>\n",
       "  <tbody>\n",
       "    <tr>\n",
       "      <th>0</th>\n",
       "      <td>50.0</td>\n",
       "      <td>214</td>\n",
       "      <td>214</td>\n",
       "      <td>276</td>\n",
       "    </tr>\n",
       "    <tr>\n",
       "      <th>1</th>\n",
       "      <td>100.0</td>\n",
       "      <td>132</td>\n",
       "      <td>133</td>\n",
       "      <td>142</td>\n",
       "    </tr>\n",
       "    <tr>\n",
       "      <th>2</th>\n",
       "      <td>150.0</td>\n",
       "      <td>135</td>\n",
       "      <td>132</td>\n",
       "      <td>92</td>\n",
       "    </tr>\n",
       "    <tr>\n",
       "      <th>3</th>\n",
       "      <td>200.0</td>\n",
       "      <td>81</td>\n",
       "      <td>88</td>\n",
       "      <td>86</td>\n",
       "    </tr>\n",
       "    <tr>\n",
       "      <th>4</th>\n",
       "      <td>250.0</td>\n",
       "      <td>98</td>\n",
       "      <td>104</td>\n",
       "      <td>120</td>\n",
       "    </tr>\n",
       "    <tr>\n",
       "      <th>5</th>\n",
       "      <td>300.0</td>\n",
       "      <td>113</td>\n",
       "      <td>101</td>\n",
       "      <td>68</td>\n",
       "    </tr>\n",
       "    <tr>\n",
       "      <th>6</th>\n",
       "      <td>350.0</td>\n",
       "      <td>11</td>\n",
       "      <td>12</td>\n",
       "      <td>0</td>\n",
       "    </tr>\n",
       "    <tr>\n",
       "      <th>7</th>\n",
       "      <td>400.0</td>\n",
       "      <td>0</td>\n",
       "      <td>0</td>\n",
       "      <td>0</td>\n",
       "    </tr>\n",
       "    <tr>\n",
       "      <th>8</th>\n",
       "      <td>450.0</td>\n",
       "      <td>0</td>\n",
       "      <td>0</td>\n",
       "      <td>0</td>\n",
       "    </tr>\n",
       "    <tr>\n",
       "      <th>9</th>\n",
       "      <td>500.0</td>\n",
       "      <td>0</td>\n",
       "      <td>0</td>\n",
       "      <td>0</td>\n",
       "    </tr>\n",
       "    <tr>\n",
       "      <th>10</th>\n",
       "      <td>inf</td>\n",
       "      <td>0</td>\n",
       "      <td>0</td>\n",
       "      <td>0</td>\n",
       "    </tr>\n",
       "  </tbody>\n",
       "</table>\n",
       "</div>"
      ],
      "text/plain": [
       "    max # chars  freq:@  freq:#  freq:http\n",
       "0          50.0     214     214        276\n",
       "1         100.0     132     133        142\n",
       "2         150.0     135     132         92\n",
       "3         200.0      81      88         86\n",
       "4         250.0      98     104        120\n",
       "5         300.0     113     101         68\n",
       "6         350.0      11      12          0\n",
       "7         400.0       0       0          0\n",
       "8         450.0       0       0          0\n",
       "9         500.0       0       0          0\n",
       "10          inf       0       0          0"
      ]
     },
     "execution_count": 18,
     "metadata": {},
     "output_type": "execute_result"
    }
   ],
   "source": [
    "fig = plt.figure()\n",
    "rangos = (50,100,150,200,250,300,350,400,450,500,np.inf)\n",
    "tmpdf = pd.DataFrame(rangos,columns=['max # chars'])\n",
    "for rSeq in ('@','#','http'):\n",
    "    print(\"Removiendo: %s...\"%rSeq)\n",
    "    tmparr = mined_tweets.loc[\n",
    "        mined_tweets.retweet_text == 'none','text'\n",
    "    ].apply(\n",
    "        lambda x: len(filter_refs(\n",
    "            x,\n",
    "            {rSeq:True},\n",
    "            invert=False\n",
    "        )[1])\n",
    "    )\n",
    "    num_tweets = [ np.sum(tmparr <= it) for it in rangos ]\n",
    "    num_tweets = [ nt - (\n",
    "        num_tweets[it-1] if it > 0 else 0\n",
    "    ) for it,nt in enumerate(num_tweets) ]\n",
    "    tmpdf['freq:'+rSeq] = num_tweets\n",
    "    sns.distplot(\n",
    "        tmparr,bins=20\n",
    "    )\n",
    "fig.legend(labels=('@','#','http'))\n",
    "ax = fig.get_axes()\n",
    "ax[0].set_title('Character count histogram of cleaned TWEETS')\n",
    "ax[0].set_xlabel('# of characters')\n",
    "ax[0].set_ylabel('frequency $f$')\n",
    "plt.show()\n",
    "print(\"\"\"\n",
    "    Tabla de rangos de número de referencias\n",
    "    (menciones-@, cadenas-#, links) vs\n",
    "    frecuencia para los Tweets/Retweets\n",
    "\"\"\")\n",
    "tmpdf"
   ]
  },
  {
   "cell_type": "markdown",
   "metadata": {},
   "source": [
    "#### Limpiar Retweets de referencias"
   ]
  },
  {
   "cell_type": "code",
   "execution_count": 19,
   "metadata": {},
   "outputs": [
    {
     "name": "stdout",
     "output_type": "stream",
     "text": [
      "Removiendo: @...\n",
      "Removiendo: #...\n",
      "Removiendo: http...\n"
     ]
    },
    {
     "data": {
      "image/png": "[encoded data removed]",
      "text/plain": [
       "<Figure size 432x288 with 1 Axes>"
      ]
     },
     "metadata": {
      "needs_background": "light"
     },
     "output_type": "display_data"
    },
    {
     "name": "stdout",
     "output_type": "stream",
     "text": [
      "\n",
      "    Tabla de rangos de número de referencias\n",
      "    (menciones-@, cadenas-#, links) vs\n",
      "    frecuencia para los Tweets/Retweets\n",
      "\n"
     ]
    },
    {
     "data": {
      "text/html": [
       "<div>\n",
       "<style scoped>\n",
       "    .dataframe tbody tr th:only-of-type {\n",
       "        vertical-align: middle;\n",
       "    }\n",
       "\n",
       "    .dataframe tbody tr th {\n",
       "        vertical-align: top;\n",
       "    }\n",
       "\n",
       "    .dataframe thead th {\n",
       "        text-align: right;\n",
       "    }\n",
       "</style>\n",
       "<table border=\"1\" class=\"dataframe\">\n",
       "  <thead>\n",
       "    <tr style=\"text-align: right;\">\n",
       "      <th></th>\n",
       "      <th>max # chars</th>\n",
       "      <th>freq:@</th>\n",
       "      <th>freq:#</th>\n",
       "      <th>freq:http</th>\n",
       "    </tr>\n",
       "  </thead>\n",
       "  <tbody>\n",
       "    <tr>\n",
       "      <th>0</th>\n",
       "      <td>50.0</td>\n",
       "      <td>28</td>\n",
       "      <td>23</td>\n",
       "      <td>51</td>\n",
       "    </tr>\n",
       "    <tr>\n",
       "      <th>1</th>\n",
       "      <td>100.0</td>\n",
       "      <td>91</td>\n",
       "      <td>89</td>\n",
       "      <td>134</td>\n",
       "    </tr>\n",
       "    <tr>\n",
       "      <th>2</th>\n",
       "      <td>150.0</td>\n",
       "      <td>165</td>\n",
       "      <td>159</td>\n",
       "      <td>130</td>\n",
       "    </tr>\n",
       "    <tr>\n",
       "      <th>3</th>\n",
       "      <td>200.0</td>\n",
       "      <td>175</td>\n",
       "      <td>178</td>\n",
       "      <td>182</td>\n",
       "    </tr>\n",
       "    <tr>\n",
       "      <th>4</th>\n",
       "      <td>250.0</td>\n",
       "      <td>243</td>\n",
       "      <td>228</td>\n",
       "      <td>249</td>\n",
       "    </tr>\n",
       "    <tr>\n",
       "      <th>5</th>\n",
       "      <td>300.0</td>\n",
       "      <td>430</td>\n",
       "      <td>461</td>\n",
       "      <td>462</td>\n",
       "    </tr>\n",
       "    <tr>\n",
       "      <th>6</th>\n",
       "      <td>350.0</td>\n",
       "      <td>79</td>\n",
       "      <td>71</td>\n",
       "      <td>2</td>\n",
       "    </tr>\n",
       "    <tr>\n",
       "      <th>7</th>\n",
       "      <td>400.0</td>\n",
       "      <td>0</td>\n",
       "      <td>1</td>\n",
       "      <td>0</td>\n",
       "    </tr>\n",
       "    <tr>\n",
       "      <th>8</th>\n",
       "      <td>450.0</td>\n",
       "      <td>0</td>\n",
       "      <td>0</td>\n",
       "      <td>0</td>\n",
       "    </tr>\n",
       "    <tr>\n",
       "      <th>9</th>\n",
       "      <td>500.0</td>\n",
       "      <td>0</td>\n",
       "      <td>0</td>\n",
       "      <td>0</td>\n",
       "    </tr>\n",
       "    <tr>\n",
       "      <th>10</th>\n",
       "      <td>inf</td>\n",
       "      <td>0</td>\n",
       "      <td>1</td>\n",
       "      <td>1</td>\n",
       "    </tr>\n",
       "  </tbody>\n",
       "</table>\n",
       "</div>"
      ],
      "text/plain": [
       "    max # chars  freq:@  freq:#  freq:http\n",
       "0          50.0      28      23         51\n",
       "1         100.0      91      89        134\n",
       "2         150.0     165     159        130\n",
       "3         200.0     175     178        182\n",
       "4         250.0     243     228        249\n",
       "5         300.0     430     461        462\n",
       "6         350.0      79      71          2\n",
       "7         400.0       0       1          0\n",
       "8         450.0       0       0          0\n",
       "9         500.0       0       0          0\n",
       "10          inf       0       1          1"
      ]
     },
     "execution_count": 19,
     "metadata": {},
     "output_type": "execute_result"
    }
   ],
   "source": [
    "fig = plt.figure()\n",
    "rangos = (50,100,150,200,250,300,350,400,450,500,np.inf)\n",
    "tmpdf = pd.DataFrame(rangos,columns=['max # chars'])\n",
    "for rSeq in ('@','#','http'):\n",
    "    print(\"Removiendo: %s...\"%rSeq)\n",
    "    tmparr = mined_tweets.loc[\n",
    "        mined_tweets.retweet_text != 'none','retweet_text'\n",
    "    ].apply(\n",
    "        lambda x: len(filter_refs(\n",
    "            x,\n",
    "            {rSeq:True},\n",
    "            invert=False\n",
    "        )[1])\n",
    "    )\n",
    "    num_tweets = [ np.sum(tmparr <= it) for it in rangos ]\n",
    "    num_tweets = [ nt - (\n",
    "        num_tweets[it-1] if it > 0 else 0\n",
    "    ) for it,nt in enumerate(num_tweets) ]\n",
    "    tmpdf['freq:'+rSeq] = num_tweets\n",
    "    sns.distplot(\n",
    "        tmparr,bins=20\n",
    "    )\n",
    "fig.legend(labels=('@','#','http'))\n",
    "ax = fig.get_axes()\n",
    "ax[0].set_title('Character count histogram of cleaned RE-TWEETS')\n",
    "ax[0].set_xlabel('# of characters')\n",
    "ax[0].set_ylabel('frequency $f$')\n",
    "plt.show()\n",
    "print(\"\"\"\n",
    "    Tabla de rangos de número de referencias\n",
    "    (menciones-@, cadenas-#, links) vs\n",
    "    frecuencia para los Tweets/Retweets\n",
    "\"\"\")\n",
    "tmpdf"
   ]
  },
  {
   "cell_type": "code",
   "execution_count": 20,
   "metadata": {},
   "outputs": [
    {
     "name": "stdout",
     "output_type": "stream",
     "text": [
      "cleaning!\n"
     ]
    }
   ],
   "source": [
    "print(\"cleaning!\")\n",
    "del tmparr1, tmparr1a, tmparr2, tmparr2a"
   ]
  },
  {
   "cell_type": "markdown",
   "metadata": {},
   "source": [
    "## Histograma de número de palabras usadas\n",
    "\n",
    "Aquí debemos hacer distinción de $2^5=32$ posibles casos:\n",
    "* Con y sin referencias: vínculos (http...), cadenas (#), y menciones (@)\n",
    "> Para reducir el número de casos a los que yo considero conveniente, voy a filtrar en el primer numeral los vínculos a sitios web y voy a dejar las menciones y cadenas\n",
    "* Con y sin Emojis\n",
    "* Con y sin puntuación$+$\"stopwords\""
   ]
  },
  {
   "cell_type": "markdown",
   "metadata": {},
   "source": [
    "**Crear un vector de palabras únicas:**\n",
    "\n",
    "Pueden usar ```set(['p1','p2','p3',...])```\n",
    "\n",
    "<mark>Nota 1:</mark> pueden hacer un prefiltrado usando lo que se conoce como **stopwords** (más información acceda [aquí](https://www.ranks.nl/stopwords)) y la herramienta para hacerlo es [NLTK (Natural Language ToolKit)](https://github.com/nltk/nltk/tree/develop/nltk). Aquí les dejo el [link!](https://stackoverflow.com/questions/5541745/get-rid-of-stopwords-and-punctuation)\n",
    "\n",
    "<mark>Nota 2:</mark> para los histogramas usen ```plt.hist``` o ```sns.distplot``` el que sea de su preferencia. Algo interesante es aprender a usar las nubes de palabras. Aquí les dejo un [ejemplo interesante de GOT](https://kaparker.com/posts/creating-word-clouds-with-python) ([otra opción más sofisticada](https://www.datacamp.com/community/tutorials/wordcloud-python)) y la [¡librería!](https://github.com/amueller/word_cloud)"
   ]
  },
  {
   "cell_type": "markdown",
   "metadata": {},
   "source": [
    "### Sólo Tweets:\n",
    "* Filtrar vinculos\n",
    "* Filtrar si/no emojis\n",
    "* Filtrar si/no \"stop words\""
   ]
  },
  {
   "cell_type": "code",
   "execution_count": 21,
   "metadata": {},
   "outputs": [
    {
     "name": "stdout",
     "output_type": "stream",
     "text": [
      "Opción: +Emojis +SW\n",
      "Opción: -Emojis +SW\n",
      "Opción: +Emojis -SW\n",
      "Opción: -Emojis -SW\n"
     ]
    },
    {
     "data": {
      "image/png": "[encoded data removed]",
      "text/plain": [
       "<Figure size 432x288 with 1 Axes>"
      ]
     },
     "metadata": {
      "needs_background": "light"
     },
     "output_type": "display_data"
    }
   ],
   "source": [
    "fig = plt.figure()\n",
    "# las opciones se eligen por filtro de emoji,\"stop words\"\n",
    "opciones = [(False,False),(True,False),(False,True),(True,True)]\n",
    "legend = ['+Emojis +SW','-Emojis +SW','+Emojis -SW','-Emojis -SW']\n",
    "colors = [\n",
    "    sns.xkcd_rgb[\"windows blue\"],\n",
    "    sns.xkcd_rgb[\"dusty purple\"],\n",
    "    sns.xkcd_rgb[\"amber\"],\n",
    "    sns.xkcd_rgb[\"faded green\"]\n",
    "]\n",
    "for it,(optEMOJI,optSW) in enumerate(opciones):\n",
    "    print('Opción:',legend[it])\n",
    "    sns.distplot(mined_tweets.loc[\n",
    "        mined_tweets.retweet_text == 'none','text'\n",
    "    ].apply(\n",
    "        lambda x: len(\n",
    "            filter_punc_n_stopwords(\n",
    "                filter_emoji(\n",
    "                    filter_refs(x,{'http':True},invert=False)[1],\n",
    "                    remove=optEMOJI,\n",
    "                    invert=False\n",
    "                )[1],\n",
    "                stops=optSW\n",
    "            )\n",
    "        )\n",
    "    ),bins=20,color=colors[it],hist_kws=dict(alpha=0.3))\n",
    "fig.legend(labels=legend)\n",
    "ax = fig.get_axes()\n",
    "ax[0].set_title('Word count histogram of cleaned TWEETS (\\u00B1Emojis \\u00B1StopWords)')\n",
    "ax[0].set_xlabel('# of words')\n",
    "ax[0].set_ylabel('frequency $f$')\n",
    "plt.show()"
   ]
  },
  {
   "cell_type": "markdown",
   "metadata": {},
   "source": [
    "Sería interesante mirar los histogramas de frecuencia de uso de emojis y también de uso de referencias.\n",
    "1. \\# emojis por Tweet\n",
    "1. Los 10 emojis más frecuentes\n",
    "1. \\# de referencias por Tweet (discrimada por tipo)\n",
    "1. Las 10 menciones más frecuentes\n",
    "1. Las 10 cadenas más frecuentes"
   ]
  },
  {
   "cell_type": "code",
   "execution_count": 22,
   "metadata": {},
   "outputs": [
    {
     "data": {
      "image/png": "[encoded data removed]",
      "text/plain": [
       "<Figure size 432x288 with 1 Axes>"
      ]
     },
     "metadata": {
      "needs_background": "light"
     },
     "output_type": "display_data"
    }
   ],
   "source": [
    "tmpdata = mined_tweets.loc[\n",
    "    mined_tweets.retweet_text == 'none','text'\n",
    "].apply(\n",
    "    lambda x: sum(filter_emoji(x,remove=True,invert=False)[0].values())\n",
    ")\n",
    "try:\n",
    "    sns.distplot(tmpdata)\n",
    "except RuntimeError:\n",
    "    sns.distplot(tmpdata,kde=False)\n",
    "del tmpdata\n",
    "ax = plt.gca()\n",
    "ax.set_title('Emoji count per TWEET histogram')\n",
    "ax.set_xlabel('# of Emojis')\n",
    "ax.set_ylabel('frequency $f$')\n",
    "plt.show()"
   ]
  },
  {
   "cell_type": "code",
   "execution_count": 24,
   "metadata": {},
   "outputs": [
    {
     "data": {
      "image/png": "[encoded data removed]",
      "text/plain": [
       "<Figure size 432x288 with 1 Axes>"
      ]
     },
     "metadata": {
      "needs_background": "light"
     },
     "output_type": "display_data"
    },
    {
     "name": "stdout",
     "output_type": "stream",
     "text": [
      "Most common emojis:\n",
      "\t ['🇨🇴' '👇🏻' '👏🏼' '👏' '💝' '📻' '🙏' '👇🏼' '🏆' '👹']\n"
     ]
    }
   ],
   "source": [
    "count = Counter({});tmpdata = mined_tweets.loc[\n",
    "    mined_tweets.retweet_text == 'none','text'\n",
    "].apply(\n",
    "    lambda x: filter_emoji(x,remove=True,invert=False,translate=False)[0]\n",
    ")\n",
    "for c in tmpdata:\n",
    "    count+=c\n",
    "mostcommon=np.array(count.most_common(10))\n",
    "h = sns.barplot(mostcommon[:,0],mostcommon[:,1])\n",
    "h.set_xticklabels(h.get_xticklabels(), rotation=45)\n",
    "h.set_title('Emoji frequency histogram in TWEETS')\n",
    "h.set_xlabel('Emoji')\n",
    "h.set_ylabel('frequency $f$')\n",
    "plt.show()\n",
    "print(\"Most common emojis:\\n\\t\",mostcommon[:,0])\n",
    "del h,tmpdata,count,mostcommon"
   ]
  },
  {
   "cell_type": "code",
   "execution_count": 25,
   "metadata": {},
   "outputs": [
    {
     "data": {
      "image/png": "[encoded data removed]",
      "text/plain": [
       "<Figure size 432x288 with 1 Axes>"
      ]
     },
     "metadata": {
      "needs_background": "light"
     },
     "output_type": "display_data"
    }
   ],
   "source": [
    "fig = plt.figure()\n",
    "tmpdata = mined_tweets.loc[\n",
    "    mined_tweets.retweet_text == 'none','text'\n",
    "].apply(\n",
    "    lambda x: filter_refs(x,invert=False)[0]\n",
    ")\n",
    "sns.distplot(tmpdata.apply(lambda x: x['@']),kde=False)\n",
    "sns.distplot(tmpdata.apply(lambda x: x['#']),kde=False)\n",
    "sns.distplot(tmpdata.apply(lambda x: x['http']),kde=False)\n",
    "fig.legend(labels=['Mentions (@)','Chains (#)','Links (http...)'])\n",
    "ax = fig.get_axes()\n",
    "ax[0].set_title('References count per TWEET histogram')\n",
    "ax[0].set_xlabel('# of references')\n",
    "ax[0].set_ylabel('frequency $f$')\n",
    "plt.show()"
   ]
  },
  {
   "cell_type": "code",
   "execution_count": 26,
   "metadata": {},
   "outputs": [
    {
     "data": {
      "image/png": "[encoded data removed]",
      "text/plain": [
       "<Figure size 432x288 with 1 Axes>"
      ]
     },
     "metadata": {
      "needs_background": "light"
     },
     "output_type": "display_data"
    },
    {
     "name": "stdout",
     "output_type": "stream",
     "text": [
      "Most common Mentions:\n",
      "\t ['@caivirtual' '@horadelaverdad' '@fiscaliacol' '@policiacolombia'\n",
      " '@onic_colombia' '@mininterior' '@alvarouribevel' '@lavozdeporras'\n",
      " '@sicsuper' '@eltiempo']\n"
     ]
    }
   ],
   "source": [
    "count = Counter({})\n",
    "tmpdata = flatten(list(mined_tweets.loc[\n",
    "    mined_tweets.retweet_text == 'none','text'\n",
    "].apply(\n",
    "    lambda x: filter_punc_n_stopwords(\n",
    "       filter_refs(\n",
    "        x,\n",
    "        {'@':True,'#':False,'http':False},\n",
    "        invert=True\n",
    "    )[1],stops=False\n",
    "    )\n",
    ")))\n",
    "for td in tmpdata:\n",
    "    if td in count.keys():\n",
    "        count[td] += 1\n",
    "    else:\n",
    "        count[td] = 1\n",
    "mostcommon=np.array(count.most_common(10))\n",
    "h = sns.barplot(mostcommon[:,0],mostcommon[:,1])\n",
    "h.set_xticklabels(h.get_xticklabels(), rotation=90)\n",
    "h.set_title('Most mentions-@ Plot in TWEETS')\n",
    "h.set_xlabel('Mention-@')\n",
    "h.set_ylabel('frequency $f$')\n",
    "plt.show()\n",
    "print(\"Most common Mentions:\\n\\t\",mostcommon[:,0])\n",
    "del h,tmpdata,count,mostcommon"
   ]
  },
  {
   "cell_type": "code",
   "execution_count": 28,
   "metadata": {},
   "outputs": [
    {
     "data": {
      "image/png": "[encoded data removed]",
      "text/plain": [
       "<Figure size 432x288 with 1 Axes>"
      ]
     },
     "metadata": {
      "needs_background": "light"
     },
     "output_type": "display_data"
    },
    {
     "name": "stdout",
     "output_type": "stream",
     "text": [
      "Most common emojis:\n",
      "\t ['#columna' '#opinión' '#lascosascomoson' '#fakenews' '#audio'\n",
      " '#onuvampira' '#nomásjep' '#colombiaunida' '#covidー19' '#comunidad']\n"
     ]
    }
   ],
   "source": [
    "count = Counter({})\n",
    "tmpdata = flatten(list(mined_tweets.loc[\n",
    "    mined_tweets.retweet_text == 'none','text'\n",
    "].apply(\n",
    "    lambda x: filter_punc_n_stopwords(\n",
    "       filter_refs(\n",
    "        x,\n",
    "        {'@':False,'#':True,'http':False},\n",
    "        invert=True\n",
    "    )[1],stops=False\n",
    "    )\n",
    ")))\n",
    "for td in tmpdata:\n",
    "    if td in count.keys():\n",
    "        count[td] += 1\n",
    "    else:\n",
    "        count[td] = 1\n",
    "mostcommon=np.array(count.most_common(10))\n",
    "h = sns.barplot(mostcommon[:,0],mostcommon[:,1])\n",
    "h.set_xticklabels(h.get_xticklabels(), rotation=90)\n",
    "h.set_title('Most chains-# Plot in TWEETS')\n",
    "h.set_xlabel('chain-#')\n",
    "h.set_ylabel('frequency $f$')\n",
    "plt.show()\n",
    "print(\"Most common emojis:\\n\\t\",mostcommon[:,0])\n",
    "del h,tmpdata,count,mostcommon"
   ]
  },
  {
   "cell_type": "code",
   "execution_count": 29,
   "metadata": {},
   "outputs": [
    {
     "data": {
      "image/png": "[encoded data removed]",
      "text/plain": [
       "<Figure size 432x288 with 1 Axes>"
      ]
     },
     "metadata": {
      "needs_background": "light"
     },
     "output_type": "display_data"
    },
    {
     "name": "stdout",
     "output_type": "stream",
     "text": [
      "Most common Words:\n",
      "\t ['farc' 'víctimas' 'país' 'colombia' 'hoy' 'policía' 'paz' 'eln'\n",
      " 'gobierno' 'coca']\n"
     ]
    }
   ],
   "source": [
    "count = Counter({})\n",
    "tmpdata = flatten(list(mined_tweets.loc[\n",
    "    mined_tweets.retweet_text == 'none','text'\n",
    "].apply(\n",
    "    lambda x: filter_punc_n_stopwords(\n",
    "        filter_refs(\n",
    "            filter_emoji(x,remove=True,invert=False,translate=False)[1],\n",
    "            {'@':True,'#':True,'http':True},\n",
    "            invert=False\n",
    "        )[1],stops=True\n",
    "    )\n",
    ")))\n",
    "for td in tmpdata:\n",
    "    if td in count.keys():\n",
    "        count[td] += 1\n",
    "    else:\n",
    "        count[td] = 1\n",
    "mostcommon=np.array(count.most_common(10))\n",
    "h = sns.barplot(mostcommon[:,0],mostcommon[:,1])\n",
    "h.set_xticklabels(h.get_xticklabels(), rotation=90)\n",
    "h.set_title('Most frequent word Plot in TWEETS')\n",
    "h.set_xlabel('Word')\n",
    "h.set_ylabel('frequency $f$')\n",
    "plt.show()\n",
    "print(\"Most common Words:\\n\\t\",mostcommon[:,0])\n",
    "del h,tmpdata,count,mostcommon"
   ]
  },
  {
   "cell_type": "markdown",
   "metadata": {},
   "source": [
    "### Sólo Retweets:\n",
    "* Filtrar vinculos\n",
    "* Filtrar si/no emojis\n",
    "* Filtrar si/no \"stop words\""
   ]
  },
  {
   "cell_type": "code",
   "execution_count": 30,
   "metadata": {},
   "outputs": [
    {
     "name": "stdout",
     "output_type": "stream",
     "text": [
      "Opción: +Emojis +SW\n",
      "Opción: -Emojis +SW\n",
      "Opción: +Emojis -SW\n",
      "Opción: -Emojis -SW\n"
     ]
    },
    {
     "data": {
      "image/png": "[encoded data removed]",
      "text/plain": [
       "<Figure size 432x288 with 1 Axes>"
      ]
     },
     "metadata": {
      "needs_background": "light"
     },
     "output_type": "display_data"
    }
   ],
   "source": [
    "fig = plt.figure()\n",
    "# las opciones se eligen por filtro de emoji,\"stop words\"\n",
    "opciones = [(False,False),(True,False),(False,True),(True,True)]\n",
    "legend = ['+Emojis +SW','-Emojis +SW','+Emojis -SW','-Emojis -SW']\n",
    "colors = [\n",
    "    sns.xkcd_rgb[\"windows blue\"],\n",
    "    sns.xkcd_rgb[\"dusty purple\"],\n",
    "    sns.xkcd_rgb[\"amber\"],\n",
    "    sns.xkcd_rgb[\"faded green\"]\n",
    "]\n",
    "for it,(optEMOJI,optSW) in enumerate(opciones):\n",
    "    print('Opción:',legend[it])\n",
    "    sns.distplot(mined_tweets.loc[\n",
    "        mined_tweets.retweet_text != 'none','retweet_text'\n",
    "    ].apply(\n",
    "        lambda x: len(\n",
    "            filter_punc_n_stopwords(\n",
    "                filter_emoji(\n",
    "                    filter_refs(x,{'http':True},invert=False)[1],\n",
    "                    remove=optEMOJI,\n",
    "                    invert=False\n",
    "                )[1],\n",
    "                stops=optSW\n",
    "            )\n",
    "        )\n",
    "    ),bins=20,color=colors[it],hist_kws=dict(alpha=0.3))\n",
    "fig.legend(labels=legend)\n",
    "ax = fig.get_axes()\n",
    "ax[0].set_title('Word count histogram of cleaned RE-TWEETS (\\u00B1Emojis \\u00B1StopWords)')\n",
    "ax[0].set_xlabel('# of words')\n",
    "ax[0].set_ylabel('frequency $f$')\n",
    "plt.show()"
   ]
  },
  {
   "cell_type": "markdown",
   "metadata": {},
   "source": [
    "Sería interesante mirar los histogramas de frecuencia de uso de emojis y también de uso de referencias.\n",
    "1. \\# emojis por Tweet\n",
    "1. Los 10 emojis más frecuentes\n",
    "1. \\# de referencias por Tweet (discrimada por tipo)\n",
    "1. Las 10 menciones más frecuentes\n",
    "1. Las 10 cadenas más frecuentes"
   ]
  },
  {
   "cell_type": "code",
   "execution_count": 31,
   "metadata": {},
   "outputs": [
    {
     "data": {
      "image/png": "[encoded data removed]",
      "text/plain": [
       "<Figure size 432x288 with 1 Axes>"
      ]
     },
     "metadata": {
      "needs_background": "light"
     },
     "output_type": "display_data"
    }
   ],
   "source": [
    "tmpdata = mined_tweets.loc[\n",
    "    mined_tweets.retweet_text != 'none','retweet_text'\n",
    "].apply(\n",
    "    lambda x: sum(filter_emoji(x,remove=True,invert=False)[0].values())\n",
    ")\n",
    "try:\n",
    "    sns.distplot(tmpdata)\n",
    "except RuntimeError:\n",
    "    sns.distplot(tmpdata,kde=False)\n",
    "del tmpdata\n",
    "ax = plt.gca()\n",
    "ax.set_title('Emoji count per RE-TWEET histogram')\n",
    "ax.set_xlabel('# of Emojis')\n",
    "ax.set_ylabel('frequency $f$')\n",
    "plt.show()"
   ]
  },
  {
   "cell_type": "code",
   "execution_count": 33,
   "metadata": {},
   "outputs": [
    {
     "data": {
      "image/png": "[encoded data removed]",
      "text/plain": [
       "<Figure size 432x288 with 1 Axes>"
      ]
     },
     "metadata": {
      "needs_background": "light"
     },
     "output_type": "display_data"
    },
    {
     "name": "stdout",
     "output_type": "stream",
     "text": [
      "Most common emojis:\n",
      "\t ['👏' '🤔' '⬇' '⚰' '🇨🇴' '👇' '🥚' '🚨' '🇧🇷' '🇨🇱']\n"
     ]
    }
   ],
   "source": [
    "count = Counter({});tmpdata = mined_tweets.loc[\n",
    "    mined_tweets.retweet_text != 'none','retweet_text'\n",
    "].apply(\n",
    "    lambda x: filter_emoji(x,remove=True,invert=False,translate=False)[0]\n",
    ")\n",
    "for c in tmpdata:\n",
    "    count+=c\n",
    "mostcommon=np.array(count.most_common(10))\n",
    "h = sns.barplot(mostcommon[:,0],mostcommon[:,1])\n",
    "h.set_xticklabels(h.get_xticklabels(), rotation=45)\n",
    "h.set_title('Emoji frequency histogram in RE-TWEETS')\n",
    "h.set_xlabel('Emoji')\n",
    "h.set_ylabel('frequency $f$')\n",
    "plt.show()\n",
    "print(\"Most common emojis:\\n\\t\",mostcommon[:,0])\n",
    "del h,tmpdata,count,mostcommon"
   ]
  },
  {
   "cell_type": "code",
   "execution_count": 34,
   "metadata": {},
   "outputs": [
    {
     "data": {
      "image/png": "[encoded data removed]",
      "text/plain": [
       "<Figure size 432x288 with 1 Axes>"
      ]
     },
     "metadata": {
      "needs_background": "light"
     },
     "output_type": "display_data"
    }
   ],
   "source": [
    "fig = plt.figure()\n",
    "tmpdata = mined_tweets.loc[\n",
    "    mined_tweets.retweet_text != 'none','retweet_text'\n",
    "].apply(\n",
    "    lambda x: filter_refs(x,invert=False)[0]\n",
    ")\n",
    "sns.distplot(tmpdata.apply(lambda x: x['@']),kde=False)\n",
    "sns.distplot(tmpdata.apply(lambda x: x['#']),kde=False)\n",
    "sns.distplot(tmpdata.apply(lambda x: x['http']),kde=False)\n",
    "fig.legend(labels=['Mentions (@)','Chains (#)','Links (http...)'])\n",
    "ax = fig.get_axes()\n",
    "ax[0].set_title('References count per RE-TWEET histogram')\n",
    "ax[0].set_xlabel('# of references')\n",
    "ax[0].set_ylabel('frequency $f$')\n",
    "plt.show()"
   ]
  },
  {
   "cell_type": "code",
   "execution_count": 35,
   "metadata": {},
   "outputs": [
    {
     "data": {
      "image/png": "[encoded data removed]",
      "text/plain": [
       "<Figure size 432x288 with 1 Axes>"
      ]
     },
     "metadata": {
      "needs_background": "light"
     },
     "output_type": "display_data"
    },
    {
     "name": "stdout",
     "output_type": "stream",
     "text": [
      "Most common @ mentions:\n",
      "\t ['@ivanduque' '@claudialopez' '@col_ejercito' '@policiacolombia'\n",
      " '@petrogustavo' '@jep_colombia' '@mariafdacabal' '@realdonaldtrump'\n",
      " '@fiscaliacol' '@alvarouribevel']\n"
     ]
    }
   ],
   "source": [
    "count = Counter({})\n",
    "tmpdata = flatten(list(mined_tweets.loc[\n",
    "    mined_tweets.retweet_text != 'none','retweet_text'\n",
    "].apply(\n",
    "    lambda x: filter_punc_n_stopwords(\n",
    "       filter_refs(\n",
    "        x,\n",
    "        {'@':True,'#':False,'http':False},\n",
    "        invert=True\n",
    "    )[1],stops=False\n",
    "    )\n",
    ")))\n",
    "for td in tmpdata:\n",
    "    if td in count.keys():\n",
    "        count[td] += 1\n",
    "    else:\n",
    "        count[td] = 1\n",
    "mostcommon=np.array(count.most_common(10))\n",
    "h = sns.barplot(mostcommon[:,0],mostcommon[:,1])\n",
    "h.set_xticklabels(h.get_xticklabels(), rotation=90)\n",
    "h.set_title('Most mentions-@ Plot in RE-TWEETS')\n",
    "h.set_xlabel('Mention-@')\n",
    "h.set_ylabel('frequency $f$')\n",
    "plt.show()\n",
    "print(\"Most common @ mentions:\\n\\t\",mostcommon[:,0])\n",
    "del h,tmpdata,count,mostcommon"
   ]
  },
  {
   "cell_type": "code",
   "execution_count": 36,
   "metadata": {},
   "outputs": [
    {
     "data": {
      "image/png": "[encoded data removed]",
      "text/plain": [
       "<Figure size 432x288 with 1 Axes>"
      ]
     },
     "metadata": {
      "needs_background": "light"
     },
     "output_type": "display_data"
    },
    {
     "name": "stdout",
     "output_type": "stream",
     "text": [
      "Most common # chains:\n",
      "\t ['#cuba' '#coronavirus' '#venezuela' '#chile' '#colombia'\n",
      " '#prevenciónyacción' '#últimahora' '#opinión' '#mañanasblu' '#afp']\n"
     ]
    }
   ],
   "source": [
    "count = Counter({})\n",
    "tmpdata = flatten(list(mined_tweets.loc[\n",
    "    mined_tweets.retweet_text != 'none','retweet_text'\n",
    "].apply(\n",
    "    lambda x: filter_punc_n_stopwords(\n",
    "       filter_refs(\n",
    "        x,\n",
    "        {'@':False,'#':True,'http':False},\n",
    "        invert=True\n",
    "    )[1],stops=False\n",
    "    )\n",
    ")))\n",
    "for td in tmpdata:\n",
    "    if td in count.keys():\n",
    "        count[td] += 1\n",
    "    else:\n",
    "        count[td] = 1\n",
    "mostcommon=np.array(count.most_common(10))\n",
    "h = sns.barplot(mostcommon[:,0],mostcommon[:,1])\n",
    "h.set_xticklabels(h.get_xticklabels(), rotation=90)\n",
    "h.set_title('Most chains-# Plot in RE-TWEETS')\n",
    "h.set_xlabel('chain-#')\n",
    "h.set_ylabel('frequency $f$')\n",
    "plt.show()\n",
    "print(\"Most common # chains:\\n\\t\",mostcommon[:,0])\n",
    "del h,tmpdata,count,mostcommon"
   ]
  },
  {
   "cell_type": "code",
   "execution_count": 37,
   "metadata": {},
   "outputs": [
    {
     "data": {
      "image/png": "[encoded data removed]",
      "text/plain": [
       "<Figure size 432x288 with 1 Axes>"
      ]
     },
     "metadata": {
      "needs_background": "light"
     },
     "output_type": "display_data"
    },
    {
     "name": "stdout",
     "output_type": "stream",
     "text": [
      "Most common Words:\n",
      "\t ['farc' 'gobierno' 'hoy' 'país' 'ser' 'colombia' 'ahora' 'años' 'mundo'\n",
      " 'presidente']\n"
     ]
    }
   ],
   "source": [
    "count = Counter({})\n",
    "tmpdata = flatten(list(mined_tweets.loc[\n",
    "    mined_tweets.retweet_text != 'none','retweet_text'\n",
    "].apply(\n",
    "    lambda x: filter_punc_n_stopwords(\n",
    "        filter_refs(\n",
    "            filter_emoji(x,remove=True,invert=False,translate=False)[1],\n",
    "            {'@':True,'#':True,'http':True},\n",
    "            invert=False\n",
    "        )[1],stops=True\n",
    "    )\n",
    ")))\n",
    "for td in tmpdata:\n",
    "    if td in count.keys():\n",
    "        count[td] += 1\n",
    "    else:\n",
    "        count[td] = 1\n",
    "mostcommon=np.array(count.most_common(10))\n",
    "h = sns.barplot(mostcommon[:,0],mostcommon[:,1])\n",
    "h.set_xticklabels(h.get_xticklabels(), rotation=90)\n",
    "h.set_title('Most frequent word Plot in RE-TWEETS')\n",
    "h.set_xlabel('Word')\n",
    "h.set_ylabel('frequency $f$')\n",
    "plt.show()\n",
    "print(\"Most common Words:\\n\\t\",mostcommon[:,0])\n",
    "del h,tmpdata,count,mostcommon"
   ]
  },
  {
   "cell_type": "markdown",
   "metadata": {},
   "source": [
    "# Ejemplo de FIFA\n",
    "\n",
    "Se descarga un archivo comprimizo y se puede descomprimir como `unzip fifa-20-complete-player-dataset.zip` que tiene los siguientes contenidos\n",
    "```bash\n",
    "players_15.csv\n",
    "players_16.csv\n",
    "players_17.csv\n",
    "players_18.csv\n",
    "players_19.csv\n",
    "players_20.csv\n",
    "```\n",
    "Cada archivo de texto tiene el mismo número de columnas y contiene información interesante. Los invito a que lo abran (Microsoft Excel, LibreOffice, o el de su preferencia) Si no quieren hacerlo, pueden mirar las columnas con el siguiente comando: e.g. `head -n1 players15.csv | sed 's/,/\\n/g'` con el siguiente output:\n",
    "```bash\n",
    "sofifa_id\n",
    "player_url\n",
    "short_name\n",
    "long_name\n",
    "age\n",
    "dob\n",
    "height_cm\n",
    "weight_kg\n",
    "nationality\n",
    "club\n",
    "overall\n",
    "potential\n",
    "value_eur\n",
    "wage_eur\n",
    "player_positions\n",
    "preferred_foot\n",
    "international_reputation\n",
    "weak_foot\n",
    "skill_moves\n",
    "work_rate\n",
    "body_type\n",
    "real_face\n",
    "release_clause_eur\n",
    "player_tags\n",
    "team_position\n",
    "team_jersey_number\n",
    "loaned_from\n",
    "joined\n",
    "contract_valid_until\n",
    "nation_position\n",
    "nation_jersey_number\n",
    "pace\n",
    "shooting\n",
    "passing\n",
    "dribbling\n",
    "defending\n",
    "physic\n",
    "gk_diving\n",
    "gk_handling\n",
    "gk_kicking\n",
    "gk_reflexes\n",
    "gk_speed\n",
    "gk_positioning\n",
    "player_traits\n",
    "attacking_crossing\n",
    "attacking_finishing\n",
    "attacking_heading_accuracy\n",
    "attacking_short_passing\n",
    "attacking_volleys\n",
    "skill_dribbling\n",
    "skill_curve\n",
    "skill_fk_accuracy\n",
    "skill_long_passing\n",
    "skill_ball_control\n",
    "movement_acceleration\n",
    "movement_sprint_speed\n",
    "movement_agility\n",
    "movement_reactions\n",
    "movement_balance\n",
    "power_shot_power\n",
    "power_jumping\n",
    "power_stamina\n",
    "power_strength\n",
    "power_long_shots\n",
    "mentality_aggression\n",
    "mentality_interceptions\n",
    "mentality_positioning\n",
    "mentality_vision\n",
    "mentality_penalties\n",
    "mentality_composure\n",
    "defending_marking\n",
    "defending_standing_tackle\n",
    "defending_sliding_tackle\n",
    "goalkeeping_diving\n",
    "goalkeeping_handling\n",
    "goalkeeping_kicking\n",
    "goalkeeping_positioning\n",
    "goalkeeping_reflexes\n",
    "ls\n",
    "st\n",
    "rs\n",
    "lw\n",
    "lf\n",
    "cf\n",
    "rf\n",
    "rw\n",
    "lam\n",
    "cam\n",
    "ram\n",
    "lm\n",
    "lcm\n",
    "cm\n",
    "rcm\n",
    "rm\n",
    "lwb\n",
    "ldm\n",
    "cdm\n",
    "rdm\n",
    "rwb\n",
    "lb\n",
    "lcb\n",
    "cb\n",
    "rcb\n",
    "rb\n",
    "```\n",
    "\n",
    "Para el ejercicio nos interesan: <u>nationality</u> y <u>overall</u> (¿quizás <u>potential</u>?)\n",
    "Para cargar el archivo, por ejemplo `players_15.csv` y sólo esas columnas podemos usar el comando de Numpy [loadtxt](https://docs.scipy.org/doc/numpy/reference/generated/numpy.loadtxt.html) o [genfromtxt](https://docs.scipy.org/doc/numpy/reference/generated/numpy.genfromtxt.html). Aquí les dejo el dos scripts de ejemplo para cada comando:\n",
    "```python\n",
    "test1 = np.array(\n",
    "    np.loadtxt(\n",
    "        'players_15.csv', skiprows=1, usecols=(0,4,8,10,11), delimiter=',',\n",
    "        dtype={\n",
    "            'names': ('sofifa_id','age','nationality', 'overall', 'potential'),\n",
    "            'formats': (np.int,np.int8,'S20', np.int8, np.int8)\n",
    "        },\n",
    "        unpack=True\n",
    "    )\n",
    ").T\n",
    "print(test1)\n",
    "\n",
    "test2 = np.array(\n",
    "    np.genfromtxt(\n",
    "        'players_15.csv', skip_header=True, usecols=(0,4,8,10,11), delimiter=',',\n",
    "        dtype=None, names=('sofifa_id','age','nationality', 'overall', 'potential'),\n",
    "        encoding=None, unpack=True\n",
    "    )\n",
    ").T\n",
    "print(test2)\n",
    "\n",
    "test3 = pd.read_csv(\n",
    "    filepath_or_buffer='players_15.csv',\n",
    "    sep=',',header=0,\n",
    "    usecols=[0,4,8,10,11],\n",
    "    dtype={\n",
    "        'sofifa_id' : np.int,\n",
    "        'age' : np.int8,\n",
    "        'nationality' : str,\n",
    "        'overall' : np.int8,\n",
    "        'potential' : np.int8,\n",
    "    }\n",
    ")\n",
    "test3\n",
    "```"
   ]
  },
  {
   "cell_type": "code",
   "execution_count": 38,
   "metadata": {},
   "outputs": [],
   "source": [
    "# Define certain functions:\n",
    "def getContinent(s):\n",
    "    import pycountry as pc\n",
    "    import pycountry_convert as pcc\n",
    "    lookuperrors = {\n",
    "        'ivory coast':'AF',\n",
    "        'republic of ireland': 'EU',\n",
    "        'dr congo': 'AF',\n",
    "        'trinidad & tobago': 'NA',\n",
    "        'korea republic': 'AS',\n",
    "        'fyr macedonia': 'EU',\n",
    "        'bosnia herzegovina': 'EU',\n",
    "        'st kitts nevis': 'NA',\n",
    "        'antigua & barbuda': 'NA',\n",
    "        'cape verde': 'AF',\n",
    "        'guinea bissau': 'AF',\n",
    "        'central african rep.': 'AF',\n",
    "        'korea dpr': 'AS',\n",
    "        'st lucia': 'NA',\n",
    "        'china pr': 'AS',\n",
    "        'chinese taipei': 'AS',\n",
    "        'são tomé & príncipe': 'AF',\n",
    "        'st vincent grenadine': 'NA',\n",
    "        'swaziland': 'AF',\n",
    "        'macau': 'AS'\n",
    "    }\n",
    "    try:\n",
    "        country = pc.countries.search_fuzzy(pc.remove_accents(s))\n",
    "    except LookupError as err:\n",
    "        try:\n",
    "            return lookuperrors[s]\n",
    "        except:\n",
    "            return '__'\n",
    "    return pcc.country_alpha2_to_continent_code(country[0].alpha_2)\n",
    "def createContinent(data=[]):\n",
    "    # 1. Get the set of all possible countries\n",
    "    countries = {}\n",
    "    for datx in data:\n",
    "        for ct in datx:\n",
    "            countries[ct] = None\n",
    "    # 2. Get continent\n",
    "    for ct in countries.keys():\n",
    "        countries[ct] = getContinent(ct)\n",
    "    # 3. Print mismatches to improve function\n",
    "    for key,value in countries.items():\n",
    "        if value == '__':\n",
    "            print('NEW Mismatch:',key)\n",
    "    return countries.copy()"
   ]
  },
  {
   "cell_type": "code",
   "execution_count": 39,
   "metadata": {},
   "outputs": [
    {
     "name": "stdout",
     "output_type": "stream",
     "text": [
      "Loading Data\n",
      "Sorting Data\n",
      "Converting Data\n"
     ]
    }
   ],
   "source": [
    "directory = 'tmpdata/'\n",
    "years = (15,16,17,18,19,20)\n",
    "# Load data\n",
    "print(\"Loading Data\")\n",
    "fifa_data = {\n",
    "    y:np.array(\n",
    "        np.loadtxt(\n",
    "            directory+'players_'+str(y)+'.csv', skiprows=1, usecols=(0,4,8,10,11), delimiter=',',\n",
    "            dtype={\n",
    "                'names': ('sofifa_id','age','nationality', 'overall', 'potential'),\n",
    "                'formats': (np.int,np.int8,'U20', np.int8, np.int8)\n",
    "            }\n",
    "        )\n",
    "    ) for y in years\n",
    "}\n",
    "# Sort rows by sofifa_id\n",
    "print(\"Sorting Data\")\n",
    "fifa_data = { y:datx[np.argsort(np.array([el[0] for el in datx]))] for y,datx in fifa_data.items() }\n",
    "# Convert each data into a dictionary\n",
    "print(\"Converting Data\")\n",
    "fifa_data = {\n",
    "    y:{\n",
    "        'id':np.array([el[0] for el in datx]),\n",
    "        'age':np.array([el[1] for el in datx]),\n",
    "        'nat':np.array([el[2].lower() for el in datx]),\n",
    "        'ove':np.array([el[3] for el in datx]),\n",
    "        # 'cont':np.array([getContinent(el[2].lower()) for index,el in tqdm(np.ndenumerate(datx))])\n",
    "\n",
    "    }\n",
    "    for y,datx in fifa_data.items()\n",
    "}\n",
    "del directory"
   ]
  },
  {
   "cell_type": "code",
   "execution_count": 40,
   "metadata": {},
   "outputs": [
    {
     "name": "stdout",
     "output_type": "stream",
     "text": [
      "Creating continent dictionary\n",
      "Creating continent 'key'\n"
     ]
    }
   ],
   "source": [
    "# Create continent dictionary\n",
    "print(\"Creating continent dictionary\")\n",
    "dict_of_countries = createContinent([\n",
    "    datx['nat'] for y,datx in fifa_data.items()\n",
    "])\n",
    "# Create continent \"key\" or column\n",
    "print(\"Creating continent 'key'\")\n",
    "for y in years:\n",
    "    fifa_data[y]['cont'] = np.array([dict_of_countries[ct] for ct in fifa_data[y]['nat']])"
   ]
  },
  {
   "cell_type": "code",
   "execution_count": 41,
   "metadata": {},
   "outputs": [],
   "source": [
    "# Create the improve dictionary (remove id's and overall)\n",
    "improvement = {\n",
    "    'age' : np.array([],dtype=np.int8),\n",
    "    'delta' : np.array([],dtype=np.int8),\n",
    "    'cont' : np.array([])\n",
    "}\n",
    "# Find intersects to update the im\n",
    "for it in range(len(years)-1):\n",
    "    ys = years[it:it+2]\n",
    "    common_ids = np.intersect1d(fifa_data[ys[0]]['id'],fifa_data[ys[1]]['id'])\n",
    "    id1 = np.isin(fifa_data[ys[0]]['id'],common_ids)\n",
    "    id2 = np.isin(fifa_data[ys[1]]['id'],common_ids)\n",
    "    improvement['age'] = np.concatenate((improvement['age'],fifa_data[ys[0]]['age'][id1]))\n",
    "    improvement['cont'] = np.concatenate((improvement['cont'],fifa_data[ys[0]]['cont'][id1]))\n",
    "    improvement['delta'] = np.concatenate((improvement['delta'],fifa_data[ys[1]]['ove'][id2]-fifa_data[ys[0]]['ove'][id1]))"
   ]
  },
  {
   "cell_type": "code",
   "execution_count": 42,
   "metadata": {},
   "outputs": [],
   "source": [
    "# this function returns the counts for improvements\n",
    "def getN(v):\n",
    "    N = {\n",
    "        'mejora':0,\n",
    "        'desmejora':0,\n",
    "        'igual':0\n",
    "    }\n",
    "    def updateN(v):\n",
    "        if v == 0:\n",
    "            N['igual'] += 1\n",
    "        elif v > 0:\n",
    "            N['mejora'] += 1\n",
    "        else:\n",
    "            N['desmejora'] += 1\n",
    "    V_updateN = np.vectorize(updateN)\n",
    "    if len(v) > 0:\n",
    "        V_updateN(v)\n",
    "    # updates proportions\n",
    "    Ntot = max(1,np.sum(list(N.values())))\n",
    "    for key in N.keys():\n",
    "        N[key] = [N[key]/Ntot]\n",
    "    N['#'] = [Ntot]\n",
    "    return N.copy()"
   ]
  },
  {
   "cell_type": "markdown",
   "metadata": {},
   "source": [
    "## Tablas: totales, dependiendo de la edad, dependiendo del continente, y dependiendo de la edad/continente\n",
    "> Vamos a filtrar datos con más de 100 puntos"
   ]
  },
  {
   "cell_type": "code",
   "execution_count": 43,
   "metadata": {},
   "outputs": [
    {
     "name": "stdout",
     "output_type": "stream",
     "text": [
      "Probabilidad total -frecuentista- de mejorar, desmejorar o mantenerse igual:\n"
     ]
    },
    {
     "data": {
      "text/html": [
       "<div>\n",
       "<style scoped>\n",
       "    .dataframe tbody tr th:only-of-type {\n",
       "        vertical-align: middle;\n",
       "    }\n",
       "\n",
       "    .dataframe tbody tr th {\n",
       "        vertical-align: top;\n",
       "    }\n",
       "\n",
       "    .dataframe thead th {\n",
       "        text-align: right;\n",
       "    }\n",
       "</style>\n",
       "<table border=\"1\" class=\"dataframe\">\n",
       "  <thead>\n",
       "    <tr style=\"text-align: right;\">\n",
       "      <th></th>\n",
       "      <th>mejora</th>\n",
       "      <th>desmejora</th>\n",
       "      <th>igual</th>\n",
       "      <th>#</th>\n",
       "    </tr>\n",
       "  </thead>\n",
       "  <tbody>\n",
       "    <tr>\n",
       "      <th>0</th>\n",
       "      <td>0.545084</td>\n",
       "      <td>0.221886</td>\n",
       "      <td>0.23303</td>\n",
       "      <td>59400</td>\n",
       "    </tr>\n",
       "  </tbody>\n",
       "</table>\n",
       "</div>"
      ],
      "text/plain": [
       "     mejora  desmejora    igual      #\n",
       "0  0.545084   0.221886  0.23303  59400"
      ]
     },
     "execution_count": 43,
     "metadata": {},
     "output_type": "execute_result"
    }
   ],
   "source": [
    "print(\"Probabilidad total -frecuentista- de mejorar, desmejorar o mantenerse igual:\")\n",
    "df_totals = pd.DataFrame.from_dict(getN(improvement['delta']))\n",
    "df_totals = df_totals[df_totals['#'] > 100]\n",
    "df_totals"
   ]
  },
  {
   "cell_type": "code",
   "execution_count": 44,
   "metadata": {},
   "outputs": [
    {
     "name": "stdout",
     "output_type": "stream",
     "text": [
      "Probabilidad por edades -frecuentista- de mejorar, desmejorar o mantenerse igual:\n"
     ]
    },
    {
     "data": {
      "text/html": [
       "<div>\n",
       "<style scoped>\n",
       "    .dataframe tbody tr th:only-of-type {\n",
       "        vertical-align: middle;\n",
       "    }\n",
       "\n",
       "    .dataframe tbody tr th {\n",
       "        vertical-align: top;\n",
       "    }\n",
       "\n",
       "    .dataframe thead th {\n",
       "        text-align: right;\n",
       "    }\n",
       "</style>\n",
       "<table border=\"1\" class=\"dataframe\">\n",
       "  <thead>\n",
       "    <tr style=\"text-align: right;\">\n",
       "      <th></th>\n",
       "      <th>edad</th>\n",
       "      <th>#</th>\n",
       "      <th>mejora</th>\n",
       "      <th>desmejora</th>\n",
       "      <th>igual</th>\n",
       "    </tr>\n",
       "  </thead>\n",
       "  <tbody>\n",
       "    <tr>\n",
       "      <th>1</th>\n",
       "      <td>17</td>\n",
       "      <td>845</td>\n",
       "      <td>0.769231</td>\n",
       "      <td>0.054438</td>\n",
       "      <td>0.176331</td>\n",
       "    </tr>\n",
       "    <tr>\n",
       "      <th>2</th>\n",
       "      <td>18</td>\n",
       "      <td>2130</td>\n",
       "      <td>0.772770</td>\n",
       "      <td>0.044131</td>\n",
       "      <td>0.183099</td>\n",
       "    </tr>\n",
       "    <tr>\n",
       "      <th>3</th>\n",
       "      <td>19</td>\n",
       "      <td>3223</td>\n",
       "      <td>0.745579</td>\n",
       "      <td>0.071983</td>\n",
       "      <td>0.182439</td>\n",
       "    </tr>\n",
       "    <tr>\n",
       "      <th>4</th>\n",
       "      <td>20</td>\n",
       "      <td>4011</td>\n",
       "      <td>0.720519</td>\n",
       "      <td>0.084019</td>\n",
       "      <td>0.195462</td>\n",
       "    </tr>\n",
       "    <tr>\n",
       "      <th>5</th>\n",
       "      <td>21</td>\n",
       "      <td>4465</td>\n",
       "      <td>0.688018</td>\n",
       "      <td>0.129003</td>\n",
       "      <td>0.182979</td>\n",
       "    </tr>\n",
       "    <tr>\n",
       "      <th>6</th>\n",
       "      <td>22</td>\n",
       "      <td>4725</td>\n",
       "      <td>0.655238</td>\n",
       "      <td>0.145185</td>\n",
       "      <td>0.199577</td>\n",
       "    </tr>\n",
       "    <tr>\n",
       "      <th>7</th>\n",
       "      <td>23</td>\n",
       "      <td>4833</td>\n",
       "      <td>0.609559</td>\n",
       "      <td>0.187461</td>\n",
       "      <td>0.202980</td>\n",
       "    </tr>\n",
       "    <tr>\n",
       "      <th>8</th>\n",
       "      <td>24</td>\n",
       "      <td>4849</td>\n",
       "      <td>0.563209</td>\n",
       "      <td>0.205197</td>\n",
       "      <td>0.231594</td>\n",
       "    </tr>\n",
       "    <tr>\n",
       "      <th>9</th>\n",
       "      <td>25</td>\n",
       "      <td>4697</td>\n",
       "      <td>0.530977</td>\n",
       "      <td>0.224186</td>\n",
       "      <td>0.244837</td>\n",
       "    </tr>\n",
       "    <tr>\n",
       "      <th>10</th>\n",
       "      <td>26</td>\n",
       "      <td>4565</td>\n",
       "      <td>0.495728</td>\n",
       "      <td>0.253012</td>\n",
       "      <td>0.251260</td>\n",
       "    </tr>\n",
       "    <tr>\n",
       "      <th>11</th>\n",
       "      <td>27</td>\n",
       "      <td>4078</td>\n",
       "      <td>0.472536</td>\n",
       "      <td>0.268514</td>\n",
       "      <td>0.258950</td>\n",
       "    </tr>\n",
       "    <tr>\n",
       "      <th>12</th>\n",
       "      <td>28</td>\n",
       "      <td>3781</td>\n",
       "      <td>0.428458</td>\n",
       "      <td>0.299656</td>\n",
       "      <td>0.271886</td>\n",
       "    </tr>\n",
       "    <tr>\n",
       "      <th>13</th>\n",
       "      <td>29</td>\n",
       "      <td>3259</td>\n",
       "      <td>0.403805</td>\n",
       "      <td>0.320957</td>\n",
       "      <td>0.275238</td>\n",
       "    </tr>\n",
       "    <tr>\n",
       "      <th>14</th>\n",
       "      <td>30</td>\n",
       "      <td>2739</td>\n",
       "      <td>0.372034</td>\n",
       "      <td>0.338080</td>\n",
       "      <td>0.289887</td>\n",
       "    </tr>\n",
       "    <tr>\n",
       "      <th>15</th>\n",
       "      <td>31</td>\n",
       "      <td>2151</td>\n",
       "      <td>0.359368</td>\n",
       "      <td>0.398419</td>\n",
       "      <td>0.242213</td>\n",
       "    </tr>\n",
       "    <tr>\n",
       "      <th>16</th>\n",
       "      <td>32</td>\n",
       "      <td>1759</td>\n",
       "      <td>0.313815</td>\n",
       "      <td>0.378056</td>\n",
       "      <td>0.308130</td>\n",
       "    </tr>\n",
       "    <tr>\n",
       "      <th>17</th>\n",
       "      <td>33</td>\n",
       "      <td>1263</td>\n",
       "      <td>0.302454</td>\n",
       "      <td>0.424386</td>\n",
       "      <td>0.273159</td>\n",
       "    </tr>\n",
       "    <tr>\n",
       "      <th>18</th>\n",
       "      <td>34</td>\n",
       "      <td>897</td>\n",
       "      <td>0.280936</td>\n",
       "      <td>0.372352</td>\n",
       "      <td>0.346711</td>\n",
       "    </tr>\n",
       "    <tr>\n",
       "      <th>19</th>\n",
       "      <td>35</td>\n",
       "      <td>489</td>\n",
       "      <td>0.269939</td>\n",
       "      <td>0.490798</td>\n",
       "      <td>0.239264</td>\n",
       "    </tr>\n",
       "    <tr>\n",
       "      <th>20</th>\n",
       "      <td>36</td>\n",
       "      <td>289</td>\n",
       "      <td>0.307958</td>\n",
       "      <td>0.432526</td>\n",
       "      <td>0.259516</td>\n",
       "    </tr>\n",
       "    <tr>\n",
       "      <th>21</th>\n",
       "      <td>37</td>\n",
       "      <td>152</td>\n",
       "      <td>0.302632</td>\n",
       "      <td>0.460526</td>\n",
       "      <td>0.236842</td>\n",
       "    </tr>\n",
       "  </tbody>\n",
       "</table>\n",
       "</div>"
      ],
      "text/plain": [
       "   edad     #    mejora  desmejora     igual\n",
       "1    17   845  0.769231   0.054438  0.176331\n",
       "2    18  2130  0.772770   0.044131  0.183099\n",
       "3    19  3223  0.745579   0.071983  0.182439\n",
       "4    20  4011  0.720519   0.084019  0.195462\n",
       "5    21  4465  0.688018   0.129003  0.182979\n",
       "6    22  4725  0.655238   0.145185  0.199577\n",
       "7    23  4833  0.609559   0.187461  0.202980\n",
       "8    24  4849  0.563209   0.205197  0.231594\n",
       "9    25  4697  0.530977   0.224186  0.244837\n",
       "10   26  4565  0.495728   0.253012  0.251260\n",
       "11   27  4078  0.472536   0.268514  0.258950\n",
       "12   28  3781  0.428458   0.299656  0.271886\n",
       "13   29  3259  0.403805   0.320957  0.275238\n",
       "14   30  2739  0.372034   0.338080  0.289887\n",
       "15   31  2151  0.359368   0.398419  0.242213\n",
       "16   32  1759  0.313815   0.378056  0.308130\n",
       "17   33  1263  0.302454   0.424386  0.273159\n",
       "18   34   897  0.280936   0.372352  0.346711\n",
       "19   35   489  0.269939   0.490798  0.239264\n",
       "20   36   289  0.307958   0.432526  0.259516\n",
       "21   37   152  0.302632   0.460526  0.236842"
      ]
     },
     "execution_count": 44,
     "metadata": {},
     "output_type": "execute_result"
    }
   ],
   "source": [
    "print(\"Probabilidad por edades -frecuentista- de mejorar, desmejorar o mantenerse igual:\")\n",
    "ages = np.unique(improvement['age'])\n",
    "df_age = pd.DataFrame(columns=['edad','#','mejora','desmejora','igual'])\n",
    "for age in ages:\n",
    "    tmpdf = pd.DataFrame.from_dict(getN(improvement['delta'][improvement['age'] == age]))\n",
    "    tmpdf['edad'] = age\n",
    "    df_age = pd.concat((df_age,tmpdf),ignore_index=True)\n",
    "    del tmpdf\n",
    "df_age = df_age[df_age['#'] > 100]\n",
    "df_age"
   ]
  },
  {
   "cell_type": "code",
   "execution_count": 45,
   "metadata": {},
   "outputs": [
    {
     "data": {
      "image/png": "[encoded data removed]",
      "text/plain": [
       "<Figure size 864x432 with 3 Axes>"
      ]
     },
     "metadata": {
      "needs_background": "light"
     },
     "output_type": "display_data"
    }
   ],
   "source": [
    "fig, (ax_l, ax_c, ax_r) = plt.subplots(nrows=1, ncols=3, sharex=True, figsize=(12, 6))\n",
    "sns.scatterplot(x=\"edad\", y=\"mejora\", data=df_age, ax=ax_l, color=sns.xkcd_rgb[\"windows blue\"])\n",
    "sns.scatterplot(x=\"edad\", y=\"desmejora\", data=df_age, ax = ax_c, color=sns.xkcd_rgb[\"amber\"])\n",
    "sns.scatterplot(x=\"edad\", y=\"igual\", data=df_age, ax = ax_r, color=sns.xkcd_rgb[\"faded green\"])\n",
    "ax_l.set_ylim(0,1); ax_c.set_ylim(0,1); ax_r.set_ylim(0,1);\n",
    "del fig, ax_l, ax_c, ax_r"
   ]
  },
  {
   "cell_type": "code",
   "execution_count": 46,
   "metadata": {},
   "outputs": [
    {
     "name": "stdout",
     "output_type": "stream",
     "text": [
      "Probabilidad por continentes -frecuentista- de mejorar, desmejorar o mantenerse igual:\n"
     ]
    },
    {
     "data": {
      "text/html": [
       "<div>\n",
       "<style scoped>\n",
       "    .dataframe tbody tr th:only-of-type {\n",
       "        vertical-align: middle;\n",
       "    }\n",
       "\n",
       "    .dataframe tbody tr th {\n",
       "        vertical-align: top;\n",
       "    }\n",
       "\n",
       "    .dataframe thead th {\n",
       "        text-align: right;\n",
       "    }\n",
       "</style>\n",
       "<table border=\"1\" class=\"dataframe\">\n",
       "  <thead>\n",
       "    <tr style=\"text-align: right;\">\n",
       "      <th></th>\n",
       "      <th>continente</th>\n",
       "      <th>#</th>\n",
       "      <th>mejora</th>\n",
       "      <th>desmejora</th>\n",
       "      <th>igual</th>\n",
       "    </tr>\n",
       "  </thead>\n",
       "  <tbody>\n",
       "    <tr>\n",
       "      <th>0</th>\n",
       "      <td>AF</td>\n",
       "      <td>3847</td>\n",
       "      <td>0.549259</td>\n",
       "      <td>0.236808</td>\n",
       "      <td>0.213933</td>\n",
       "    </tr>\n",
       "    <tr>\n",
       "      <th>1</th>\n",
       "      <td>AS</td>\n",
       "      <td>4780</td>\n",
       "      <td>0.486402</td>\n",
       "      <td>0.258787</td>\n",
       "      <td>0.254812</td>\n",
       "    </tr>\n",
       "    <tr>\n",
       "      <th>2</th>\n",
       "      <td>EU</td>\n",
       "      <td>36881</td>\n",
       "      <td>0.562132</td>\n",
       "      <td>0.219300</td>\n",
       "      <td>0.218568</td>\n",
       "    </tr>\n",
       "    <tr>\n",
       "      <th>3</th>\n",
       "      <td>NA</td>\n",
       "      <td>3274</td>\n",
       "      <td>0.518326</td>\n",
       "      <td>0.230910</td>\n",
       "      <td>0.250764</td>\n",
       "    </tr>\n",
       "    <tr>\n",
       "      <th>4</th>\n",
       "      <td>OC</td>\n",
       "      <td>838</td>\n",
       "      <td>0.564439</td>\n",
       "      <td>0.207637</td>\n",
       "      <td>0.227924</td>\n",
       "    </tr>\n",
       "    <tr>\n",
       "      <th>5</th>\n",
       "      <td>SA</td>\n",
       "      <td>9785</td>\n",
       "      <td>0.515074</td>\n",
       "      <td>0.206132</td>\n",
       "      <td>0.278794</td>\n",
       "    </tr>\n",
       "  </tbody>\n",
       "</table>\n",
       "</div>"
      ],
      "text/plain": [
       "  continente      #    mejora  desmejora     igual\n",
       "0         AF   3847  0.549259   0.236808  0.213933\n",
       "1         AS   4780  0.486402   0.258787  0.254812\n",
       "2         EU  36881  0.562132   0.219300  0.218568\n",
       "3         NA   3274  0.518326   0.230910  0.250764\n",
       "4         OC    838  0.564439   0.207637  0.227924\n",
       "5         SA   9785  0.515074   0.206132  0.278794"
      ]
     },
     "execution_count": 46,
     "metadata": {},
     "output_type": "execute_result"
    }
   ],
   "source": [
    "print(\"Probabilidad por continentes -frecuentista- de mejorar, desmejorar o mantenerse igual:\")\n",
    "conts = np.unique(improvement['cont'])\n",
    "df_cont = pd.DataFrame(columns=['continente','#','mejora','desmejora','igual'])\n",
    "for cont in conts:\n",
    "    tmpdf = pd.DataFrame.from_dict(getN(improvement['delta'][improvement['cont'] == cont]))\n",
    "    tmpdf['continente'] = cont\n",
    "    df_cont = pd.concat((df_cont,tmpdf),ignore_index=True)\n",
    "    del tmpdf\n",
    "df_cont = df_cont[df_cont['#'] > 100]\n",
    "df_cont"
   ]
  },
  {
   "cell_type": "code",
   "execution_count": 47,
   "metadata": {},
   "outputs": [
    {
     "data": {
      "image/png": "[encoded data removed]",
      "text/plain": [
       "<Figure size 864x432 with 3 Axes>"
      ]
     },
     "metadata": {
      "needs_background": "light"
     },
     "output_type": "display_data"
    }
   ],
   "source": [
    "fig, (ax_l, ax_c, ax_r) = plt.subplots(nrows=1, ncols=3, figsize=(12, 6))\n",
    "sns.barplot(x=\"continente\", y=\"mejora\", data=df_cont, ax=ax_l, order=df_cont.sort_values('mejora',ascending=False)['continente'])\n",
    "sns.barplot(x=\"continente\", y=\"desmejora\", data=df_cont, ax = ax_c, order=df_cont.sort_values('desmejora',ascending=False)['continente'])\n",
    "sns.barplot(x=\"continente\", y=\"igual\", data=df_cont, ax = ax_r, order=df_cont.sort_values('igual',ascending=False)['continente'])\n",
    "ax_l.set_ylim(0,1); ax_c.set_ylim(0,1); ax_r.set_ylim(0,1);\n",
    "del fig, ax_l, ax_c, ax_r"
   ]
  },
  {
   "cell_type": "code",
   "execution_count": 48,
   "metadata": {},
   "outputs": [
    {
     "name": "stdout",
     "output_type": "stream",
     "text": [
      "Probabilidad por edades y continentes -frecuentista- de mejorar, desmejorar o mantenerse igual:\n"
     ]
    },
    {
     "data": {
      "text/html": [
       "<div>\n",
       "<style scoped>\n",
       "    .dataframe tbody tr th:only-of-type {\n",
       "        vertical-align: middle;\n",
       "    }\n",
       "\n",
       "    .dataframe tbody tr th {\n",
       "        vertical-align: top;\n",
       "    }\n",
       "\n",
       "    .dataframe thead th {\n",
       "        text-align: right;\n",
       "    }\n",
       "</style>\n",
       "<table border=\"1\" class=\"dataframe\">\n",
       "  <thead>\n",
       "    <tr style=\"text-align: right;\">\n",
       "      <th></th>\n",
       "      <th>continente</th>\n",
       "      <th>edad</th>\n",
       "      <th>#</th>\n",
       "      <th>mejora</th>\n",
       "      <th>desmejora</th>\n",
       "      <th>igual</th>\n",
       "    </tr>\n",
       "  </thead>\n",
       "  <tbody>\n",
       "    <tr>\n",
       "      <th>2</th>\n",
       "      <td>AF</td>\n",
       "      <td>18</td>\n",
       "      <td>116</td>\n",
       "      <td>0.810345</td>\n",
       "      <td>0.060345</td>\n",
       "      <td>0.129310</td>\n",
       "    </tr>\n",
       "    <tr>\n",
       "      <th>3</th>\n",
       "      <td>AF</td>\n",
       "      <td>19</td>\n",
       "      <td>201</td>\n",
       "      <td>0.756219</td>\n",
       "      <td>0.084577</td>\n",
       "      <td>0.159204</td>\n",
       "    </tr>\n",
       "    <tr>\n",
       "      <th>4</th>\n",
       "      <td>AF</td>\n",
       "      <td>20</td>\n",
       "      <td>287</td>\n",
       "      <td>0.707317</td>\n",
       "      <td>0.083624</td>\n",
       "      <td>0.209059</td>\n",
       "    </tr>\n",
       "    <tr>\n",
       "      <th>5</th>\n",
       "      <td>AF</td>\n",
       "      <td>21</td>\n",
       "      <td>306</td>\n",
       "      <td>0.722222</td>\n",
       "      <td>0.124183</td>\n",
       "      <td>0.153595</td>\n",
       "    </tr>\n",
       "    <tr>\n",
       "      <th>6</th>\n",
       "      <td>AF</td>\n",
       "      <td>22</td>\n",
       "      <td>344</td>\n",
       "      <td>0.651163</td>\n",
       "      <td>0.177326</td>\n",
       "      <td>0.171512</td>\n",
       "    </tr>\n",
       "    <tr>\n",
       "      <th>...</th>\n",
       "      <td>...</td>\n",
       "      <td>...</td>\n",
       "      <td>...</td>\n",
       "      <td>...</td>\n",
       "      <td>...</td>\n",
       "      <td>...</td>\n",
       "    </tr>\n",
       "    <tr>\n",
       "      <th>170</th>\n",
       "      <td>SA</td>\n",
       "      <td>31</td>\n",
       "      <td>380</td>\n",
       "      <td>0.407895</td>\n",
       "      <td>0.331579</td>\n",
       "      <td>0.260526</td>\n",
       "    </tr>\n",
       "    <tr>\n",
       "      <th>171</th>\n",
       "      <td>SA</td>\n",
       "      <td>32</td>\n",
       "      <td>406</td>\n",
       "      <td>0.298030</td>\n",
       "      <td>0.285714</td>\n",
       "      <td>0.416256</td>\n",
       "    </tr>\n",
       "    <tr>\n",
       "      <th>172</th>\n",
       "      <td>SA</td>\n",
       "      <td>33</td>\n",
       "      <td>334</td>\n",
       "      <td>0.299401</td>\n",
       "      <td>0.335329</td>\n",
       "      <td>0.365269</td>\n",
       "    </tr>\n",
       "    <tr>\n",
       "      <th>173</th>\n",
       "      <td>SA</td>\n",
       "      <td>34</td>\n",
       "      <td>295</td>\n",
       "      <td>0.216949</td>\n",
       "      <td>0.240678</td>\n",
       "      <td>0.542373</td>\n",
       "    </tr>\n",
       "    <tr>\n",
       "      <th>174</th>\n",
       "      <td>SA</td>\n",
       "      <td>35</td>\n",
       "      <td>114</td>\n",
       "      <td>0.385965</td>\n",
       "      <td>0.377193</td>\n",
       "      <td>0.236842</td>\n",
       "    </tr>\n",
       "  </tbody>\n",
       "</table>\n",
       "<p>79 rows × 6 columns</p>\n",
       "</div>"
      ],
      "text/plain": [
       "    continente edad    #    mejora  desmejora     igual\n",
       "2           AF   18  116  0.810345   0.060345  0.129310\n",
       "3           AF   19  201  0.756219   0.084577  0.159204\n",
       "4           AF   20  287  0.707317   0.083624  0.209059\n",
       "5           AF   21  306  0.722222   0.124183  0.153595\n",
       "6           AF   22  344  0.651163   0.177326  0.171512\n",
       "..         ...  ...  ...       ...        ...       ...\n",
       "170         SA   31  380  0.407895   0.331579  0.260526\n",
       "171         SA   32  406  0.298030   0.285714  0.416256\n",
       "172         SA   33  334  0.299401   0.335329  0.365269\n",
       "173         SA   34  295  0.216949   0.240678  0.542373\n",
       "174         SA   35  114  0.385965   0.377193  0.236842\n",
       "\n",
       "[79 rows x 6 columns]"
      ]
     },
     "execution_count": 48,
     "metadata": {},
     "output_type": "execute_result"
    }
   ],
   "source": [
    "print(\"Probabilidad por edades y continentes -frecuentista- de mejorar, desmejorar o mantenerse igual:\")\n",
    "ages = np.unique(improvement['age'])\n",
    "conts = np.unique(improvement['cont'])\n",
    "df_age_cont = pd.DataFrame(columns=['continente','edad','#','mejora','desmejora','igual'])\n",
    "for cont in conts:\n",
    "    for age in ages:\n",
    "        tmpdf = pd.DataFrame.from_dict(\n",
    "            getN(improvement['delta'][\n",
    "                np.logical_and(\n",
    "                    improvement['cont'] == cont,\n",
    "                    improvement['age'] == age\n",
    "                )\n",
    "            ])\n",
    "        )\n",
    "        tmpdf['edad'] = age\n",
    "        tmpdf['continente'] = cont\n",
    "        df_age_cont = pd.concat((df_age_cont,tmpdf),ignore_index=True)\n",
    "        del tmpdf\n",
    "df_age_cont = df_age_cont[df_age_cont['#'] > 100]\n",
    "df_age_cont"
   ]
  },
  {
   "cell_type": "code",
   "execution_count": 49,
   "metadata": {},
   "outputs": [
    {
     "data": {
      "image/png": "[encoded data removed]",
      "text/plain": [
       "<Figure size 1080x648 with 3 Axes>"
      ]
     },
     "metadata": {
      "needs_background": "light"
     },
     "output_type": "display_data"
    }
   ],
   "source": [
    "fig, (ax_l, ax_c, ax_r) = plt.subplots(nrows=1, ncols=3, sharex=True, figsize=(15, 9))\n",
    "sns.scatterplot(x=\"edad\", y=\"mejora\", data=df_age_cont, hue='continente', style='continente', ax=ax_l)\n",
    "sns.scatterplot(x=\"edad\", y=\"desmejora\", data=df_age_cont, hue='continente', style='continente', ax = ax_c)\n",
    "sns.scatterplot(x=\"edad\", y=\"igual\", data=df_age_cont, hue='continente', style='continente', ax = ax_r)\n",
    "ax_l.set_ylim(0,1); ax_c.set_ylim(0,1); ax_r.set_ylim(0,1);\n",
    "del fig, ax_l, ax_c, ax_r"
   ]
  },
  {
   "cell_type": "code",
   "execution_count": null,
   "metadata": {},
   "outputs": [],
   "source": []
  }
 ],
 "metadata": {
  "kernelspec": {
   "display_name": "fisi2028",
   "language": "python",
   "name": "fisi2028"
  },
  "language_info": {
   "codemirror_mode": {
    "name": "ipython",
    "version": 3
   },
   "file_extension": ".py",
   "mimetype": "text/x-python",
   "name": "python",
   "nbconvert_exporter": "python",
   "pygments_lexer": "ipython3",
   "version": "3.7.6"
  }
 },
 "nbformat": 4,
 "nbformat_minor": 4
}
