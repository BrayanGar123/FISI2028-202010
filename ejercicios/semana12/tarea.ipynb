{
 "cells": [
  {
   "cell_type": "code",
   "execution_count": 9,
   "metadata": {},
   "outputs": [],
   "source": [
    "import numpy as np\n",
    "\n",
    "import seaborn as sns; sns.set()\n",
    "import matplotlib.pyplot as plt\n",
    "import matplotlib as mpl\n",
    "%matplotlib inline"
   ]
  },
  {
   "cell_type": "markdown",
   "metadata": {},
   "source": [
    "Primero que todo espero que todos se encuentren bien. La siguiente tarea ud. debe resolver ambos ejercicios. Para compilar y ejecutar, utilice los siguientes comando desde la terminal:\n",
    "```bash\n",
    "g++ -std=c++11 tarea.cpp -o exe\n",
    "./exe\n",
    "```\n",
    "\n",
    "# Gauss-Jordan para inversión matricial\n",
    "\n",
    "En el archivo `tarea.cpp` escriba dos funciones que utilicen el método de Gauss-Jordan para *(i.)* invertir una matriz y *(ii.)* resolver un sistema lineal de $n$ ecuaciones con $n$ incógnitas; o equivalentemente hallar $\\mathbb{X}_{n\\times1}$ tal que $\\mathbb{A}_{n\\times n}\\mathbb{X}_{n\\times1}=\\mathbb{B}_{n\\times1}$. Las funciones deben arrojar error cuando no es *invertible*. **OJO:** ustedes deben determinar el criterio de no-independencia lineal con Gauss-Jordan.\n",
    "\n",
    "Prueben invirtiendo una matriz de Vandermonde de $4\\times4$. Llame el archivo `tarea1.cpp`.\n",
    "\n",
    "# Ecuación de difusión en *1D*\n",
    "\n",
    "El problema que vamos a resolver es el de difusión unidimensional en un medio. Este es un problema frecuente en derrames de crudo, disolución de solventes, propagación de gases contaminantes, y aunque no lo parezca, tráfico vehicular. El problema de difusión es hallar una cantidad de material u objetos que bajo unas reglas muy simples comienza a expandirse espacialmente. La ecuación diferencial es la siguiente:\n",
    "$$\n",
    "\\frac{\\partial U}{\\partial t}=\\frac{\\partial}{\\partial x}\\left(D(x)\\frac{\\partial U}{\\partial x}\\right),\n",
    "$$\n",
    "donde $U\\colon=U(x,t)$ es una función escalar que depende de la posición y el tiempo que representa esta cantidad de material y $D$ se conoce como el coeficiente de difusión que puede depender de la posición, por ejemplo cuando estamos en un medio no homogéneos. Pero por simplicidad vamos a asumir que el medio es homogéneo. Suponga que el medio tiene una longitud total $L$ (con paredes impermeables al material - $U(0,t)=U(L,t)=0$) y que en el instante $t=0$ <u>todo</u> el material está <u>concentrado</u> en un \"punto\" a una distancia $l<L/2$; *i.e.* $U(l,0)\\simeq1/\\delta x$. **Encuentre numéricamente como varía la concentración del material en función del tiempo y la distancia**. Para ello usted debe resolver numéricamente la ecuación diferencial usando la aproximación a las derivadas de primer y segundo orden con $N$ intervalos espaciales y $N_t$ intervalos temporales en un rango de tiempo de $0$ a $10$ segundos. Utilice una constante de difusión $D=0.5$. Sugiero usar las siguientes consideraciones:\n",
    "* Guarde el original de `tarea.cpp` en `tarea2.cpp`. Escriba en la función principal, `main`, todo lo relacionado con el problema de difusión. El programa debe pedirle que ingrese los parámetros $L$, $l$, $N$ y $N_t$.\n",
    "* Es muy difícil resolver el problema teniendo en cuenta todos los tiempos. ¿Entonces qué hacemos? Lo que se sugiere es escribir $U(x,t)$ como una función sólo de la posición para cada tiempo, $\\tilde{U}^{(t)}(x)$, e ir <u>evolucionando</u> conforme avanza. Así, sólo debemos conocer las condiciones iniciales porque un paso de tiempo $\\delta t$ posterior el nuevo $\\tilde{U}^{(t+\\delta t)}(x)$ es,\n",
    "$$\\tilde{U}^{(t+\\delta t)}(x)\\simeq\\tilde{U}^{(t)}(x)+\\delta t\\,D\\frac{\\partial^2 U}{\\partial x^2}.$$\n",
    "¿Cómo encontrar las condiciones iniciales? o $\\tilde{U}^{(0)}(x)$. Bueno, ese ya lo conocemos, ¿no?\n",
    "* En las aproximaciones a la segunda derivada, utilicen la aproximación central de $f''(x)\\delta x^2\\simeq f(x+\\delta x)-2f(x)+f(x-\\delta x)$\n",
    "* Varíe el número de divisiones para el intervalo de $0$ a $L$ que desea utilizar. ¿Cuál es el número mínimo de intervalos para que la solución tenga sentido?\n",
    "* Sugerencia: escriba el código en Python primero si está perdido. Luego escríbalo en `C++`.\n",
    "* En este problema usted no tiene que invertir ninguna matriz por lo que puede comenzar con este problema si prefiere."
   ]
  }
 ],
 "metadata": {
  "kernelspec": {
   "display_name": "Python [conda env:fisi2028]",
   "language": "python",
   "name": "conda-env-fisi2028-py"
  },
  "language_info": {
   "codemirror_mode": {
    "name": "ipython",
    "version": 3
   },
   "file_extension": ".py",
   "mimetype": "text/x-python",
   "name": "python",
   "nbconvert_exporter": "python",
   "pygments_lexer": "ipython3",
   "version": "3.7.6"
  }
 },
 "nbformat": 4,
 "nbformat_minor": 4
}
